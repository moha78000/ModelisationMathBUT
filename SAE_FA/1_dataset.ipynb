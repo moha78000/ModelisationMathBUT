{
 "cells": [
  {
   "cell_type": "markdown",
   "id": "0a361880",
   "metadata": {},
   "source": [
    "# Reconnaissance faciale via $k$ plus proches voisins ($k$-NN)\n",
    "\n",
    ">## Partie 1: Dataset"
   ]
  },
  {
   "cell_type": "markdown",
   "id": "9a9f35df",
   "metadata": {},
   "source": [
    "## Librairies"
   ]
  },
  {
   "cell_type": "markdown",
   "id": "d691df55",
   "metadata": {},
   "source": [
    "- La librairie `cv2` permet la détection automatique de visages, entre autres.\n",
    "\n",
    "- La librairie `pickle` permet de sauvegarder vos modèles une fois entraînés, et de les recharger pour pouvoir les utiliser."
   ]
  },
  {
   "cell_type": "code",
   "execution_count": 23,
   "id": "8a41298c",
   "metadata": {},
   "outputs": [],
   "source": [
    "import os\n",
    "\n",
    "import cv2\n",
    "import pickle\n",
    "\n",
    "import numpy as np\n",
    "\n",
    "import matplotlib.pyplot as plt"
   ]
  },
  {
   "cell_type": "markdown",
   "id": "2089bbe3",
   "metadata": {},
   "source": [
    "## Création du dataset"
   ]
  },
  {
   "cell_type": "markdown",
   "id": "b0183880",
   "metadata": {},
   "source": [
    "Le code suivant permet de créer un **dataset** d'images que vous utiliserez dans votre projet de **reconnaissance faciale**. Ce dataset contiendra des images de vous-même associées à votre nom ainsi que des images d'autres personnes (par exemple vos camarades) associées à leurs noms. **À chaque fois que vos relancez le code ci-dessous, votre caméra capture 10 images de la personne qui se trouve devant vootre PC et ajoute ces dernières à votre dataset.** \n",
    "\n",
    "Le code effectue les opérations suivantes. Premièrement, on lit le flux vidéo de votre caméra et on détecte automatiquement les visages dans chaque image de ce flux en utilisant le **classificateur en cascade de Haar (Haar cascade classifier)** de la librairie `OpenCV`. \n",
    "\n",
    "Plus précisément, tant que la variable `ret` est vraie, indiquant que le flux vidéo est lu correctement, pour chaque image capturée par la caméras, on effectue les opérations suivantes:\n",
    "1. on convertit l'image en niveaux de gris;\n",
    "2. on détecte les coordonnées du visage en utilisant le classificateur en cascade de Haar;\n",
    "3. on recadre la région du visage et la redimensionne en $50 \\times 50$ pixels;\n",
    "4. on ajoute l'image du visage redimensionné à la liste `donnees_visage`, à chaque intervalle de $10$ images.\n",
    "\n",
    "Une fois que $10$ images de votre visage ont été collecteés, ou si l'utilisateur appuye sur la touche `Esc`, on met fin à la boucle et enregistre les images dans la liste `donnees_visage` sous forme d'un tableau `NumPy`.\n",
    "\n",
    "Par la suite, l'existence des fichiers `noms.pkl` et `visages.pkl` est vérifiée. S'ils n'existent pas, de nouveaux fichiers sont créés, la variable `nom` est enregistrée dans `noms.pkl` et les données de visage sont enregistrées dans `visages.pkl`. Si ces fichiers existent déjà, le code charge les données existantes, ajoute les nouvelles données de visage et noms, et les réenregistre le tout dans ces fichiers."
   ]
  },
  {
   "cell_type": "code",
   "execution_count": 2,
   "id": "1ba3a98f",
   "metadata": {},
   "outputs": [
    {
     "name": "stdout",
     "output_type": "stream",
     "text": [
      "Entrez votre nom: Jeremie\n"
     ]
    }
   ],
   "source": [
    "# ================== #\n",
    "# Variables globales #\n",
    "# ================== #\n",
    "if not os.path.exists(\"data\"):\n",
    "    os.mkdir(\"data\")         # création d'un répertoire data\n",
    "\n",
    "nb_images_collectees = 10    # nombre d'image que vous voulez collecter\n",
    "\n",
    "donnees_visage = []\n",
    "\n",
    "camera = cv2.VideoCapture(0) # 0 pour 'built-in' caméra, 1 pour caméra externe\n",
    "\n",
    "cascade_visage = cv2.CascadeClassifier(cv2.data.haarcascades + 'haarcascade_frontalface_default.xml')\n",
    "\n",
    "\n",
    "\n",
    "# =============================== #\n",
    "# Capture des data: nom et images #\n",
    "# =============================== #\n",
    "nom = input(\"Entrez votre nom: \")\n",
    "\n",
    "ret = True\n",
    "i = 0\n",
    "\n",
    "while(ret):\n",
    "    \n",
    "    ret, frame = camera.read()\n",
    "    \n",
    "    if ret == True:\n",
    "        \n",
    "        gris = cv2.cvtColor(frame, cv2.COLOR_BGR2GRAY)\n",
    "\n",
    "        coordonnees_visage = cascade_visage.detectMultiScale(gris, 1.3, 4)\n",
    "\n",
    "        for (a, b, w, h) in coordonnees_visage:\n",
    "            \n",
    "            visages = frame[b:b+h, a:a+w, :]\n",
    "            visages_redimensionnes = cv2.resize(visages, (50, 50))\n",
    "            \n",
    "            if i % 10 == 0 and len(donnees_visage) < nb_images_collectees:\n",
    "                \n",
    "                donnees_visage.append(visages_redimensionnes)\n",
    "                \n",
    "            cv2.rectangle(frame, (a, b), (a+w, b+h), (255, 0, 0), 2)\n",
    "            \n",
    "        i += 1\n",
    "\n",
    "        cv2.imshow('Visages', frame)\n",
    "\n",
    "        if cv2.waitKey(1) == 27 or len(donnees_visage) >= nb_images_collectees:\n",
    "            \n",
    "            break\n",
    "    else:\n",
    "        \n",
    "        print('erreur')\n",
    "        break\n",
    "    \n",
    "\n",
    "cv2.destroyAllWindows()\n",
    "camera.release()\n",
    "\n",
    "donnees_visage = np.asarray(donnees_visage)\n",
    "# donnees_visage = donnees_visage.reshape(10, -1)\n",
    "\n",
    "\n",
    "# ====================================== #\n",
    "# Enregistrement des data: nom et images #\n",
    "# ====================================== #\n",
    "if 'noms.pkl' not in os.listdir('data/'):\n",
    "    \n",
    "    noms = [nom]*10\n",
    "    with open('data/noms.pkl', 'wb') as file:\n",
    "        pickle.dump(noms, file)\n",
    "else:\n",
    "    \n",
    "    with open('data/noms.pkl', 'rb') as file:\n",
    "        noms = pickle.load(file)\n",
    "\n",
    "    noms = noms + [nom]*10\n",
    "    with open('data/noms.pkl', 'wb') as file:\n",
    "        pickle.dump(noms, file)\n",
    "\n",
    "\n",
    "if 'visages.pkl' not in os.listdir('data/'):\n",
    "    \n",
    "    with open('data/visages.pkl', 'wb') as w:\n",
    "        pickle.dump(donnees_visage, w)\n",
    "else:\n",
    "    \n",
    "    with open('data/visages.pkl', 'rb') as w:\n",
    "        visages = pickle.load(w)\n",
    "\n",
    "    visages = np.append(visages, donnees_visage, axis=0)\n",
    "    with open('data/visages.pkl', 'wb') as w:\n",
    "        pickle.dump(visages, w)"
   ]
  },
  {
   "cell_type": "markdown",
   "id": "e3bec3e0",
   "metadata": {},
   "source": [
    "## Visualisation du dataset"
   ]
  },
  {
   "cell_type": "markdown",
   "id": "08df3d2c",
   "metadata": {},
   "source": [
    "Le instructions suivantes permettent de loader votre dataset et de comprendre comment sont stockées les data.\n",
    "\n",
    "Prêtez attention aux types de vos data, en particulier à la dimension de vos images, etc."
   ]
  },
  {
   "cell_type": "code",
   "execution_count": 3,
   "id": "c4c5cd3d",
   "metadata": {},
   "outputs": [],
   "source": [
    "with open(\"data/noms.pkl\", \"rb\") as fh:\n",
    "    noms = pickle.load(fh)"
   ]
  },
  {
   "cell_type": "code",
   "execution_count": 4,
   "id": "b3af5a29",
   "metadata": {},
   "outputs": [
    {
     "data": {
      "text/plain": [
       "['Jeremie',\n",
       " 'Jeremie',\n",
       " 'Jeremie',\n",
       " 'Jeremie',\n",
       " 'Jeremie',\n",
       " 'Jeremie',\n",
       " 'Jeremie',\n",
       " 'Jeremie',\n",
       " 'Jeremie',\n",
       " 'Jeremie']"
      ]
     },
     "execution_count": 4,
     "metadata": {},
     "output_type": "execute_result"
    }
   ],
   "source": [
    "noms"
   ]
  },
  {
   "cell_type": "code",
   "execution_count": 5,
   "id": "d7fc242c",
   "metadata": {},
   "outputs": [],
   "source": [
    "with open(\"data/visages.pkl\", \"rb\") as fh:\n",
    "    visages = pickle.load(fh)"
   ]
  },
  {
   "cell_type": "code",
   "execution_count": 6,
   "id": "10dab6d3",
   "metadata": {},
   "outputs": [
    {
     "data": {
      "text/plain": [
       "array([[[[130, 140, 138],\n",
       "         [136, 145, 144],\n",
       "         [138, 148, 146],\n",
       "         ...,\n",
       "         [254, 255, 253],\n",
       "         [215, 209, 195],\n",
       "         [204, 204, 191]],\n",
       "\n",
       "        [[130, 140, 139],\n",
       "         [136, 145, 144],\n",
       "         [138, 148, 146],\n",
       "         ...,\n",
       "         [255, 255, 253],\n",
       "         [220, 210, 196],\n",
       "         [207, 205, 192]],\n",
       "\n",
       "        [[130, 140, 139],\n",
       "         [137, 147, 145],\n",
       "         [138, 148, 146],\n",
       "         ...,\n",
       "         [255, 255, 253],\n",
       "         [228, 211, 198],\n",
       "         [208, 205, 192]],\n",
       "\n",
       "        ...,\n",
       "\n",
       "        [[ 60, 120, 179],\n",
       "         [ 51, 110, 171],\n",
       "         [ 42,  90, 148],\n",
       "         ...,\n",
       "         [192, 229, 249],\n",
       "         [227, 243, 250],\n",
       "         [241, 250, 252]],\n",
       "\n",
       "        [[ 56, 111, 168],\n",
       "         [ 45,  90, 143],\n",
       "         [ 38,  70, 119],\n",
       "         ...,\n",
       "         [147, 229, 252],\n",
       "         [146, 230, 255],\n",
       "         [148, 234, 253]],\n",
       "\n",
       "        [[ 79, 124, 174],\n",
       "         [ 77, 104, 143],\n",
       "         [114, 122, 148],\n",
       "         ...,\n",
       "         [130, 226, 253],\n",
       "         [132, 229, 254],\n",
       "         [131, 231, 254]]],\n",
       "\n",
       "\n",
       "       [[[132, 141, 142],\n",
       "         [136, 146, 144],\n",
       "         [146, 153, 152],\n",
       "         ...,\n",
       "         [255, 255, 253],\n",
       "         [250, 250, 246],\n",
       "         [213, 208, 195]],\n",
       "\n",
       "        [[134, 143, 142],\n",
       "         [141, 149, 148],\n",
       "         [152, 156, 157],\n",
       "         ...,\n",
       "         [255, 255, 253],\n",
       "         [253, 255, 252],\n",
       "         [214, 207, 195]],\n",
       "\n",
       "        [[133, 145, 144],\n",
       "         [136, 145, 145],\n",
       "         [137, 142, 147],\n",
       "         ...,\n",
       "         [254, 255, 252],\n",
       "         [254, 255, 253],\n",
       "         [218, 208, 196]],\n",
       "\n",
       "        ...,\n",
       "\n",
       "        [[105, 151, 185],\n",
       "         [ 83, 147, 201],\n",
       "         [ 80, 149, 209],\n",
       "         ...,\n",
       "         [252, 255, 254],\n",
       "         [252, 255, 253],\n",
       "         [255, 255, 253]],\n",
       "\n",
       "        [[ 67, 130, 186],\n",
       "         [ 68, 130, 190],\n",
       "         [ 56, 117, 179],\n",
       "         ...,\n",
       "         [248, 255, 251],\n",
       "         [252, 254, 252],\n",
       "         [255, 255, 253]],\n",
       "\n",
       "        [[ 52, 109, 168],\n",
       "         [ 39,  86, 140],\n",
       "         [ 22,  60, 112],\n",
       "         ...,\n",
       "         [168, 229, 253],\n",
       "         [189, 230, 252],\n",
       "         [205, 231, 247]]],\n",
       "\n",
       "\n",
       "       [[[120, 132, 130],\n",
       "         [119, 128, 126],\n",
       "         [146, 154, 153],\n",
       "         ...,\n",
       "         [253, 253, 253],\n",
       "         [223, 221, 220],\n",
       "         [156, 159, 163]],\n",
       "\n",
       "        [[117, 127, 125],\n",
       "         [121, 130, 129],\n",
       "         [125, 135, 133],\n",
       "         ...,\n",
       "         [246, 246, 246],\n",
       "         [238, 235, 236],\n",
       "         [161, 164, 168]],\n",
       "\n",
       "        [[111, 120, 119],\n",
       "         [120, 129, 127],\n",
       "         [124, 133, 131],\n",
       "         ...,\n",
       "         [254, 255, 253],\n",
       "         [242, 242, 240],\n",
       "         [163, 165, 169]],\n",
       "\n",
       "        ...,\n",
       "\n",
       "        [[115,  98,  81],\n",
       "         [104,  84,  64],\n",
       "         [ 99,  76,  57],\n",
       "         ...,\n",
       "         [ 44,  30,  25],\n",
       "         [162, 163, 156],\n",
       "         [163, 165, 159]],\n",
       "\n",
       "        [[ 88,  93,  88],\n",
       "         [ 78,  74,  65],\n",
       "         [ 72,  67,  55],\n",
       "         ...,\n",
       "         [ 43,  31,  26],\n",
       "         [145, 146, 139],\n",
       "         [163, 165, 158]],\n",
       "\n",
       "        [[ 87,  91,  86],\n",
       "         [ 98,  95,  89],\n",
       "         [ 78,  73,  64],\n",
       "         ...,\n",
       "         [ 45,  33,  28],\n",
       "         [108, 104, 100],\n",
       "         [161, 163, 158]]],\n",
       "\n",
       "\n",
       "       ...,\n",
       "\n",
       "\n",
       "       [[[ 48,  51,  62],\n",
       "         [ 39,  43,  51],\n",
       "         [ 48,  49,  58],\n",
       "         ...,\n",
       "         [153, 163, 166],\n",
       "         [252, 255, 254],\n",
       "         [252, 255, 254]],\n",
       "\n",
       "        [[ 51,  52,  59],\n",
       "         [ 54,  56,  62],\n",
       "         [ 34,  35,  42],\n",
       "         ...,\n",
       "         [156, 166, 171],\n",
       "         [251, 255, 253],\n",
       "         [252, 255, 254]],\n",
       "\n",
       "        [[ 42,  43,  51],\n",
       "         [ 46,  48,  56],\n",
       "         [ 41,  43,  49],\n",
       "         ...,\n",
       "         [157, 167, 172],\n",
       "         [252, 255, 255],\n",
       "         [253, 255, 254]],\n",
       "\n",
       "        ...,\n",
       "\n",
       "        [[ 95,  96, 105],\n",
       "         [ 86,  91, 107],\n",
       "         [ 87,  95, 111],\n",
       "         ...,\n",
       "         [178, 184, 187],\n",
       "         [160, 168, 171],\n",
       "         [117, 128, 133]],\n",
       "\n",
       "        [[ 99, 100, 109],\n",
       "         [ 80,  85, 101],\n",
       "         [ 83,  90, 109],\n",
       "         ...,\n",
       "         [180, 186, 189],\n",
       "         [161, 168, 171],\n",
       "         [137, 146, 150]],\n",
       "\n",
       "        [[ 99, 101, 107],\n",
       "         [ 97, 103, 117],\n",
       "         [ 91,  98, 117],\n",
       "         ...,\n",
       "         [180, 186, 187],\n",
       "         [162, 169, 173],\n",
       "         [150, 158, 163]]],\n",
       "\n",
       "\n",
       "       [[[ 97,  86,  78],\n",
       "         [ 95,  83,  71],\n",
       "         [101,  87,  73],\n",
       "         ...,\n",
       "         [204, 208, 208],\n",
       "         [211, 216, 216],\n",
       "         [252, 255, 254]],\n",
       "\n",
       "        [[ 97,  86,  76],\n",
       "         [ 95,  83,  71],\n",
       "         [102,  88,  74],\n",
       "         ...,\n",
       "         [189, 190, 192],\n",
       "         [199, 202, 203],\n",
       "         [253, 255, 254]],\n",
       "\n",
       "        [[ 98,  88,  79],\n",
       "         [ 96,  84,  72],\n",
       "         [102,  88,  74],\n",
       "         ...,\n",
       "         [171, 173, 176],\n",
       "         [176, 176, 180],\n",
       "         [253, 255, 254]],\n",
       "\n",
       "        ...,\n",
       "\n",
       "        [[ 49,  45,  37],\n",
       "         [ 51,  47,  38],\n",
       "         [ 52,  48,  40],\n",
       "         ...,\n",
       "         [191, 198, 198],\n",
       "         [165, 173, 176],\n",
       "         [157, 167, 169]],\n",
       "\n",
       "        [[ 47,  45,  36],\n",
       "         [ 50,  47,  40],\n",
       "         [ 52,  48,  43],\n",
       "         ...,\n",
       "         [192, 199, 200],\n",
       "         [168, 176, 180],\n",
       "         [160, 168, 171]],\n",
       "\n",
       "        [[ 48,  46,  41],\n",
       "         [ 69,  77,  84],\n",
       "         [ 74, 113, 156],\n",
       "         ...,\n",
       "         [193, 200, 201],\n",
       "         [170, 178, 181],\n",
       "         [157, 165, 170]]],\n",
       "\n",
       "\n",
       "       [[[204, 213, 218],\n",
       "         [214, 221, 221],\n",
       "         [162, 151, 137],\n",
       "         ...,\n",
       "         [111, 112, 116],\n",
       "         [139, 138, 143],\n",
       "         [175, 174, 177]],\n",
       "\n",
       "        [[204, 213, 218],\n",
       "         [219, 225, 226],\n",
       "         [173, 167, 156],\n",
       "         ...,\n",
       "         [142, 142, 146],\n",
       "         [154, 154, 158],\n",
       "         [148, 147, 151]],\n",
       "\n",
       "        [[204, 213, 219],\n",
       "         [226, 231, 232],\n",
       "         [166, 160, 150],\n",
       "         ...,\n",
       "         [121, 121, 128],\n",
       "         [160, 158, 163],\n",
       "         [176, 174, 177]],\n",
       "\n",
       "        ...,\n",
       "\n",
       "        [[194, 168, 140],\n",
       "         [185, 164, 140],\n",
       "         [180, 172, 153],\n",
       "         ...,\n",
       "         [146, 170, 217],\n",
       "         [155, 184, 232],\n",
       "         [159, 189, 239]],\n",
       "\n",
       "        [[194, 167, 140],\n",
       "         [187, 167, 144],\n",
       "         [180, 173, 158],\n",
       "         ...,\n",
       "         [156, 182, 227],\n",
       "         [157, 187, 234],\n",
       "         [158, 190, 239]],\n",
       "\n",
       "        [[182, 150, 124],\n",
       "         [172, 147, 123],\n",
       "         [166, 157, 140],\n",
       "         ...,\n",
       "         [148, 176, 223],\n",
       "         [159, 189, 236],\n",
       "         [169, 198, 245]]]], dtype=uint8)"
      ]
     },
     "execution_count": 6,
     "metadata": {},
     "output_type": "execute_result"
    }
   ],
   "source": [
    "visages"
   ]
  },
  {
   "cell_type": "code",
   "execution_count": 7,
   "id": "a8436555",
   "metadata": {},
   "outputs": [
    {
     "data": {
      "text/plain": [
       "(10, 50, 50, 3)"
      ]
     },
     "execution_count": 7,
     "metadata": {},
     "output_type": "execute_result"
    }
   ],
   "source": [
    "visages.shape"
   ]
  },
  {
   "cell_type": "code",
   "execution_count": 9,
   "id": "1ef19a8e",
   "metadata": {},
   "outputs": [
    {
     "data": {
      "text/plain": [
       "(50, 50, 3)"
      ]
     },
     "execution_count": 9,
     "metadata": {},
     "output_type": "execute_result"
    }
   ],
   "source": [
    "sample_1 = visages[0]\n",
    "sample_1.shape"
   ]
  },
  {
   "cell_type": "code",
   "execution_count": 10,
   "id": "c3539263",
   "metadata": {},
   "outputs": [
    {
     "data": {
      "text/plain": [
       "<matplotlib.image.AxesImage at 0x7fca1bbd9850>"
      ]
     },
     "execution_count": 10,
     "metadata": {},
     "output_type": "execute_result"
    },
    {
     "data": {
      "image/png": "[encoded data removed]",
      "text/plain": [
       "<Figure size 432x288 with 1 Axes>"
      ]
     },
     "metadata": {
      "needs_background": "light"
     },
     "output_type": "display_data"
    }
   ],
   "source": [
    "plt.imshow(sample_1, interpolation=\"nearest\")"
   ]
  },
  {
   "cell_type": "code",
   "execution_count": 21,
   "id": "ac4aaef1",
   "metadata": {},
   "outputs": [
    {
     "data": {
      "text/plain": [
       "(50, 50, 3)"
      ]
     },
     "execution_count": 21,
     "metadata": {},
     "output_type": "execute_result"
    }
   ],
   "source": [
    "sample_2 = visages[5]\n",
    "sample_2.shape"
   ]
  },
  {
   "cell_type": "code",
   "execution_count": 22,
   "id": "ed489bfa",
   "metadata": {},
   "outputs": [
    {
     "data": {
      "text/plain": [
       "<matplotlib.image.AxesImage at 0x7fca1cee9e20>"
      ]
     },
     "execution_count": 22,
     "metadata": {},
     "output_type": "execute_result"
    },
    {
     "data": {
      "image/png": "[encoded data removed]",
      "text/plain": [
       "<Figure size 432x288 with 1 Axes>"
      ]
     },
     "metadata": {
      "needs_background": "light"
     },
     "output_type": "display_data"
    }
   ],
   "source": [
    "plt.imshow(sample_2, interpolation=\"nearest\")"
   ]
  },
  {
   "cell_type": "code",
   "execution_count": null,
   "id": "06a26147",
   "metadata": {},
   "outputs": [],
   "source": []
  }
 ],
 "metadata": {
  "kernelspec": {
   "display_name": "base",
   "language": "python",
   "name": "base"
  },
  "language_info": {
   "codemirror_mode": {
    "name": "ipython",
    "version": 3
   },
   "file_extension": ".py",
   "mimetype": "text/x-python",
   "name": "python",
   "nbconvert_exporter": "python",
   "pygments_lexer": "ipython3",
   "version": "3.9.5"
  }
 },
 "nbformat": 4,
 "nbformat_minor": 5
}
