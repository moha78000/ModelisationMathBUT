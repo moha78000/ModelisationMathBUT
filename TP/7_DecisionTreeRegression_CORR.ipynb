{
 "cells": [
  {
   "cell_type": "markdown",
   "id": "58b3d60e",
   "metadata": {},
   "source": [
    "# Arbres de décision en Python: cas de la régression"
   ]
  },
  {
   "cell_type": "markdown",
   "id": "d1838c04",
   "metadata": {},
   "source": [
    "<table><tr>\n",
    "<td> <img src=\"files/figures/DT_1.png\" width=\"300px\"/> </td>\n",
    "<td> </td>\n",
    "<td> </td>\n",
    "<td> <img src=\"files/figures/DT_2.png\" width=\"300px\"/> </td>\n",
    "</tr></table>"
   ]
  },
  {
   "cell_type": "markdown",
   "id": "7d670aa3",
   "metadata": {},
   "source": [
    "## Librairies"
   ]
  },
  {
   "cell_type": "code",
   "execution_count": 6,
   "id": "d80fb6cd",
   "metadata": {},
   "outputs": [],
   "source": [
    "import pandas as pd\n",
    "import numpy as np\n",
    "from sklearn.model_selection import train_test_split\n",
    "from sklearn.metrics import mean_squared_error\n",
    "import matplotlib.pyplot as plt"
   ]
  },
  {
   "cell_type": "markdown",
   "id": "159601ec",
   "metadata": {},
   "source": [
    "## Loader les data"
   ]
  },
  {
   "cell_type": "code",
   "execution_count": 7,
   "id": "ae9c1bad",
   "metadata": {},
   "outputs": [],
   "source": [
    "data = pd.read_csv(\"./data/airfoil_self_noise.csv\", sep='\\t')"
   ]
  },
  {
   "cell_type": "code",
   "execution_count": 8,
   "id": "aa869341",
   "metadata": {},
   "outputs": [
    {
     "data": {
      "text/html": [
       "<div>\n",
       "<style scoped>\n",
       "    .dataframe tbody tr th:only-of-type {\n",
       "        vertical-align: middle;\n",
       "    }\n",
       "\n",
       "    .dataframe tbody tr th {\n",
       "        vertical-align: top;\n",
       "    }\n",
       "\n",
       "    .dataframe thead th {\n",
       "        text-align: right;\n",
       "    }\n",
       "</style>\n",
       "<table border=\"1\" class=\"dataframe\">\n",
       "  <thead>\n",
       "    <tr style=\"text-align: right;\">\n",
       "      <th></th>\n",
       "      <th>x0</th>\n",
       "      <th>x1</th>\n",
       "      <th>x2</th>\n",
       "      <th>x3</th>\n",
       "      <th>x4</th>\n",
       "      <th>y</th>\n",
       "    </tr>\n",
       "  </thead>\n",
       "  <tbody>\n",
       "    <tr>\n",
       "      <th>0</th>\n",
       "      <td>800</td>\n",
       "      <td>0.0</td>\n",
       "      <td>0.3048</td>\n",
       "      <td>71.3</td>\n",
       "      <td>0.002663</td>\n",
       "      <td>126.201</td>\n",
       "    </tr>\n",
       "    <tr>\n",
       "      <th>1</th>\n",
       "      <td>1000</td>\n",
       "      <td>0.0</td>\n",
       "      <td>0.3048</td>\n",
       "      <td>71.3</td>\n",
       "      <td>0.002663</td>\n",
       "      <td>125.201</td>\n",
       "    </tr>\n",
       "    <tr>\n",
       "      <th>2</th>\n",
       "      <td>1250</td>\n",
       "      <td>0.0</td>\n",
       "      <td>0.3048</td>\n",
       "      <td>71.3</td>\n",
       "      <td>0.002663</td>\n",
       "      <td>125.951</td>\n",
       "    </tr>\n",
       "    <tr>\n",
       "      <th>3</th>\n",
       "      <td>1600</td>\n",
       "      <td>0.0</td>\n",
       "      <td>0.3048</td>\n",
       "      <td>71.3</td>\n",
       "      <td>0.002663</td>\n",
       "      <td>127.591</td>\n",
       "    </tr>\n",
       "    <tr>\n",
       "      <th>4</th>\n",
       "      <td>2000</td>\n",
       "      <td>0.0</td>\n",
       "      <td>0.3048</td>\n",
       "      <td>71.3</td>\n",
       "      <td>0.002663</td>\n",
       "      <td>127.461</td>\n",
       "    </tr>\n",
       "  </tbody>\n",
       "</table>\n",
       "</div>"
      ],
      "text/plain": [
       "     x0   x1      x2    x3        x4        y\n",
       "0   800  0.0  0.3048  71.3  0.002663  126.201\n",
       "1  1000  0.0  0.3048  71.3  0.002663  125.201\n",
       "2  1250  0.0  0.3048  71.3  0.002663  125.951\n",
       "3  1600  0.0  0.3048  71.3  0.002663  127.591\n",
       "4  2000  0.0  0.3048  71.3  0.002663  127.461"
      ]
     },
     "execution_count": 8,
     "metadata": {},
     "output_type": "execute_result"
    }
   ],
   "source": [
    "data.head(5)"
   ]
  },
  {
   "cell_type": "markdown",
   "id": "bf1e055f",
   "metadata": {},
   "source": [
    "Nous allons prédire la variable `y` en fonction des variables `x0`, `x1`, `x2`, `x3`, `x4`."
   ]
  },
  {
   "cell_type": "markdown",
   "id": "fa3bd645",
   "metadata": {},
   "source": [
    "## Arbre de décision dans un contexte de régression"
   ]
  },
  {
   "cell_type": "markdown",
   "id": "709a819e",
   "metadata": {},
   "source": [
    "La classe `DecisionNode` ci-dessous représente un **noeud** d'un **arbre de décision**, ou encore, un **arbre de décision** en soi. \n",
    "\n",
    "*En effet, en programmation, un objet \"noeud\" qui pointe vers ses fils est une structure de données suffisante pour représenter un arbre binaire.*\n",
    "\n",
    "- Un **noeud interne** représente un *split* de la forme $x_m \\leq s$ (où $x_m$ est la $m$-ième composante de $\\mathbf{x}$).<br>\n",
    "Chaque noeud interne donc est associé à un `feature_index` $m$ et un `threshold` $s$.<br>\n",
    "Un noeud interne est également associé à `var_red`: la réduction de variance engendrée par son split.\n",
    "\n",
    "\n",
    "- Une **feuille** représente un sous-ensemble des data $R_k$ (*région*, *cellule de partition*).<br>\n",
    "Chaque feuille est donc associée une `value`: la target moyenne des data dans $R_m$<br> \n",
    "\n",
    "$$\\hat{y}_{R_k} = \\frac{1}{|R_k|} \\sum_{\\{i : \\mathbf{x_i} \\in R_k\\}} y_i$$"
   ]
  },
  {
   "cell_type": "code",
   "execution_count": 9,
   "id": "f30a9b0c",
   "metadata": {},
   "outputs": [],
   "source": [
    "class DecisionNode():\n",
    "    \"\"\"\n",
    "    Implements a decision node, or quivalently, a decision tree.\n",
    "    \n",
    "    As usual, a binary tree is identified with a root node contaning as chidren\n",
    "    a left subtree and a right subtree.\n",
    "    \n",
    "    Here, an *internal node* represents a split of the form \"x_m <= s\",\n",
    "    where m is the `feature_index` and s the `thresold` of the split.\n",
    "    \n",
    "    A *leaf node* represents a subset of the data (region, box, partition cell).\n",
    "    It is associated with a `value`: the average target for the data in this region.\n",
    "    \"\"\"\n",
    "    \n",
    "    def __init__(self, feature_index=None, threshold=None, \n",
    "                 left=None, right=None, var_red=None, value=None):\n",
    "        \"\"\"\n",
    "        Constructor.\n",
    "        \n",
    "        Parameters\n",
    "        ----------\n",
    "        feature_index : int\n",
    "            index m of variable x_m for the node split (x_m <= s).\n",
    "        threshold : Union[int, float]\n",
    "            threshold s for the node split (x_m <= s).\n",
    "        left : Union[DecisionNode, None]\n",
    "            Left child of the node\n",
    "        right : Union[DecisionNode, None]\n",
    "            Right child of the node\n",
    "        var_red : float\n",
    "            variance reduction induced by the node split (x_m <= s).\n",
    "        value : Union[float, None]\n",
    "            if the node is a leaf, then value of this leaf.\n",
    "        \"\"\"\n",
    "\n",
    "        # for decision node\n",
    "        self.feature_index = feature_index\n",
    "        self.threshold = threshold\n",
    "        self.var_red = var_red\n",
    "\n",
    "        # for leaf node\n",
    "        self.value = value\n",
    "        \n",
    "        # children\n",
    "        self.left = left\n",
    "        self.right = right\n",
    "        \n",
    "        \n",
    "    def print_tree(self, tab=0):\n",
    "        \"\"\"Prints the node (i.e., the tree).\"\"\"\n",
    "        \n",
    "        if self.left is None and self.right is None: # leaf\n",
    "            \n",
    "            print(\"\\t\"*(tab), f\"{self.value:.2f}\")\n",
    "            \n",
    "        else:                                        # internal node\n",
    "            self.left.print_tree(tab+1)\n",
    "            print(\"\\t\"*(tab), f\"X_{self.feature_index} < {self.threshold:.2f}\")\n",
    "            self.right.print_tree(tab+1)"
   ]
  },
  {
   "cell_type": "markdown",
   "id": "039a5510",
   "metadata": {},
   "source": [
    "La classe ci-dessous `DecisionTreeRegressor` représente un **arbre de décision** dans un contexte de régression."
   ]
  },
  {
   "cell_type": "code",
   "execution_count": 10,
   "id": "6fe70cd2",
   "metadata": {},
   "outputs": [],
   "source": [
    "class DecisionTreeRegressor():\n",
    "    \"\"\"\n",
    "    Implements a decision tree for regression.\n",
    "    \"\"\"\n",
    "    \n",
    "    def __init__(self, min_samples=2, max_depth=2):\n",
    "        \"\"\"\n",
    "        Constructor.\n",
    "        \n",
    "        Parameters\n",
    "        ----------\n",
    "        min_samples : int\n",
    "            Minimal number of data necessary to envision a split.\n",
    "            Otherwise, the node is a leaf (subset of data).\n",
    "        max_depth : int\n",
    "            Maximal depth of the tree.\n",
    "            When max_depth is reached, no further split is performed.\n",
    "        \"\"\"\n",
    "        \n",
    "        # the root will become the decision tree\n",
    "        self.root = None\n",
    "        \n",
    "        # stopping conditions\n",
    "        self.min_samples = min_samples\n",
    "        self.max_depth = max_depth\n",
    "        \n",
    "    \n",
    "    def split_data(self, dataset, split):\n",
    "        \"\"\"\n",
    "        Splits dataset according to a given split of the form x_m <= s.\n",
    "        \n",
    "        Parameters\n",
    "        ----------\n",
    "        dataset : ndarray\n",
    "            Dataset to be split\n",
    "        split : tuple\n",
    "            A split \"x_m <= s\" is represented by the tuple (m, s),\n",
    "            where m is the feature_index and s the threshold.\n",
    "        \n",
    "        Returns\n",
    "        -------\n",
    "        dataset_left, dataset_right : tuple[ndarray, ndarray]\n",
    "            dataset_left: data satisfying the condition x_m <= s.\n",
    "            dataset_right: data satisfying the scondition x_m > s.\n",
    "        \"\"\"\n",
    "        \n",
    "        feature_index, threshold = split\n",
    "        mask = dataset[:, feature_index] <= threshold\n",
    "        dataset_left = dataset[mask, :]\n",
    "        dataset_right = dataset[np.logical_not(mask), :]\n",
    "        \n",
    "        return dataset_left, dataset_right\n",
    "    \n",
    "    \n",
    "    def variance_reduction(self, dataset, dataset_left, dataset_right):\n",
    "        \"\"\"\n",
    "        Computes the variance reduction of the targets induced by a split.\n",
    "        \n",
    "        Suppose that a split of a dataset has induces the 2 datasets:\n",
    "        dataset_left and dataset_right (cf. method split_data).\n",
    "        This function computes the variance $var_1$ of the y's of dataset as well as\n",
    "        the weighted variance $var_2$ of the y's of left_dataset and right_dataset.\n",
    "        The variance reduction is then given by $var_1 - var_2$.\n",
    "        \n",
    "        Parameters\n",
    "        ----------\n",
    "        dataset : ndarray\n",
    "            Dataset before split.\n",
    "        dataset_left : ndarray\n",
    "            First dataset induced by the split.\n",
    "        dataset_right : ndarray\n",
    "            Second dataset induced by the split.\n",
    "        \n",
    "        Returns\n",
    "        -------\n",
    "        var_reduction : float\n",
    "            variance reduction induced by the split.\n",
    "        \"\"\"\n",
    "        \n",
    "        y = dataset[:, -1]\n",
    "        y_l = dataset_left[:, -1]\n",
    "        y_r = dataset_right[:, -1]\n",
    "        \n",
    "        w_l = len(y_l) / len(y)\n",
    "        w_r = len(y_r) / len(y)\n",
    "        \n",
    "        var_reduction = np.var(y) - ( w_l * np.var(y_l) + w_r * np.var(y_r) )\n",
    "        \n",
    "        return var_reduction\n",
    "\n",
    "    \n",
    "    def best_split(self, dataset):\n",
    "        \"\"\"\n",
    "        Computes the best split for a dataset.\n",
    "        \n",
    "        For all feature $m$ and and all possible value $s$ of that feature,\n",
    "        split the dataset according to the condition \"x_m <= s\" (self.split_data(...)).\n",
    "        The split \"x_m <= s\" generates two datatsets: dataset_left and dataset_right.\n",
    "        Compute the variance reduction associated to the three datasets (self.variance_reduction).\n",
    "        Select the split associated with the largest variance reduction.\n",
    "        \n",
    "        Parameters\n",
    "        ----------\n",
    "        dataset : ndarray\n",
    "            Dataset before split.\n",
    "        \n",
    "        Returns\n",
    "        -------\n",
    "        best_split : dict\n",
    "            dictionary to store the best split.\n",
    "            The keys of the dictionare are: \n",
    "            \"feature_index\", \"threshold\", \"dataset_left\", \"dataset_right\", \"var_red\".\n",
    "        \"\"\"\n",
    "        \n",
    "        # dictionary to store the best split\n",
    "        best_split = {}\n",
    "        best_var_red = -float(\"inf\")\n",
    "        \n",
    "        # loop over features\n",
    "        nb_features = dataset.shape[1] - 1\n",
    "        for m in range(nb_features):\n",
    "            \n",
    "            thresholds = dataset[:, m]\n",
    "            thresholds = np.unique(thresholds)\n",
    "            \n",
    "            # loop over thresholds\n",
    "            for s in thresholds:\n",
    "                \n",
    "                # datasets assoociated to split \"x_m <= s\"\n",
    "                split = (m, s)\n",
    "                dataset_left, dataset_right = self.split_data(dataset, split)\n",
    "                \n",
    "                # check if datasets are not empty\n",
    "                if len(dataset_left) > 0 and len(dataset_right) > 0:\n",
    "                    \n",
    "                    # compute variance reduction\n",
    "                    var_red = self.variance_reduction(dataset, dataset_left, dataset_right)\n",
    "                    \n",
    "                    # update the best split if needed\n",
    "                    if var_red > best_var_red:\n",
    "                        \n",
    "                        best_split[\"feature_index\"] = m\n",
    "                        best_split[\"threshold\"] = s\n",
    "                        best_split[\"dataset_left\"] = dataset_left\n",
    "                        best_split[\"dataset_right\"] = dataset_right\n",
    "                        best_split[\"var_reduction\"] = var_red\n",
    "                        best_var_red = var_red\n",
    "                        \n",
    "        # return best split\n",
    "        return best_split\n",
    "    \n",
    "    \n",
    "    def leaf_value(self, region):\n",
    "        \"\"\"\n",
    "        Compute the mean of targets of a non-splitable region. \n",
    "        Teh region is associated to a leaf node of the decision tree.\n",
    "        \n",
    "        Parameters\n",
    "        ----------\n",
    "        region : ndarray\n",
    "            Non-splitable dataset that corresponds to a region oof the partition.\n",
    "        \n",
    "        Returns\n",
    "        -------\n",
    "        mean : float\n",
    "            Mean of targets for the data in the region.\n",
    "        \"\"\"\n",
    "        \n",
    "        Y = region[:, -1]\n",
    "        mean = np.mean(Y)\n",
    "        \n",
    "        return mean\n",
    "    \n",
    "    \n",
    "    def build_tree(self, dataset, depth=0):\n",
    "        \"\"\"\n",
    "        Builds the decision tree recursively.\n",
    "        \n",
    "        Parameters\n",
    "        ----------\n",
    "        dataset : ndarray\n",
    "            Initial dataset to be split by the decision tree.\n",
    "        depth : int\n",
    "            Depth of the decision tree that has been built so far.\n",
    "        \n",
    "        Returns\n",
    "        -------\n",
    "        DecisionNode : DecisionNode\n",
    "            The decision tree that represent the best successive splits\n",
    "            for to the dataset.\n",
    "        \"\"\"\n",
    "        \n",
    "        num_samples = np.shape(dataset)[0]\n",
    "                \n",
    "        # compute decision node\n",
    "        if num_samples >= self.min_samples and depth <= self.max_depth:\n",
    "            \n",
    "            # find the best split\n",
    "            split = self.best_split(dataset)\n",
    "            \n",
    "            # check if variance reduction is positive\n",
    "            if split[\"var_reduction\"] >= 0:\n",
    "                \n",
    "                # recursive call left\n",
    "                subtree_left = self.build_tree(split[\"dataset_left\"], depth + 1)\n",
    "                \n",
    "                # recursive call right\n",
    "                subtree_right = self.build_tree(split[\"dataset_right\"], depth + 1)\n",
    "                \n",
    "                return DecisionNode(split[\"feature_index\"], split[\"threshold\"], \n",
    "                                    subtree_left, subtree_right, split[\"var_reduction\"])\n",
    "            \n",
    "        # compute leaf node\n",
    "        else:\n",
    "            \n",
    "            value = self.leaf_value(dataset)\n",
    "            \n",
    "            return DecisionNode(value=value)\n",
    "    \n",
    "    \n",
    "    def fit(self, X, Y):\n",
    "        \"\"\"\n",
    "        Fits the decision tree on the features X and targets Y.\n",
    "        \n",
    "        Parameters\n",
    "        ----------\n",
    "        X : ndarray\n",
    "            Feature columns of the dataset.\n",
    "        Y : ndarray\n",
    "            Target column of the dataset.\n",
    "        \"\"\"\n",
    "        \n",
    "        dataset = np.concatenate((X, Y), axis=1)\n",
    "        self.root = self.build_tree(dataset)\n",
    "        \n",
    "        \n",
    "    def predict_single_point(self, x, tree):\n",
    "        \"\"\"        \n",
    "        Predict the target y_hat associated to a point x.\n",
    "        \n",
    "        Parameters\n",
    "        ----------\n",
    "        x : ndarray\n",
    "            Point x = (x_1,...,x_M) whose target is to be predicted.\n",
    "            \n",
    "        Returns\n",
    "        -------\n",
    "        y_hat : float\n",
    "            Target associated to x.\n",
    "        \"\"\"\n",
    "        \n",
    "        if tree.value != None:\n",
    "            \n",
    "            return tree.value\n",
    "        \n",
    "        # x_m <= s\n",
    "        if x[tree.feature_index] <= tree.threshold:\n",
    "            \n",
    "            return self.predict_single_point(x, tree.left)\n",
    "        \n",
    "        # x_m > s\n",
    "        else:\n",
    "            \n",
    "            return self.predict_single_point(x, tree.right)\n",
    "        \n",
    "    \n",
    "    def predict(self, X):\n",
    "        \"\"\"\n",
    "        Predict the targets associated to a set of points.\n",
    "        \n",
    "        Parameters\n",
    "        ----------\n",
    "        X : ndarray\n",
    "            Tensor of points X (dim N x M) whose targets are to be predicted.\n",
    "            \n",
    "        Returns\n",
    "        -------\n",
    "        Y : ndarray\n",
    "            Tensor of targets (dim N x 1) associated to X.\n",
    "        \"\"\"\n",
    "        \n",
    "        preditions = np.array([self.predict_single_point(x, self.root) for x in X])\n",
    "        \n",
    "        return preditions"
   ]
  },
  {
   "cell_type": "markdown",
   "id": "76749949",
   "metadata": {},
   "source": [
    "### Exercice 1\n",
    "\n",
    "Complétez la méthode `split_data(...)` qui, étant donné un dataset `dataset` et un split `split` de la forme $x_m \\leq s$, retourne deux datasets qui correspondent aux lignes de `dataset` qui satisfont et ne satisfont pas la condition `split`, respectivement.\n",
    "\n",
    "Testez votre méthode comme suit:\n",
    "```\n",
    "tree = DecisionTreeRegressor()\n",
    "dataset = np.array(data)\n",
    "split = (2, 0.1) # split x_2 <= 0.1\n",
    "dataset_left, dataset_right = tree.split_data(dataset, split)\n",
    "dataset_left.shape, dataset_right.shape\n",
    "```"
   ]
  },
  {
   "cell_type": "code",
   "execution_count": 11,
   "id": "11d6346f",
   "metadata": {},
   "outputs": [
    {
     "data": {
      "text/plain": [
       "((515, 6), (988, 6))"
      ]
     },
     "execution_count": 11,
     "metadata": {},
     "output_type": "execute_result"
    }
   ],
   "source": [
    "tree = DecisionTreeRegressor()\n",
    "dataset = np.array(data)\n",
    "split = (2, 0.1) # split x_2 <= 0.1\n",
    "dataset_left, dataset_right = tree.split_data(dataset, split)\n",
    "dataset_left.shape, dataset_right.shape"
   ]
  },
  {
   "cell_type": "markdown",
   "id": "338986fa",
   "metadata": {},
   "source": [
    "### Exercice 2\n",
    "\n",
    "Complétez la méthode `variance_reduction(...)` qui, étant donné trois datasets `dataset`, `dataset_left` et `dataset_right`, retourne la **réduction de variance** associée aux targets $y_i$ de `dataset`, `dataset_left` et `dataset_right`.\n",
    "\n",
    "La **réduction de variance** est calculée comme suit:\n",
    "\n",
    "\\begin{eqnarray*}\n",
    "var   & = & \\mathrm{Var} \\left\\{ y_i : (\\mathbf{x_i}, y_i) \\in \\mathrm{dataset} \\right\\} \\\\\n",
    "&& \\\\\n",
    "var_l & = & \\frac{|\\mathrm{dataset\\_left}|}{|\\mathrm{dataset}|} \\cdot \\mathrm{Var} \\left\\{ y_i : (\\mathbf{x_i}, y_i) \\in \\mathrm{dataset\\_left} \\right\\} \\\\\n",
    "&& \\\\\n",
    "var_r & = & \\frac{|\\mathrm{dataset\\_right}|}{|\\mathrm{dataset}|} \\cdot \\mathrm{Var} \\left\\{ y_i : (\\mathbf{x_i}, y_i) \\in \\mathrm{dataset\\_right} \\right\\} \\\\\n",
    "&& \\\\\n",
    "reduction & = & var - (var_l + var_r)\n",
    "\\end{eqnarray*}\n",
    "\n",
    "où $|X|$ dénote le nombre d'éléments de l'ensemble $X$.\n",
    "\n",
    "Tester votre méthode comme suit:\n",
    "```\n",
    "tree = DecisionTreeRegressor()\n",
    "dataset = np.array(data)\n",
    "split = (2, 0.1) # split x_2 <= 0.1\n",
    "dataset_left, dataset_right = tree.split_data(dataset, split)\n",
    "tree.variance_reduction(dataset, dataset_left, dataset_right)\n",
    "```"
   ]
  },
  {
   "cell_type": "code",
   "execution_count": 12,
   "id": "6c4544d9",
   "metadata": {},
   "outputs": [
    {
     "data": {
      "text/plain": [
       "1.87241336141809"
      ]
     },
     "execution_count": 12,
     "metadata": {},
     "output_type": "execute_result"
    }
   ],
   "source": [
    "tree = DecisionTreeRegressor()\n",
    "dataset = np.array(data)\n",
    "split = (2, 0.1) # split x_2 <= 0.1\n",
    "dataset_left, dataset_right = tree.split_data(dataset, split)\n",
    "tree.variance_reduction(dataset, dataset_left, dataset_right)"
   ]
  },
  {
   "cell_type": "markdown",
   "id": "10830a27",
   "metadata": {},
   "source": [
    "### Exercice 3\n",
    "\n",
    "Complétez la méthode `best_split(...)` qui, étant donné un dataset `dataset`, retourne le split induisant la plus grande réduction de variance. Ce best split est obtenu par l'algorithme suivant:\n",
    "\n",
    "<img src=\"files/figures/DT_algo_1.png\" width=\"650px\"/>\n",
    "\n",
    "La variable `best_split` sera un dictionnaire avec les clés suivantes:\n",
    "```\n",
    "\"feature_index\"\n",
    "\"threshold\"\n",
    "\"dataset_left\"\n",
    "\"dataset_right\"\n",
    "\"var_reduction\"\n",
    "```\n",
    "\n",
    "Tester votre méthode comme suit:\n",
    "```\n",
    "tree = DecisionTreeRegressor()\n",
    "dataset = np.array(data)\n",
    "best_split = tree.best_split(dataset)\n",
    "```"
   ]
  },
  {
   "cell_type": "code",
   "execution_count": 13,
   "id": "819b6632",
   "metadata": {},
   "outputs": [
    {
     "data": {
      "text/plain": [
       "(0, 3150.0, 7.64827145164071)"
      ]
     },
     "execution_count": 13,
     "metadata": {},
     "output_type": "execute_result"
    }
   ],
   "source": [
    "tree = DecisionTreeRegressor()\n",
    "dataset = np.array(data)\n",
    "best_split = tree.best_split(dataset)\n",
    "best_split[\"feature_index\"], best_split[\"threshold\"], best_split[\"var_reduction\"]\n",
    "# best_split"
   ]
  },
  {
   "cell_type": "markdown",
   "id": "bf79d905",
   "metadata": {},
   "source": [
    "### Exercice 4\n",
    "\n",
    "Complétez la méthode `leaf_value(...)` qui, étant donné un sous-ensemble du dataset `region`, retourne la moyenne des targets de ce sous-dataset. On rappelle que chaque feuille de l'arbre de décision est associée à une région non-splitable du dataset.\n",
    "\n",
    "Tester votre méthode comme suit:\n",
    "```\n",
    "tree = DecisionTreeRegressor()\n",
    "dataset = np.array(data)\n",
    "best_split = tree.best_split(dataset)\n",
    "region = best_split['dataset_right']\n",
    "tree.leaf_value(region)\n",
    "```"
   ]
  },
  {
   "cell_type": "code",
   "execution_count": 33,
   "id": "dc5a92ed",
   "metadata": {},
   "outputs": [
    {
     "data": {
      "text/plain": [
       "120.42420754716981"
      ]
     },
     "execution_count": 33,
     "metadata": {},
     "output_type": "execute_result"
    }
   ],
   "source": [
    "tree = DecisionTreeRegressor()\n",
    "dataset = np.array(data)\n",
    "best_split = tree.best_split(dataset)\n",
    "region = best_split['dataset_right']\n",
    "tree.leaf_value(region)"
   ]
  },
  {
   "cell_type": "markdown",
   "id": "2e378d64",
   "metadata": {},
   "source": [
    "### Exercice 5\n",
    "\n",
    "Complétez la méthode **récursive** `build_tree(...)` qui, étant donné un dataset `dataset` et une profondeur `depth`, retourne l'arbre de décision correspondant à ce dataset. L'arbre de décision est donné par l'algorithme **recursive binary splitting** ci-dessous.\n",
    "\n",
    "<img src=\"files/figures/DT_algo_2.png\" width=\"650px\"/>\n",
    "\n",
    "Tester votre méthode comme suit:\n",
    "```\n",
    "dataset = np.array(data)\n",
    "tree = DecisionTreeRegressor(min_samples=3, max_depth=3)\n",
    "tree.root = tree.build_tree(dataset)\n",
    "tree.root.print_tree()\n",
    "```"
   ]
  },
  {
   "cell_type": "code",
   "execution_count": 14,
   "id": "ebe079b8",
   "metadata": {},
   "outputs": [
    {
     "name": "stdout",
     "output_type": "stream",
     "text": [
      "\t\t\t\t 126.94\n",
      "\t\t\t X_0 < 630.00\n",
      "\t\t\t\t 130.52\n",
      "\t\t X_2 < 0.10\n",
      "\t\t\t\t 127.91\n",
      "\t\t\t X_0 < 1600.00\n",
      "\t\t\t\t 122.97\n",
      "\t X_4 < 0.02\n",
      "\t\t\t\t 125.68\n",
      "\t\t\t X_0 < 1250.00\n",
      "\t\t\t\t 120.69\n",
      "\t\t X_4 < 0.05\n",
      "\t\t\t\t 117.70\n",
      "\t\t\t X_0 < 1250.00\n",
      "\t\t\t\t 109.80\n",
      " X_0 < 3150.00\n",
      "\t\t\t\t 134.99\n",
      "\t\t\t X_4 < 0.00\n",
      "\t\t\t\t 128.60\n",
      "\t\t X_0 < 6300.00\n",
      "\t\t\t\t 128.05\n",
      "\t\t\t X_4 < 0.00\n",
      "\t\t\t\t 120.91\n",
      "\t X_4 < 0.00\n",
      "\t\t\t\t 120.09\n",
      "\t\t\t X_0 < 5000.00\n",
      "\t\t\t\t 115.53\n",
      "\t\t X_4 < 0.03\n",
      "\t\t\t\t 109.44\n",
      "\t\t\t X_4 < 0.05\n",
      "\t\t\t\t 104.84\n"
     ]
    }
   ],
   "source": [
    "dataset = np.array(data)\n",
    "tree = DecisionTreeRegressor(min_samples=3, max_depth=3)\n",
    "tree.root = tree.build_tree(dataset)\n",
    "tree.root.print_tree()"
   ]
  },
  {
   "cell_type": "markdown",
   "id": "da82f1f7",
   "metadata": {},
   "source": [
    "### Exercice 6\n",
    "\n",
    "Complétez la méthode `fit(...)` qui correspond à l'entaînement de l'arbre de décision sur les features `X` et les targets `Y` du dataset. Cette méthode construit l'arbre de décision associé au dataset $(X, Y)$ et assigne ce dernier comme racine de l'arbre.\n",
    "\n",
    "\n",
    "Tester votre méthode comme suit:\n",
    "```\n",
    "X = data.iloc[:, :-1].values\n",
    "Y = data.iloc[:, -1].values.reshape(-1,1)\n",
    "X_train, X_test, Y_train, Y_test = train_test_split(X, Y, test_size=.2, random_state=42)\n",
    "\n",
    "regressor = DecisionTreeRegressor(min_samples=3, max_depth=3)\n",
    "regressor.fit(X_train, Y_train)   # entraînement sur le train set\n",
    "regressor.root.print_tree()\n",
    "```"
   ]
  },
  {
   "cell_type": "code",
   "execution_count": 17,
   "id": "afea3ca6",
   "metadata": {},
   "outputs": [
    {
     "name": "stdout",
     "output_type": "stream",
     "text": [
      "\t\t\t\t 126.94\n",
      "\t\t\t X_0 < 630.00\n",
      "\t\t\t\t 130.44\n",
      "\t\t X_2 < 0.10\n",
      "\t\t\t\t 128.04\n",
      "\t\t\t X_0 < 1600.00\n",
      "\t\t\t\t 122.99\n",
      "\t X_4 < 0.02\n",
      "\t\t\t\t 125.86\n",
      "\t\t\t X_0 < 1250.00\n",
      "\t\t\t\t 120.98\n",
      "\t\t X_4 < 0.05\n",
      "\t\t\t\t 117.71\n",
      "\t\t\t X_0 < 1250.00\n",
      "\t\t\t\t 110.31\n",
      " X_0 < 3150.00\n",
      "\t\t\t\t 134.15\n",
      "\t\t\t X_4 < 0.00\n",
      "\t\t\t\t 128.46\n",
      "\t\t X_0 < 8000.00\n",
      "\t\t\t\t 128.08\n",
      "\t\t\t X_4 < 0.00\n",
      "\t\t\t\t 122.73\n",
      "\t X_4 < 0.00\n",
      "\t\t\t\t 123.96\n",
      "\t\t\t X_0 < 6300.00\n",
      "\t\t\t\t 117.00\n",
      "\t\t X_4 < 0.00\n",
      "\t\t\t\t 122.34\n",
      "\t\t\t X_2 < 0.03\n",
      "\t\t\t\t 115.09\n"
     ]
    }
   ],
   "source": [
    "X = data.iloc[:, :-1].values\n",
    "Y = data.iloc[:, -1].values.reshape(-1,1)\n",
    "X_train, X_test, Y_train, Y_test = train_test_split(X, Y, test_size=.2, random_state=42)\n",
    "\n",
    "regressor = DecisionTreeRegressor(min_samples=3, max_depth=3)\n",
    "regressor.fit(X_train, Y_train)   # entraînement sur le train set\n",
    "regressor.root.print_tree()"
   ]
  },
  {
   "cell_type": "markdown",
   "id": "3e225980",
   "metadata": {},
   "source": [
    "### Exercice 7\n",
    "\n",
    "Complétez la méthode **récursive** `predict_single_point(...)` qui retourne la prédiction `y_hat` associée au point `x`. Cette méthode fait passer `x` dans les noeuds sucessifs de l'arbre de décision `tree` jusqu'à atteindre une feuille dont la valeur sera la prédiction.\n",
    "\n",
    "Complétez ensuite la méthode `predict(...)` qui retourne l'enemble des prédictions `X` associée à un ensemble de points `X` (tenseur). Cette méthode appelle la précédente sur chaque ligne de `X`.\n",
    "\n",
    "Tester votre méthode comme suit:\n",
    "```\n",
    "X = data.iloc[:, :-1].values\n",
    "Y = data.iloc[:, -1].values.reshape(-1,1)\n",
    "X_train, X_test, Y_train, Y_test = train_test_split(X, Y, test_size=.2, random_state=42)\n",
    "\n",
    "regressor = DecisionTreeRegressor(min_samples=3, max_depth=10)\n",
    "regressor.fit(X_train, Y_train)   # entraînement sur le train set\n",
    "regressor.predict_single_point(np.array[0.1, 0.2, 0.3, 0.4. 0.5], regressor.root)\n",
    "regressor.predict(X_test)\n",
    "```"
   ]
  },
  {
   "cell_type": "code",
   "execution_count": 20,
   "id": "5619cf8c",
   "metadata": {},
   "outputs": [
    {
     "data": {
      "text/plain": [
       "114.75"
      ]
     },
     "execution_count": 20,
     "metadata": {},
     "output_type": "execute_result"
    }
   ],
   "source": [
    "X = data.iloc[:, :-1].values\n",
    "Y = data.iloc[:, -1].values.reshape(-1,1)\n",
    "X_train, X_test, Y_train, Y_test = train_test_split(X, Y, test_size=.2, random_state=42)\n",
    "\n",
    "regressor = DecisionTreeRegressor(min_samples=3, max_depth=10)\n",
    "regressor.fit(X_train, Y_train)   # entraînement sur le train set\n",
    "regressor.predict_single_point(np.array([0.1, 0.2, 0.3, 0.4, 0.5]), regressor.root)\n",
    "# regressor.predict(X_test)"
   ]
  },
  {
   "cell_type": "markdown",
   "id": "e97c1adc",
   "metadata": {},
   "source": [
    "### Exercice 8\n",
    "\n",
    "Exécutez le code ci-dessous pour voir si votre implémentation de la classe ``DecisionTreeRegressor`` fonctionne coorrectement."
   ]
  },
  {
   "cell_type": "markdown",
   "id": "ca456c3a",
   "metadata": {},
   "source": [
    "#### Train-Test split"
   ]
  },
  {
   "cell_type": "code",
   "execution_count": 21,
   "id": "b310c635",
   "metadata": {},
   "outputs": [],
   "source": [
    "X = data.iloc[:, :-1].values\n",
    "Y = data.iloc[:, -1].values.reshape(-1,1)\n",
    "X_train, X_test, Y_train, Y_test = train_test_split(X, Y, test_size=.2, random_state=42)"
   ]
  },
  {
   "cell_type": "markdown",
   "id": "c744240d",
   "metadata": {},
   "source": [
    "#### Entraînement"
   ]
  },
  {
   "cell_type": "code",
   "execution_count": 22,
   "id": "7aafa670",
   "metadata": {},
   "outputs": [],
   "source": [
    "regressor = DecisionTreeRegressor(min_samples=3, max_depth=10)\n",
    "regressor.fit(X_train,Y_train)\n",
    "# regressor.root.print_tree()"
   ]
  },
  {
   "cell_type": "markdown",
   "id": "3f0fe091",
   "metadata": {},
   "source": [
    "#### Résultats sur le test set"
   ]
  },
  {
   "cell_type": "code",
   "execution_count": 23,
   "id": "e8119214",
   "metadata": {},
   "outputs": [
    {
     "name": "stdout",
     "output_type": "stream",
     "text": [
      "MSE: 2.5960217473933724\n"
     ]
    }
   ],
   "source": [
    "Y_pred = regressor.predict(X_test)\n",
    "print(\"MSE:\", np.sqrt(mean_squared_error(Y_test, Y_pred)))\n",
    "# print(\"Test predictions:\\n\", Y_pred)"
   ]
  },
  {
   "cell_type": "code",
   "execution_count": 24,
   "id": "b0155dcc",
   "metadata": {},
   "outputs": [
    {
     "data": {
      "text/plain": [
       "Text(0.5, 1.0, 'Targets vs Predictions')"
      ]
     },
     "execution_count": 24,
     "metadata": {},
     "output_type": "execute_result"
    },
    {
     "data": {
      "image/png": "[encoded data removed]",
      "text/plain": [
       "<Figure size 360x360 with 1 Axes>"
      ]
     },
     "metadata": {
      "needs_background": "light"
     },
     "output_type": "display_data"
    }
   ],
   "source": [
    "plt.figure(figsize=(5,5))\n",
    "\n",
    "plt.scatter(Y_test, Y_pred)\n",
    "plt.xlabel(\"Test targets\")\n",
    "plt.ylabel(\"Test predictions\")\n",
    "plt.title(\"Targets vs Predictions\")"
   ]
  },
  {
   "cell_type": "code",
   "execution_count": null,
   "id": "55c4b91f",
   "metadata": {},
   "outputs": [],
   "source": []
  }
 ],
 "metadata": {
  "kernelspec": {
   "display_name": "Python 3 (ipykernel)",
   "language": "python",
   "name": "python3"
  },
  "language_info": {
   "codemirror_mode": {
    "name": "ipython",
    "version": 3
   },
   "file_extension": ".py",
   "mimetype": "text/x-python",
   "name": "python",
   "nbconvert_exporter": "python",
   "pygments_lexer": "ipython3",
   "version": "3.9.5"
  }
 },
 "nbformat": 4,
 "nbformat_minor": 5
}
