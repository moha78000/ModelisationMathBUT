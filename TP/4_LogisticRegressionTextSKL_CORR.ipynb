{
 "cells": [
  {
   "cell_type": "markdown",
   "id": "20a1e4a5",
   "metadata": {},
   "source": [
    "# Logistic Regression"
   ]
  },
  {
   "cell_type": "markdown",
   "id": "7ff98a6e",
   "metadata": {},
   "source": [
    "## Financial Sentiment Analysis\n",
    "\n",
    "Le but de ce projet est de **prédire le sentiment (positif/neutre/négatif) de textes à caractère financier**.\n",
    "\n",
    "Pour plus de précision sur les data, voir le lien suivant:<br>\n",
    "https://www.kaggle.com/datasets/sbhatti/financial-sentiment-analysis"
   ]
  },
  {
   "cell_type": "markdown",
   "id": "29afdd55",
   "metadata": {},
   "source": [
    "## Exercice\n",
    "\n",
    "\n",
    "### Load Data\n",
    "1. Loadez et examinez les data.<br>\n",
    "   ```\n",
    "   df = pd.read_csv(\"./data/FinancialSentiment.csv\")\n",
    "   ```\n",
    "\n",
    "\n",
    "### Data Analysis\n",
    "2. Faites l'histogramme de votre variable réponse, pour savoir si on a affaire à un problème équilibré (balanced) ou non.\n",
    "\n",
    "\n",
    "### Model\n",
    "3. \"Splitez\" vos data en un **train set** et un **test set**.<br>\n",
    "    https://scikit-learn.org/stable/modules/generated/sklearn.model_selection.train_test_split.html\n",
    "    \n",
    "\n",
    "4. Utilisez la méthode appelée **TF-IDF** pour transformer vos data textuelles en vecteurs. Documentez-vous pour comprendre cette méthode.<br>\n",
    "    https://scikit-learn.org/stable/modules/generated/sklearn.feature_extraction.text.TfidfTransformer.html#sklearn.feature_extraction.text.TfidfTransformer\n",
    "    \n",
    "\n",
    "5. Fittez une **régression logistique** sur vos data.<br>\n",
    "    https://scikit-learn.org/stable/modules/generated/sklearn.linear_model.LogisticRegression.html#sklearn.linear_model.LogisticRegression<br>\n",
    "    Calculer le **rapport de classification (classification report)** relatif à vos prédictions.<br>\n",
    "    https://scikit-learn.org/stable/modules/generated/sklearn.metrics.classification_report.html#sklearn.metrics.classification_report\n",
    "\n",
    "\n",
    "6. Fittez deux autres modèles sur vos data appelés **support vector machine classifier (SVC)** et **naive Bayes classifier (NB)**:<br>\n",
    "    https://scikit-learn.org/stable/modules/generated/sklearn.svm.SVC.html#sklearn.svm.SVC<br>\n",
    "    https://scikit-learn.org/stable/modules/generated/sklearn.naive_bayes.MultinomialNB.html<br>\n",
    "    Calculer le **rapport de classification (classification report)** relatif à vos prédictions.<br>\n"
   ]
  },
  {
   "cell_type": "markdown",
   "id": "0a48c952",
   "metadata": {},
   "source": [
    "## Librairies"
   ]
  },
  {
   "cell_type": "code",
   "execution_count": 1,
   "id": "b72edb67",
   "metadata": {},
   "outputs": [],
   "source": [
    "import pandas as pd\n",
    "import numpy as np\n",
    "\n",
    "from sklearn.pipeline import Pipeline\n",
    "from sklearn.model_selection import train_test_split\n",
    "from sklearn.model_selection import GridSearchCV\n",
    "from sklearn.feature_extraction.text import TfidfVectorizer\n",
    "from sklearn.linear_model import LogisticRegression\n",
    "from sklearn.svm import SVC\n",
    "from sklearn.naive_bayes import MultinomialNB\n",
    "from sklearn.metrics import classification_report\n",
    "\n",
    "import matplotlib.pyplot as plt"
   ]
  },
  {
   "cell_type": "markdown",
   "id": "bf486b42",
   "metadata": {},
   "source": [
    "## Load Data"
   ]
  },
  {
   "cell_type": "code",
   "execution_count": 2,
   "id": "06cb7a2f",
   "metadata": {},
   "outputs": [],
   "source": [
    "df = pd.read_csv(\"./data/FinancialSentiment.csv\")"
   ]
  },
  {
   "cell_type": "code",
   "execution_count": 3,
   "id": "c3869787",
   "metadata": {},
   "outputs": [
    {
     "data": {
      "text/html": [
       "<div>\n",
       "<style scoped>\n",
       "    .dataframe tbody tr th:only-of-type {\n",
       "        vertical-align: middle;\n",
       "    }\n",
       "\n",
       "    .dataframe tbody tr th {\n",
       "        vertical-align: top;\n",
       "    }\n",
       "\n",
       "    .dataframe thead th {\n",
       "        text-align: right;\n",
       "    }\n",
       "</style>\n",
       "<table border=\"1\" class=\"dataframe\">\n",
       "  <thead>\n",
       "    <tr style=\"text-align: right;\">\n",
       "      <th></th>\n",
       "      <th>Sentence</th>\n",
       "      <th>Sentiment</th>\n",
       "    </tr>\n",
       "  </thead>\n",
       "  <tbody>\n",
       "    <tr>\n",
       "      <th>0</th>\n",
       "      <td>The GeoSolutions technology will leverage Bene...</td>\n",
       "      <td>positive</td>\n",
       "    </tr>\n",
       "    <tr>\n",
       "      <th>1</th>\n",
       "      <td>$ESI on lows, down $1.50 to $2.50 BK a real po...</td>\n",
       "      <td>negative</td>\n",
       "    </tr>\n",
       "    <tr>\n",
       "      <th>2</th>\n",
       "      <td>For the last quarter of 2010 , Componenta 's n...</td>\n",
       "      <td>positive</td>\n",
       "    </tr>\n",
       "    <tr>\n",
       "      <th>3</th>\n",
       "      <td>According to the Finnish-Russian Chamber of Co...</td>\n",
       "      <td>neutral</td>\n",
       "    </tr>\n",
       "    <tr>\n",
       "      <th>4</th>\n",
       "      <td>The Swedish buyout firm has sold its remaining...</td>\n",
       "      <td>neutral</td>\n",
       "    </tr>\n",
       "  </tbody>\n",
       "</table>\n",
       "</div>"
      ],
      "text/plain": [
       "                                            Sentence Sentiment\n",
       "0  The GeoSolutions technology will leverage Bene...  positive\n",
       "1  $ESI on lows, down $1.50 to $2.50 BK a real po...  negative\n",
       "2  For the last quarter of 2010 , Componenta 's n...  positive\n",
       "3  According to the Finnish-Russian Chamber of Co...   neutral\n",
       "4  The Swedish buyout firm has sold its remaining...   neutral"
      ]
     },
     "execution_count": 3,
     "metadata": {},
     "output_type": "execute_result"
    }
   ],
   "source": [
    "df.head()"
   ]
  },
  {
   "cell_type": "code",
   "execution_count": 4,
   "id": "80f1d545",
   "metadata": {},
   "outputs": [
    {
     "data": {
      "text/plain": [
       "(5842, 2)"
      ]
     },
     "execution_count": 4,
     "metadata": {},
     "output_type": "execute_result"
    }
   ],
   "source": [
    "df.shape"
   ]
  },
  {
   "cell_type": "code",
   "execution_count": 5,
   "id": "1a1ec6ab",
   "metadata": {},
   "outputs": [
    {
     "data": {
      "text/plain": [
       "\"For the last quarter of 2010 , Componenta 's net sales doubled to EUR131m from EUR76m for the same period a year earlier , while it moved to a zero pre-tax profit from a pre-tax loss of EUR7m .\""
      ]
     },
     "execution_count": 5,
     "metadata": {},
     "output_type": "execute_result"
    }
   ],
   "source": [
    "df.iloc[2][\"Sentence\"]"
   ]
  },
  {
   "cell_type": "markdown",
   "id": "7b236f5f",
   "metadata": {},
   "source": [
    "## Data Analysis"
   ]
  },
  {
   "cell_type": "code",
   "execution_count": 6,
   "id": "47f34234",
   "metadata": {},
   "outputs": [
    {
     "data": {
      "text/plain": [
       "neutral     3130\n",
       "positive    1852\n",
       "negative     860\n",
       "Name: Sentiment, dtype: int64"
      ]
     },
     "execution_count": 6,
     "metadata": {},
     "output_type": "execute_result"
    }
   ],
   "source": [
    "df.Sentiment.value_counts()"
   ]
  },
  {
   "cell_type": "code",
   "execution_count": 7,
   "id": "8e424017",
   "metadata": {},
   "outputs": [
    {
     "data": {
      "image/png": "[encoded data removed]",
      "text/plain": [
       "<Figure size 576x360 with 1 Axes>"
      ]
     },
     "metadata": {
      "needs_background": "light"
     },
     "output_type": "display_data"
    }
   ],
   "source": [
    "plt.figure(figsize=(8, 5))\n",
    "\n",
    "df.Sentiment.hist(bins=3, rwidth=0.9)\n",
    "\n",
    "plt.title('Sentiment histogram')\n",
    "plt.show()"
   ]
  },
  {
   "cell_type": "markdown",
   "id": "ce34051e",
   "metadata": {},
   "source": [
    "## Models"
   ]
  },
  {
   "cell_type": "markdown",
   "id": "d4e4d713",
   "metadata": {},
   "source": [
    "### LR"
   ]
  },
  {
   "cell_type": "code",
   "execution_count": 8,
   "id": "6c1fddac",
   "metadata": {},
   "outputs": [],
   "source": [
    "X_train, X_test, y_train, y_test = train_test_split(df.Sentence, df.Sentiment, \n",
    "                                                    test_size=0.2, random_state=42)"
   ]
  },
  {
   "cell_type": "code",
   "execution_count": 9,
   "id": "298a2ec0",
   "metadata": {},
   "outputs": [
    {
     "data": {
      "text/plain": [
       "((4673,), (1169,), (4673,), (1169,))"
      ]
     },
     "execution_count": 9,
     "metadata": {},
     "output_type": "execute_result"
    }
   ],
   "source": [
    "X_train.shape, X_test.shape, y_train.shape, y_test.shape"
   ]
  },
  {
   "cell_type": "code",
   "execution_count": 10,
   "id": "10a3fa53",
   "metadata": {},
   "outputs": [],
   "source": [
    "pipeline = Pipeline([('tfidf', TfidfVectorizer()), \n",
    "                     ('model', LogisticRegression())])"
   ]
  },
  {
   "cell_type": "code",
   "execution_count": 11,
   "id": "b9c7e7f0",
   "metadata": {},
   "outputs": [
    {
     "data": {
      "text/html": [
       "<style>#sk-container-id-1 {color: black;background-color: white;}#sk-container-id-1 pre{padding: 0;}#sk-container-id-1 div.sk-toggleable {background-color: white;}#sk-container-id-1 label.sk-toggleable__label {cursor: pointer;display: block;width: 100%;margin-bottom: 0;padding: 0.3em;box-sizing: border-box;text-align: center;}#sk-container-id-1 label.sk-toggleable__label-arrow:before {content: \"▸\";float: left;margin-right: 0.25em;color: #696969;}#sk-container-id-1 label.sk-toggleable__label-arrow:hover:before {color: black;}#sk-container-id-1 div.sk-estimator:hover label.sk-toggleable__label-arrow:before {color: black;}#sk-container-id-1 div.sk-toggleable__content {max-height: 0;max-width: 0;overflow: hidden;text-align: left;background-color: #f0f8ff;}#sk-container-id-1 div.sk-toggleable__content pre {margin: 0.2em;color: black;border-radius: 0.25em;background-color: #f0f8ff;}#sk-container-id-1 input.sk-toggleable__control:checked~div.sk-toggleable__content {max-height: 200px;max-width: 100%;overflow: auto;}#sk-container-id-1 input.sk-toggleable__control:checked~label.sk-toggleable__label-arrow:before {content: \"▾\";}#sk-container-id-1 div.sk-estimator input.sk-toggleable__control:checked~label.sk-toggleable__label {background-color: #d4ebff;}#sk-container-id-1 div.sk-label input.sk-toggleable__control:checked~label.sk-toggleable__label {background-color: #d4ebff;}#sk-container-id-1 input.sk-hidden--visually {border: 0;clip: rect(1px 1px 1px 1px);clip: rect(1px, 1px, 1px, 1px);height: 1px;margin: -1px;overflow: hidden;padding: 0;position: absolute;width: 1px;}#sk-container-id-1 div.sk-estimator {font-family: monospace;background-color: #f0f8ff;border: 1px dotted black;border-radius: 0.25em;box-sizing: border-box;margin-bottom: 0.5em;}#sk-container-id-1 div.sk-estimator:hover {background-color: #d4ebff;}#sk-container-id-1 div.sk-parallel-item::after {content: \"\";width: 100%;border-bottom: 1px solid gray;flex-grow: 1;}#sk-container-id-1 div.sk-label:hover label.sk-toggleable__label {background-color: #d4ebff;}#sk-container-id-1 div.sk-serial::before {content: \"\";position: absolute;border-left: 1px solid gray;box-sizing: border-box;top: 0;bottom: 0;left: 50%;z-index: 0;}#sk-container-id-1 div.sk-serial {display: flex;flex-direction: column;align-items: center;background-color: white;padding-right: 0.2em;padding-left: 0.2em;position: relative;}#sk-container-id-1 div.sk-item {position: relative;z-index: 1;}#sk-container-id-1 div.sk-parallel {display: flex;align-items: stretch;justify-content: center;background-color: white;position: relative;}#sk-container-id-1 div.sk-item::before, #sk-container-id-1 div.sk-parallel-item::before {content: \"\";position: absolute;border-left: 1px solid gray;box-sizing: border-box;top: 0;bottom: 0;left: 50%;z-index: -1;}#sk-container-id-1 div.sk-parallel-item {display: flex;flex-direction: column;z-index: 1;position: relative;background-color: white;}#sk-container-id-1 div.sk-parallel-item:first-child::after {align-self: flex-end;width: 50%;}#sk-container-id-1 div.sk-parallel-item:last-child::after {align-self: flex-start;width: 50%;}#sk-container-id-1 div.sk-parallel-item:only-child::after {width: 0;}#sk-container-id-1 div.sk-dashed-wrapped {border: 1px dashed gray;margin: 0 0.4em 0.5em 0.4em;box-sizing: border-box;padding-bottom: 0.4em;background-color: white;}#sk-container-id-1 div.sk-label label {font-family: monospace;font-weight: bold;display: inline-block;line-height: 1.2em;}#sk-container-id-1 div.sk-label-container {text-align: center;}#sk-container-id-1 div.sk-container {/* jupyter's `normalize.less` sets `[hidden] { display: none; }` but bootstrap.min.css set `[hidden] { display: none !important; }` so we also need the `!important` here to be able to override the default hidden behavior on the sphinx rendered scikit-learn.org. See: https://github.com/scikit-learn/scikit-learn/issues/21755 */display: inline-block !important;position: relative;}#sk-container-id-1 div.sk-text-repr-fallback {display: none;}</style><div id=\"sk-container-id-1\" class=\"sk-top-container\"><div class=\"sk-text-repr-fallback\"><pre>Pipeline(steps=[(&#x27;tfidf&#x27;, TfidfVectorizer()), (&#x27;model&#x27;, LogisticRegression())])</pre><b>In a Jupyter environment, please rerun this cell to show the HTML representation or trust the notebook. <br />On GitHub, the HTML representation is unable to render, please try loading this page with nbviewer.org.</b></div><div class=\"sk-container\" hidden><div class=\"sk-item sk-dashed-wrapped\"><div class=\"sk-label-container\"><div class=\"sk-label sk-toggleable\"><input class=\"sk-toggleable__control sk-hidden--visually\" id=\"sk-estimator-id-1\" type=\"checkbox\" ><label for=\"sk-estimator-id-1\" class=\"sk-toggleable__label sk-toggleable__label-arrow\">Pipeline</label><div class=\"sk-toggleable__content\"><pre>Pipeline(steps=[(&#x27;tfidf&#x27;, TfidfVectorizer()), (&#x27;model&#x27;, LogisticRegression())])</pre></div></div></div><div class=\"sk-serial\"><div class=\"sk-item\"><div class=\"sk-estimator sk-toggleable\"><input class=\"sk-toggleable__control sk-hidden--visually\" id=\"sk-estimator-id-2\" type=\"checkbox\" ><label for=\"sk-estimator-id-2\" class=\"sk-toggleable__label sk-toggleable__label-arrow\">TfidfVectorizer</label><div class=\"sk-toggleable__content\"><pre>TfidfVectorizer()</pre></div></div></div><div class=\"sk-item\"><div class=\"sk-estimator sk-toggleable\"><input class=\"sk-toggleable__control sk-hidden--visually\" id=\"sk-estimator-id-3\" type=\"checkbox\" ><label for=\"sk-estimator-id-3\" class=\"sk-toggleable__label sk-toggleable__label-arrow\">LogisticRegression</label><div class=\"sk-toggleable__content\"><pre>LogisticRegression()</pre></div></div></div></div></div></div></div>"
      ],
      "text/plain": [
       "Pipeline(steps=[('tfidf', TfidfVectorizer()), ('model', LogisticRegression())])"
      ]
     },
     "execution_count": 11,
     "metadata": {},
     "output_type": "execute_result"
    }
   ],
   "source": [
    "pipeline.fit(X_train, y_train)"
   ]
  },
  {
   "cell_type": "code",
   "execution_count": 12,
   "id": "2f83d383",
   "metadata": {},
   "outputs": [],
   "source": [
    "y_pred = pipeline.predict(X_test)"
   ]
  },
  {
   "cell_type": "code",
   "execution_count": 13,
   "id": "73d6069e",
   "metadata": {},
   "outputs": [
    {
     "data": {
      "text/plain": [
       "array(['neutral', 'positive', 'negative', ..., 'positive', 'neutral',\n",
       "       'neutral'], dtype=object)"
      ]
     },
     "execution_count": 13,
     "metadata": {},
     "output_type": "execute_result"
    }
   ],
   "source": [
    "y_pred"
   ]
  },
  {
   "cell_type": "code",
   "execution_count": 14,
   "id": "16562f1f",
   "metadata": {},
   "outputs": [
    {
     "name": "stdout",
     "output_type": "stream",
     "text": [
      "              precision    recall  f1-score   support\n",
      "\n",
      "    negative      0.490     0.143     0.221       175\n",
      "     neutral      0.708     0.899     0.792       622\n",
      "    positive      0.766     0.677     0.719       372\n",
      "\n",
      "    accuracy                          0.715      1169\n",
      "   macro avg      0.655     0.573     0.578      1169\n",
      "weighted avg      0.694     0.715     0.684      1169\n",
      "\n"
     ]
    }
   ],
   "source": [
    "print(classification_report(y_test, y_pred, digits=3))"
   ]
  },
  {
   "cell_type": "markdown",
   "id": "c2ea4510",
   "metadata": {},
   "source": [
    "### LR, SVC and NB"
   ]
  },
  {
   "cell_type": "code",
   "execution_count": 15,
   "id": "56471d60",
   "metadata": {},
   "outputs": [
    {
     "name": "stdout",
     "output_type": "stream",
     "text": [
      "*** LR ***\n",
      "              precision    recall  f1-score   support\n",
      "\n",
      "    negative      0.490     0.143     0.221       175\n",
      "     neutral      0.708     0.899     0.792       622\n",
      "    positive      0.766     0.677     0.719       372\n",
      "\n",
      "    accuracy                          0.715      1169\n",
      "   macro avg      0.655     0.573     0.578      1169\n",
      "weighted avg      0.694     0.715     0.684      1169\n",
      "\n",
      "*** SVC ***\n",
      "              precision    recall  f1-score   support\n",
      "\n",
      "    negative      0.283     0.086     0.132       175\n",
      "     neutral      0.688     0.902     0.781       622\n",
      "    positive      0.784     0.634     0.701       372\n",
      "\n",
      "    accuracy                          0.695      1169\n",
      "   macro avg      0.585     0.541     0.538      1169\n",
      "weighted avg      0.658     0.695     0.658      1169\n",
      "\n",
      "*** NB ***\n",
      "              precision    recall  f1-score   support\n",
      "\n",
      "    negative      0.900     0.051     0.097       175\n",
      "     neutral      0.634     0.981     0.770       622\n",
      "    positive      0.716     0.379     0.496       372\n",
      "\n",
      "    accuracy                          0.650      1169\n",
      "   macro avg      0.750     0.470     0.454      1169\n",
      "weighted avg      0.700     0.650     0.582      1169\n",
      "\n"
     ]
    }
   ],
   "source": [
    "models_d = {\"LR\" : LogisticRegression(), \"SVC\" : SVC(), \"NB\" : MultinomialNB()}\n",
    "\n",
    "for name, model in models_d.items():\n",
    "    \n",
    "    pipeline = Pipeline([('tfidf', TfidfVectorizer()), ('model', model)])\n",
    "    pipeline.fit(X_train, y_train)\n",
    "    y_pred = pipeline.predict(X_test)\n",
    "    \n",
    "    print(f\"*** {name} ***\")\n",
    "    print(classification_report(y_test, y_pred, digits=3))"
   ]
  },
  {
   "cell_type": "markdown",
   "id": "fea1bb6d",
   "metadata": {},
   "source": [
    "## Hyperparameter Tuning"
   ]
  },
  {
   "cell_type": "code",
   "execution_count": 16,
   "id": "3504486b",
   "metadata": {},
   "outputs": [],
   "source": [
    "pipeline = Pipeline([('tfidf', TfidfVectorizer()), \n",
    "                     ('model', SVC())])"
   ]
  },
  {
   "cell_type": "code",
   "execution_count": 17,
   "id": "2d2f9169",
   "metadata": {},
   "outputs": [],
   "source": [
    "parameters = {\"tfidf__stop_words\" : [None, \"english\"], \n",
    "              \"tfidf__ngram_range\" : [(1, 1), (1,2)], \n",
    "              #\"tfidf__max_df\" : [1.0, 0.9, 0.8], \n",
    "              #\"tfidf__min_df\" : [1.0, 0.9, 0.8],\n",
    "              \"model__kernel\" : [\"poly\", \"rbf\"],\n",
    "              #\"model__degree\" : [2, 3, 4],\n",
    "              \"model__C\" : np.logspace(-2, 2, 5)}"
   ]
  },
  {
   "cell_type": "code",
   "execution_count": 18,
   "id": "52e1dbf8",
   "metadata": {},
   "outputs": [],
   "source": [
    "pipeline_gs = GridSearchCV(pipeline, parameters, verbose=2)"
   ]
  },
  {
   "cell_type": "code",
   "execution_count": 19,
   "id": "1a23deac",
   "metadata": {},
   "outputs": [
    {
     "name": "stdout",
     "output_type": "stream",
     "text": [
      "Fitting 5 folds for each of 40 candidates, totalling 200 fits\n",
      "[CV] END model__C=0.01, model__kernel=poly, tfidf__ngram_range=(1, 1), tfidf__stop_words=None; total time=   3.1s\n",
      "[CV] END model__C=0.01, model__kernel=poly, tfidf__ngram_range=(1, 1), tfidf__stop_words=None; total time=   3.2s\n",
      "[CV] END model__C=0.01, model__kernel=poly, tfidf__ngram_range=(1, 1), tfidf__stop_words=None; total time=   3.2s\n",
      "[CV] END model__C=0.01, model__kernel=poly, tfidf__ngram_range=(1, 1), tfidf__stop_words=None; total time=   3.2s\n",
      "[CV] END model__C=0.01, model__kernel=poly, tfidf__ngram_range=(1, 1), tfidf__stop_words=None; total time=   3.2s\n",
      "[CV] END model__C=0.01, model__kernel=poly, tfidf__ngram_range=(1, 1), tfidf__stop_words=english; total time=   2.2s\n",
      "[CV] END model__C=0.01, model__kernel=poly, tfidf__ngram_range=(1, 1), tfidf__stop_words=english; total time=   2.0s\n",
      "[CV] END model__C=0.01, model__kernel=poly, tfidf__ngram_range=(1, 1), tfidf__stop_words=english; total time=   2.1s\n",
      "[CV] END model__C=0.01, model__kernel=poly, tfidf__ngram_range=(1, 1), tfidf__stop_words=english; total time=   2.3s\n",
      "[CV] END model__C=0.01, model__kernel=poly, tfidf__ngram_range=(1, 1), tfidf__stop_words=english; total time=   2.1s\n",
      "[CV] END model__C=0.01, model__kernel=poly, tfidf__ngram_range=(1, 2), tfidf__stop_words=None; total time=   4.7s\n",
      "[CV] END model__C=0.01, model__kernel=poly, tfidf__ngram_range=(1, 2), tfidf__stop_words=None; total time=   4.5s\n",
      "[CV] END model__C=0.01, model__kernel=poly, tfidf__ngram_range=(1, 2), tfidf__stop_words=None; total time=   4.7s\n",
      "[CV] END model__C=0.01, model__kernel=poly, tfidf__ngram_range=(1, 2), tfidf__stop_words=None; total time=   4.6s\n",
      "[CV] END model__C=0.01, model__kernel=poly, tfidf__ngram_range=(1, 2), tfidf__stop_words=None; total time=   4.6s\n",
      "[CV] END model__C=0.01, model__kernel=poly, tfidf__ngram_range=(1, 2), tfidf__stop_words=english; total time=   3.0s\n",
      "[CV] END model__C=0.01, model__kernel=poly, tfidf__ngram_range=(1, 2), tfidf__stop_words=english; total time=   2.9s\n",
      "[CV] END model__C=0.01, model__kernel=poly, tfidf__ngram_range=(1, 2), tfidf__stop_words=english; total time=   3.0s\n",
      "[CV] END model__C=0.01, model__kernel=poly, tfidf__ngram_range=(1, 2), tfidf__stop_words=english; total time=   3.0s\n",
      "[CV] END model__C=0.01, model__kernel=poly, tfidf__ngram_range=(1, 2), tfidf__stop_words=english; total time=   2.9s\n",
      "[CV] END model__C=0.01, model__kernel=rbf, tfidf__ngram_range=(1, 1), tfidf__stop_words=None; total time=   2.7s\n",
      "[CV] END model__C=0.01, model__kernel=rbf, tfidf__ngram_range=(1, 1), tfidf__stop_words=None; total time=   2.6s\n",
      "[CV] END model__C=0.01, model__kernel=rbf, tfidf__ngram_range=(1, 1), tfidf__stop_words=None; total time=   2.8s\n",
      "[CV] END model__C=0.01, model__kernel=rbf, tfidf__ngram_range=(1, 1), tfidf__stop_words=None; total time=   2.8s\n",
      "[CV] END model__C=0.01, model__kernel=rbf, tfidf__ngram_range=(1, 1), tfidf__stop_words=None; total time=   2.9s\n",
      "[CV] END model__C=0.01, model__kernel=rbf, tfidf__ngram_range=(1, 1), tfidf__stop_words=english; total time=   2.2s\n",
      "[CV] END model__C=0.01, model__kernel=rbf, tfidf__ngram_range=(1, 1), tfidf__stop_words=english; total time=   2.0s\n",
      "[CV] END model__C=0.01, model__kernel=rbf, tfidf__ngram_range=(1, 1), tfidf__stop_words=english; total time=   2.1s\n",
      "[CV] END model__C=0.01, model__kernel=rbf, tfidf__ngram_range=(1, 1), tfidf__stop_words=english; total time=   2.2s\n",
      "[CV] END model__C=0.01, model__kernel=rbf, tfidf__ngram_range=(1, 1), tfidf__stop_words=english; total time=   2.1s\n",
      "[CV] END model__C=0.01, model__kernel=rbf, tfidf__ngram_range=(1, 2), tfidf__stop_words=None; total time=   4.4s\n",
      "[CV] END model__C=0.01, model__kernel=rbf, tfidf__ngram_range=(1, 2), tfidf__stop_words=None; total time=   3.9s\n",
      "[CV] END model__C=0.01, model__kernel=rbf, tfidf__ngram_range=(1, 2), tfidf__stop_words=None; total time=   4.0s\n",
      "[CV] END model__C=0.01, model__kernel=rbf, tfidf__ngram_range=(1, 2), tfidf__stop_words=None; total time=   4.2s\n",
      "[CV] END model__C=0.01, model__kernel=rbf, tfidf__ngram_range=(1, 2), tfidf__stop_words=None; total time=   4.4s\n",
      "[CV] END model__C=0.01, model__kernel=rbf, tfidf__ngram_range=(1, 2), tfidf__stop_words=english; total time=   2.9s\n",
      "[CV] END model__C=0.01, model__kernel=rbf, tfidf__ngram_range=(1, 2), tfidf__stop_words=english; total time=   2.9s\n",
      "[CV] END model__C=0.01, model__kernel=rbf, tfidf__ngram_range=(1, 2), tfidf__stop_words=english; total time=   3.0s\n",
      "[CV] END model__C=0.01, model__kernel=rbf, tfidf__ngram_range=(1, 2), tfidf__stop_words=english; total time=   2.9s\n",
      "[CV] END model__C=0.01, model__kernel=rbf, tfidf__ngram_range=(1, 2), tfidf__stop_words=english; total time=   2.9s\n",
      "[CV] END model__C=0.1, model__kernel=poly, tfidf__ngram_range=(1, 1), tfidf__stop_words=None; total time=   3.2s\n",
      "[CV] END model__C=0.1, model__kernel=poly, tfidf__ngram_range=(1, 1), tfidf__stop_words=None; total time=   3.2s\n",
      "[CV] END model__C=0.1, model__kernel=poly, tfidf__ngram_range=(1, 1), tfidf__stop_words=None; total time=   3.2s\n",
      "[CV] END model__C=0.1, model__kernel=poly, tfidf__ngram_range=(1, 1), tfidf__stop_words=None; total time=   3.3s\n",
      "[CV] END model__C=0.1, model__kernel=poly, tfidf__ngram_range=(1, 1), tfidf__stop_words=None; total time=   3.2s\n",
      "[CV] END model__C=0.1, model__kernel=poly, tfidf__ngram_range=(1, 1), tfidf__stop_words=english; total time=   2.2s\n",
      "[CV] END model__C=0.1, model__kernel=poly, tfidf__ngram_range=(1, 1), tfidf__stop_words=english; total time=   2.1s\n",
      "[CV] END model__C=0.1, model__kernel=poly, tfidf__ngram_range=(1, 1), tfidf__stop_words=english; total time=   2.2s\n",
      "[CV] END model__C=0.1, model__kernel=poly, tfidf__ngram_range=(1, 1), tfidf__stop_words=english; total time=   2.3s\n",
      "[CV] END model__C=0.1, model__kernel=poly, tfidf__ngram_range=(1, 1), tfidf__stop_words=english; total time=   2.2s\n",
      "[CV] END model__C=0.1, model__kernel=poly, tfidf__ngram_range=(1, 2), tfidf__stop_words=None; total time=   4.6s\n",
      "[CV] END model__C=0.1, model__kernel=poly, tfidf__ngram_range=(1, 2), tfidf__stop_words=None; total time=   4.6s\n",
      "[CV] END model__C=0.1, model__kernel=poly, tfidf__ngram_range=(1, 2), tfidf__stop_words=None; total time=   4.5s\n",
      "[CV] END model__C=0.1, model__kernel=poly, tfidf__ngram_range=(1, 2), tfidf__stop_words=None; total time=   4.8s\n",
      "[CV] END model__C=0.1, model__kernel=poly, tfidf__ngram_range=(1, 2), tfidf__stop_words=None; total time=   4.7s\n",
      "[CV] END model__C=0.1, model__kernel=poly, tfidf__ngram_range=(1, 2), tfidf__stop_words=english; total time=   3.1s\n",
      "[CV] END model__C=0.1, model__kernel=poly, tfidf__ngram_range=(1, 2), tfidf__stop_words=english; total time=   2.8s\n",
      "[CV] END model__C=0.1, model__kernel=poly, tfidf__ngram_range=(1, 2), tfidf__stop_words=english; total time=   2.8s\n",
      "[CV] END model__C=0.1, model__kernel=poly, tfidf__ngram_range=(1, 2), tfidf__stop_words=english; total time=   2.8s\n",
      "[CV] END model__C=0.1, model__kernel=poly, tfidf__ngram_range=(1, 2), tfidf__stop_words=english; total time=   2.8s\n",
      "[CV] END model__C=0.1, model__kernel=rbf, tfidf__ngram_range=(1, 1), tfidf__stop_words=None; total time=   3.0s\n",
      "[CV] END model__C=0.1, model__kernel=rbf, tfidf__ngram_range=(1, 1), tfidf__stop_words=None; total time=   2.9s\n",
      "[CV] END model__C=0.1, model__kernel=rbf, tfidf__ngram_range=(1, 1), tfidf__stop_words=None; total time=   2.8s\n",
      "[CV] END model__C=0.1, model__kernel=rbf, tfidf__ngram_range=(1, 1), tfidf__stop_words=None; total time=   2.7s\n",
      "[CV] END model__C=0.1, model__kernel=rbf, tfidf__ngram_range=(1, 1), tfidf__stop_words=None; total time=   2.8s\n",
      "[CV] END model__C=0.1, model__kernel=rbf, tfidf__ngram_range=(1, 1), tfidf__stop_words=english; total time=   2.3s\n",
      "[CV] END model__C=0.1, model__kernel=rbf, tfidf__ngram_range=(1, 1), tfidf__stop_words=english; total time=   2.1s\n",
      "[CV] END model__C=0.1, model__kernel=rbf, tfidf__ngram_range=(1, 1), tfidf__stop_words=english; total time=   2.1s\n",
      "[CV] END model__C=0.1, model__kernel=rbf, tfidf__ngram_range=(1, 1), tfidf__stop_words=english; total time=   2.1s\n",
      "[CV] END model__C=0.1, model__kernel=rbf, tfidf__ngram_range=(1, 1), tfidf__stop_words=english; total time=   2.0s\n",
      "[CV] END model__C=0.1, model__kernel=rbf, tfidf__ngram_range=(1, 2), tfidf__stop_words=None; total time=   4.2s\n"
     ]
    },
    {
     "name": "stdout",
     "output_type": "stream",
     "text": [
      "[CV] END model__C=0.1, model__kernel=rbf, tfidf__ngram_range=(1, 2), tfidf__stop_words=None; total time=   4.2s\n",
      "[CV] END model__C=0.1, model__kernel=rbf, tfidf__ngram_range=(1, 2), tfidf__stop_words=None; total time=   4.2s\n",
      "[CV] END model__C=0.1, model__kernel=rbf, tfidf__ngram_range=(1, 2), tfidf__stop_words=None; total time=   4.2s\n",
      "[CV] END model__C=0.1, model__kernel=rbf, tfidf__ngram_range=(1, 2), tfidf__stop_words=None; total time=   4.2s\n",
      "[CV] END model__C=0.1, model__kernel=rbf, tfidf__ngram_range=(1, 2), tfidf__stop_words=english; total time=   3.1s\n",
      "[CV] END model__C=0.1, model__kernel=rbf, tfidf__ngram_range=(1, 2), tfidf__stop_words=english; total time=   3.1s\n",
      "[CV] END model__C=0.1, model__kernel=rbf, tfidf__ngram_range=(1, 2), tfidf__stop_words=english; total time=   2.8s\n",
      "[CV] END model__C=0.1, model__kernel=rbf, tfidf__ngram_range=(1, 2), tfidf__stop_words=english; total time=   2.9s\n",
      "[CV] END model__C=0.1, model__kernel=rbf, tfidf__ngram_range=(1, 2), tfidf__stop_words=english; total time=   2.7s\n",
      "[CV] END model__C=1.0, model__kernel=poly, tfidf__ngram_range=(1, 1), tfidf__stop_words=None; total time=   3.0s\n",
      "[CV] END model__C=1.0, model__kernel=poly, tfidf__ngram_range=(1, 1), tfidf__stop_words=None; total time=   3.0s\n",
      "[CV] END model__C=1.0, model__kernel=poly, tfidf__ngram_range=(1, 1), tfidf__stop_words=None; total time=   3.0s\n",
      "[CV] END model__C=1.0, model__kernel=poly, tfidf__ngram_range=(1, 1), tfidf__stop_words=None; total time=   3.0s\n",
      "[CV] END model__C=1.0, model__kernel=poly, tfidf__ngram_range=(1, 1), tfidf__stop_words=None; total time=   3.0s\n",
      "[CV] END model__C=1.0, model__kernel=poly, tfidf__ngram_range=(1, 1), tfidf__stop_words=english; total time=   2.1s\n",
      "[CV] END model__C=1.0, model__kernel=poly, tfidf__ngram_range=(1, 1), tfidf__stop_words=english; total time=   2.1s\n",
      "[CV] END model__C=1.0, model__kernel=poly, tfidf__ngram_range=(1, 1), tfidf__stop_words=english; total time=   2.1s\n",
      "[CV] END model__C=1.0, model__kernel=poly, tfidf__ngram_range=(1, 1), tfidf__stop_words=english; total time=   2.1s\n",
      "[CV] END model__C=1.0, model__kernel=poly, tfidf__ngram_range=(1, 1), tfidf__stop_words=english; total time=   2.1s\n",
      "[CV] END model__C=1.0, model__kernel=poly, tfidf__ngram_range=(1, 2), tfidf__stop_words=None; total time=   4.2s\n",
      "[CV] END model__C=1.0, model__kernel=poly, tfidf__ngram_range=(1, 2), tfidf__stop_words=None; total time=   4.3s\n",
      "[CV] END model__C=1.0, model__kernel=poly, tfidf__ngram_range=(1, 2), tfidf__stop_words=None; total time=   4.2s\n",
      "[CV] END model__C=1.0, model__kernel=poly, tfidf__ngram_range=(1, 2), tfidf__stop_words=None; total time=   4.3s\n",
      "[CV] END model__C=1.0, model__kernel=poly, tfidf__ngram_range=(1, 2), tfidf__stop_words=None; total time=   4.2s\n",
      "[CV] END model__C=1.0, model__kernel=poly, tfidf__ngram_range=(1, 2), tfidf__stop_words=english; total time=   2.8s\n",
      "[CV] END model__C=1.0, model__kernel=poly, tfidf__ngram_range=(1, 2), tfidf__stop_words=english; total time=   2.8s\n",
      "[CV] END model__C=1.0, model__kernel=poly, tfidf__ngram_range=(1, 2), tfidf__stop_words=english; total time=   2.8s\n",
      "[CV] END model__C=1.0, model__kernel=poly, tfidf__ngram_range=(1, 2), tfidf__stop_words=english; total time=   2.8s\n",
      "[CV] END model__C=1.0, model__kernel=poly, tfidf__ngram_range=(1, 2), tfidf__stop_words=english; total time=   2.8s\n",
      "[CV] END model__C=1.0, model__kernel=rbf, tfidf__ngram_range=(1, 1), tfidf__stop_words=None; total time=   2.9s\n",
      "[CV] END model__C=1.0, model__kernel=rbf, tfidf__ngram_range=(1, 1), tfidf__stop_words=None; total time=   2.8s\n",
      "[CV] END model__C=1.0, model__kernel=rbf, tfidf__ngram_range=(1, 1), tfidf__stop_words=None; total time=   2.9s\n",
      "[CV] END model__C=1.0, model__kernel=rbf, tfidf__ngram_range=(1, 1), tfidf__stop_words=None; total time=   2.9s\n",
      "[CV] END model__C=1.0, model__kernel=rbf, tfidf__ngram_range=(1, 1), tfidf__stop_words=None; total time=   2.9s\n",
      "[CV] END model__C=1.0, model__kernel=rbf, tfidf__ngram_range=(1, 1), tfidf__stop_words=english; total time=   2.1s\n",
      "[CV] END model__C=1.0, model__kernel=rbf, tfidf__ngram_range=(1, 1), tfidf__stop_words=english; total time=   2.1s\n",
      "[CV] END model__C=1.0, model__kernel=rbf, tfidf__ngram_range=(1, 1), tfidf__stop_words=english; total time=   2.1s\n",
      "[CV] END model__C=1.0, model__kernel=rbf, tfidf__ngram_range=(1, 1), tfidf__stop_words=english; total time=   2.1s\n",
      "[CV] END model__C=1.0, model__kernel=rbf, tfidf__ngram_range=(1, 1), tfidf__stop_words=english; total time=   2.0s\n",
      "[CV] END model__C=1.0, model__kernel=rbf, tfidf__ngram_range=(1, 2), tfidf__stop_words=None; total time=   4.2s\n",
      "[CV] END model__C=1.0, model__kernel=rbf, tfidf__ngram_range=(1, 2), tfidf__stop_words=None; total time=   4.6s\n",
      "[CV] END model__C=1.0, model__kernel=rbf, tfidf__ngram_range=(1, 2), tfidf__stop_words=None; total time=   4.7s\n",
      "[CV] END model__C=1.0, model__kernel=rbf, tfidf__ngram_range=(1, 2), tfidf__stop_words=None; total time=   4.3s\n",
      "[CV] END model__C=1.0, model__kernel=rbf, tfidf__ngram_range=(1, 2), tfidf__stop_words=None; total time=   4.2s\n",
      "[CV] END model__C=1.0, model__kernel=rbf, tfidf__ngram_range=(1, 2), tfidf__stop_words=english; total time=   2.9s\n",
      "[CV] END model__C=1.0, model__kernel=rbf, tfidf__ngram_range=(1, 2), tfidf__stop_words=english; total time=   2.8s\n",
      "[CV] END model__C=1.0, model__kernel=rbf, tfidf__ngram_range=(1, 2), tfidf__stop_words=english; total time=   2.8s\n",
      "[CV] END model__C=1.0, model__kernel=rbf, tfidf__ngram_range=(1, 2), tfidf__stop_words=english; total time=   2.8s\n",
      "[CV] END model__C=1.0, model__kernel=rbf, tfidf__ngram_range=(1, 2), tfidf__stop_words=english; total time=   2.8s\n",
      "[CV] END model__C=10.0, model__kernel=poly, tfidf__ngram_range=(1, 1), tfidf__stop_words=None; total time=   3.0s\n",
      "[CV] END model__C=10.0, model__kernel=poly, tfidf__ngram_range=(1, 1), tfidf__stop_words=None; total time=   3.0s\n",
      "[CV] END model__C=10.0, model__kernel=poly, tfidf__ngram_range=(1, 1), tfidf__stop_words=None; total time=   3.1s\n",
      "[CV] END model__C=10.0, model__kernel=poly, tfidf__ngram_range=(1, 1), tfidf__stop_words=None; total time=   3.1s\n",
      "[CV] END model__C=10.0, model__kernel=poly, tfidf__ngram_range=(1, 1), tfidf__stop_words=None; total time=   3.0s\n",
      "[CV] END model__C=10.0, model__kernel=poly, tfidf__ngram_range=(1, 1), tfidf__stop_words=english; total time=   2.2s\n",
      "[CV] END model__C=10.0, model__kernel=poly, tfidf__ngram_range=(1, 1), tfidf__stop_words=english; total time=   2.1s\n",
      "[CV] END model__C=10.0, model__kernel=poly, tfidf__ngram_range=(1, 1), tfidf__stop_words=english; total time=   2.2s\n",
      "[CV] END model__C=10.0, model__kernel=poly, tfidf__ngram_range=(1, 1), tfidf__stop_words=english; total time=   2.2s\n",
      "[CV] END model__C=10.0, model__kernel=poly, tfidf__ngram_range=(1, 1), tfidf__stop_words=english; total time=   2.1s\n",
      "[CV] END model__C=10.0, model__kernel=poly, tfidf__ngram_range=(1, 2), tfidf__stop_words=None; total time=   4.3s\n",
      "[CV] END model__C=10.0, model__kernel=poly, tfidf__ngram_range=(1, 2), tfidf__stop_words=None; total time=   4.3s\n",
      "[CV] END model__C=10.0, model__kernel=poly, tfidf__ngram_range=(1, 2), tfidf__stop_words=None; total time=   4.3s\n",
      "[CV] END model__C=10.0, model__kernel=poly, tfidf__ngram_range=(1, 2), tfidf__stop_words=None; total time=   4.3s\n",
      "[CV] END model__C=10.0, model__kernel=poly, tfidf__ngram_range=(1, 2), tfidf__stop_words=None; total time=   4.3s\n",
      "[CV] END model__C=10.0, model__kernel=poly, tfidf__ngram_range=(1, 2), tfidf__stop_words=english; total time=   2.9s\n",
      "[CV] END model__C=10.0, model__kernel=poly, tfidf__ngram_range=(1, 2), tfidf__stop_words=english; total time=   2.8s\n",
      "[CV] END model__C=10.0, model__kernel=poly, tfidf__ngram_range=(1, 2), tfidf__stop_words=english; total time=   2.9s\n",
      "[CV] END model__C=10.0, model__kernel=poly, tfidf__ngram_range=(1, 2), tfidf__stop_words=english; total time=   2.9s\n",
      "[CV] END model__C=10.0, model__kernel=poly, tfidf__ngram_range=(1, 2), tfidf__stop_words=english; total time=   2.8s\n",
      "[CV] END model__C=10.0, model__kernel=rbf, tfidf__ngram_range=(1, 1), tfidf__stop_words=None; total time=   3.0s\n",
      "[CV] END model__C=10.0, model__kernel=rbf, tfidf__ngram_range=(1, 1), tfidf__stop_words=None; total time=   3.0s\n",
      "[CV] END model__C=10.0, model__kernel=rbf, tfidf__ngram_range=(1, 1), tfidf__stop_words=None; total time=   3.0s\n"
     ]
    },
    {
     "name": "stdout",
     "output_type": "stream",
     "text": [
      "[CV] END model__C=10.0, model__kernel=rbf, tfidf__ngram_range=(1, 1), tfidf__stop_words=None; total time=   3.1s\n",
      "[CV] END model__C=10.0, model__kernel=rbf, tfidf__ngram_range=(1, 1), tfidf__stop_words=None; total time=   3.0s\n",
      "[CV] END model__C=10.0, model__kernel=rbf, tfidf__ngram_range=(1, 1), tfidf__stop_words=english; total time=   2.2s\n",
      "[CV] END model__C=10.0, model__kernel=rbf, tfidf__ngram_range=(1, 1), tfidf__stop_words=english; total time=   2.1s\n",
      "[CV] END model__C=10.0, model__kernel=rbf, tfidf__ngram_range=(1, 1), tfidf__stop_words=english; total time=   2.3s\n",
      "[CV] END model__C=10.0, model__kernel=rbf, tfidf__ngram_range=(1, 1), tfidf__stop_words=english; total time=   2.2s\n",
      "[CV] END model__C=10.0, model__kernel=rbf, tfidf__ngram_range=(1, 1), tfidf__stop_words=english; total time=   2.1s\n",
      "[CV] END model__C=10.0, model__kernel=rbf, tfidf__ngram_range=(1, 2), tfidf__stop_words=None; total time=   4.3s\n",
      "[CV] END model__C=10.0, model__kernel=rbf, tfidf__ngram_range=(1, 2), tfidf__stop_words=None; total time=   4.4s\n",
      "[CV] END model__C=10.0, model__kernel=rbf, tfidf__ngram_range=(1, 2), tfidf__stop_words=None; total time=   4.3s\n",
      "[CV] END model__C=10.0, model__kernel=rbf, tfidf__ngram_range=(1, 2), tfidf__stop_words=None; total time=   4.3s\n",
      "[CV] END model__C=10.0, model__kernel=rbf, tfidf__ngram_range=(1, 2), tfidf__stop_words=None; total time=   4.3s\n",
      "[CV] END model__C=10.0, model__kernel=rbf, tfidf__ngram_range=(1, 2), tfidf__stop_words=english; total time=   2.8s\n",
      "[CV] END model__C=10.0, model__kernel=rbf, tfidf__ngram_range=(1, 2), tfidf__stop_words=english; total time=   2.8s\n",
      "[CV] END model__C=10.0, model__kernel=rbf, tfidf__ngram_range=(1, 2), tfidf__stop_words=english; total time=   2.8s\n",
      "[CV] END model__C=10.0, model__kernel=rbf, tfidf__ngram_range=(1, 2), tfidf__stop_words=english; total time=   2.8s\n",
      "[CV] END model__C=10.0, model__kernel=rbf, tfidf__ngram_range=(1, 2), tfidf__stop_words=english; total time=   2.8s\n",
      "[CV] END model__C=100.0, model__kernel=poly, tfidf__ngram_range=(1, 1), tfidf__stop_words=None; total time=   3.0s\n",
      "[CV] END model__C=100.0, model__kernel=poly, tfidf__ngram_range=(1, 1), tfidf__stop_words=None; total time=   3.1s\n",
      "[CV] END model__C=100.0, model__kernel=poly, tfidf__ngram_range=(1, 1), tfidf__stop_words=None; total time=   3.1s\n",
      "[CV] END model__C=100.0, model__kernel=poly, tfidf__ngram_range=(1, 1), tfidf__stop_words=None; total time=   3.0s\n",
      "[CV] END model__C=100.0, model__kernel=poly, tfidf__ngram_range=(1, 1), tfidf__stop_words=None; total time=   3.1s\n",
      "[CV] END model__C=100.0, model__kernel=poly, tfidf__ngram_range=(1, 1), tfidf__stop_words=english; total time=   2.2s\n",
      "[CV] END model__C=100.0, model__kernel=poly, tfidf__ngram_range=(1, 1), tfidf__stop_words=english; total time=   2.1s\n",
      "[CV] END model__C=100.0, model__kernel=poly, tfidf__ngram_range=(1, 1), tfidf__stop_words=english; total time=   2.2s\n",
      "[CV] END model__C=100.0, model__kernel=poly, tfidf__ngram_range=(1, 1), tfidf__stop_words=english; total time=   2.2s\n",
      "[CV] END model__C=100.0, model__kernel=poly, tfidf__ngram_range=(1, 1), tfidf__stop_words=english; total time=   2.1s\n",
      "[CV] END model__C=100.0, model__kernel=poly, tfidf__ngram_range=(1, 2), tfidf__stop_words=None; total time=   4.3s\n",
      "[CV] END model__C=100.0, model__kernel=poly, tfidf__ngram_range=(1, 2), tfidf__stop_words=None; total time=   4.3s\n",
      "[CV] END model__C=100.0, model__kernel=poly, tfidf__ngram_range=(1, 2), tfidf__stop_words=None; total time=   4.3s\n",
      "[CV] END model__C=100.0, model__kernel=poly, tfidf__ngram_range=(1, 2), tfidf__stop_words=None; total time=   4.3s\n",
      "[CV] END model__C=100.0, model__kernel=poly, tfidf__ngram_range=(1, 2), tfidf__stop_words=None; total time=   4.3s\n",
      "[CV] END model__C=100.0, model__kernel=poly, tfidf__ngram_range=(1, 2), tfidf__stop_words=english; total time=   2.8s\n",
      "[CV] END model__C=100.0, model__kernel=poly, tfidf__ngram_range=(1, 2), tfidf__stop_words=english; total time=   2.8s\n",
      "[CV] END model__C=100.0, model__kernel=poly, tfidf__ngram_range=(1, 2), tfidf__stop_words=english; total time=   2.9s\n",
      "[CV] END model__C=100.0, model__kernel=poly, tfidf__ngram_range=(1, 2), tfidf__stop_words=english; total time=   2.9s\n",
      "[CV] END model__C=100.0, model__kernel=poly, tfidf__ngram_range=(1, 2), tfidf__stop_words=english; total time=   2.9s\n",
      "[CV] END model__C=100.0, model__kernel=rbf, tfidf__ngram_range=(1, 1), tfidf__stop_words=None; total time=   3.0s\n",
      "[CV] END model__C=100.0, model__kernel=rbf, tfidf__ngram_range=(1, 1), tfidf__stop_words=None; total time=   3.0s\n",
      "[CV] END model__C=100.0, model__kernel=rbf, tfidf__ngram_range=(1, 1), tfidf__stop_words=None; total time=   3.0s\n",
      "[CV] END model__C=100.0, model__kernel=rbf, tfidf__ngram_range=(1, 1), tfidf__stop_words=None; total time=   3.0s\n",
      "[CV] END model__C=100.0, model__kernel=rbf, tfidf__ngram_range=(1, 1), tfidf__stop_words=None; total time=   3.0s\n",
      "[CV] END model__C=100.0, model__kernel=rbf, tfidf__ngram_range=(1, 1), tfidf__stop_words=english; total time=   2.2s\n",
      "[CV] END model__C=100.0, model__kernel=rbf, tfidf__ngram_range=(1, 1), tfidf__stop_words=english; total time=   2.1s\n",
      "[CV] END model__C=100.0, model__kernel=rbf, tfidf__ngram_range=(1, 1), tfidf__stop_words=english; total time=   2.2s\n",
      "[CV] END model__C=100.0, model__kernel=rbf, tfidf__ngram_range=(1, 1), tfidf__stop_words=english; total time=   2.2s\n",
      "[CV] END model__C=100.0, model__kernel=rbf, tfidf__ngram_range=(1, 1), tfidf__stop_words=english; total time=   2.1s\n",
      "[CV] END model__C=100.0, model__kernel=rbf, tfidf__ngram_range=(1, 2), tfidf__stop_words=None; total time=   4.3s\n",
      "[CV] END model__C=100.0, model__kernel=rbf, tfidf__ngram_range=(1, 2), tfidf__stop_words=None; total time=   4.7s\n",
      "[CV] END model__C=100.0, model__kernel=rbf, tfidf__ngram_range=(1, 2), tfidf__stop_words=None; total time=   4.8s\n",
      "[CV] END model__C=100.0, model__kernel=rbf, tfidf__ngram_range=(1, 2), tfidf__stop_words=None; total time=   4.9s\n",
      "[CV] END model__C=100.0, model__kernel=rbf, tfidf__ngram_range=(1, 2), tfidf__stop_words=None; total time=   4.8s\n",
      "[CV] END model__C=100.0, model__kernel=rbf, tfidf__ngram_range=(1, 2), tfidf__stop_words=english; total time=   3.2s\n",
      "[CV] END model__C=100.0, model__kernel=rbf, tfidf__ngram_range=(1, 2), tfidf__stop_words=english; total time=   3.1s\n",
      "[CV] END model__C=100.0, model__kernel=rbf, tfidf__ngram_range=(1, 2), tfidf__stop_words=english; total time=   3.1s\n",
      "[CV] END model__C=100.0, model__kernel=rbf, tfidf__ngram_range=(1, 2), tfidf__stop_words=english; total time=   2.9s\n",
      "[CV] END model__C=100.0, model__kernel=rbf, tfidf__ngram_range=(1, 2), tfidf__stop_words=english; total time=   3.0s\n"
     ]
    },
    {
     "data": {
      "text/html": [
       "<style>#sk-container-id-2 {color: black;background-color: white;}#sk-container-id-2 pre{padding: 0;}#sk-container-id-2 div.sk-toggleable {background-color: white;}#sk-container-id-2 label.sk-toggleable__label {cursor: pointer;display: block;width: 100%;margin-bottom: 0;padding: 0.3em;box-sizing: border-box;text-align: center;}#sk-container-id-2 label.sk-toggleable__label-arrow:before {content: \"▸\";float: left;margin-right: 0.25em;color: #696969;}#sk-container-id-2 label.sk-toggleable__label-arrow:hover:before {color: black;}#sk-container-id-2 div.sk-estimator:hover label.sk-toggleable__label-arrow:before {color: black;}#sk-container-id-2 div.sk-toggleable__content {max-height: 0;max-width: 0;overflow: hidden;text-align: left;background-color: #f0f8ff;}#sk-container-id-2 div.sk-toggleable__content pre {margin: 0.2em;color: black;border-radius: 0.25em;background-color: #f0f8ff;}#sk-container-id-2 input.sk-toggleable__control:checked~div.sk-toggleable__content {max-height: 200px;max-width: 100%;overflow: auto;}#sk-container-id-2 input.sk-toggleable__control:checked~label.sk-toggleable__label-arrow:before {content: \"▾\";}#sk-container-id-2 div.sk-estimator input.sk-toggleable__control:checked~label.sk-toggleable__label {background-color: #d4ebff;}#sk-container-id-2 div.sk-label input.sk-toggleable__control:checked~label.sk-toggleable__label {background-color: #d4ebff;}#sk-container-id-2 input.sk-hidden--visually {border: 0;clip: rect(1px 1px 1px 1px);clip: rect(1px, 1px, 1px, 1px);height: 1px;margin: -1px;overflow: hidden;padding: 0;position: absolute;width: 1px;}#sk-container-id-2 div.sk-estimator {font-family: monospace;background-color: #f0f8ff;border: 1px dotted black;border-radius: 0.25em;box-sizing: border-box;margin-bottom: 0.5em;}#sk-container-id-2 div.sk-estimator:hover {background-color: #d4ebff;}#sk-container-id-2 div.sk-parallel-item::after {content: \"\";width: 100%;border-bottom: 1px solid gray;flex-grow: 1;}#sk-container-id-2 div.sk-label:hover label.sk-toggleable__label {background-color: #d4ebff;}#sk-container-id-2 div.sk-serial::before {content: \"\";position: absolute;border-left: 1px solid gray;box-sizing: border-box;top: 0;bottom: 0;left: 50%;z-index: 0;}#sk-container-id-2 div.sk-serial {display: flex;flex-direction: column;align-items: center;background-color: white;padding-right: 0.2em;padding-left: 0.2em;position: relative;}#sk-container-id-2 div.sk-item {position: relative;z-index: 1;}#sk-container-id-2 div.sk-parallel {display: flex;align-items: stretch;justify-content: center;background-color: white;position: relative;}#sk-container-id-2 div.sk-item::before, #sk-container-id-2 div.sk-parallel-item::before {content: \"\";position: absolute;border-left: 1px solid gray;box-sizing: border-box;top: 0;bottom: 0;left: 50%;z-index: -1;}#sk-container-id-2 div.sk-parallel-item {display: flex;flex-direction: column;z-index: 1;position: relative;background-color: white;}#sk-container-id-2 div.sk-parallel-item:first-child::after {align-self: flex-end;width: 50%;}#sk-container-id-2 div.sk-parallel-item:last-child::after {align-self: flex-start;width: 50%;}#sk-container-id-2 div.sk-parallel-item:only-child::after {width: 0;}#sk-container-id-2 div.sk-dashed-wrapped {border: 1px dashed gray;margin: 0 0.4em 0.5em 0.4em;box-sizing: border-box;padding-bottom: 0.4em;background-color: white;}#sk-container-id-2 div.sk-label label {font-family: monospace;font-weight: bold;display: inline-block;line-height: 1.2em;}#sk-container-id-2 div.sk-label-container {text-align: center;}#sk-container-id-2 div.sk-container {/* jupyter's `normalize.less` sets `[hidden] { display: none; }` but bootstrap.min.css set `[hidden] { display: none !important; }` so we also need the `!important` here to be able to override the default hidden behavior on the sphinx rendered scikit-learn.org. See: https://github.com/scikit-learn/scikit-learn/issues/21755 */display: inline-block !important;position: relative;}#sk-container-id-2 div.sk-text-repr-fallback {display: none;}</style><div id=\"sk-container-id-2\" class=\"sk-top-container\"><div class=\"sk-text-repr-fallback\"><pre>GridSearchCV(estimator=Pipeline(steps=[(&#x27;tfidf&#x27;, TfidfVectorizer()),\n",
       "                                       (&#x27;model&#x27;, SVC())]),\n",
       "             param_grid={&#x27;model__C&#x27;: array([1.e-02, 1.e-01, 1.e+00, 1.e+01, 1.e+02]),\n",
       "                         &#x27;model__kernel&#x27;: [&#x27;poly&#x27;, &#x27;rbf&#x27;],\n",
       "                         &#x27;tfidf__ngram_range&#x27;: [(1, 1), (1, 2)],\n",
       "                         &#x27;tfidf__stop_words&#x27;: [None, &#x27;english&#x27;]},\n",
       "             verbose=2)</pre><b>In a Jupyter environment, please rerun this cell to show the HTML representation or trust the notebook. <br />On GitHub, the HTML representation is unable to render, please try loading this page with nbviewer.org.</b></div><div class=\"sk-container\" hidden><div class=\"sk-item sk-dashed-wrapped\"><div class=\"sk-label-container\"><div class=\"sk-label sk-toggleable\"><input class=\"sk-toggleable__control sk-hidden--visually\" id=\"sk-estimator-id-4\" type=\"checkbox\" ><label for=\"sk-estimator-id-4\" class=\"sk-toggleable__label sk-toggleable__label-arrow\">GridSearchCV</label><div class=\"sk-toggleable__content\"><pre>GridSearchCV(estimator=Pipeline(steps=[(&#x27;tfidf&#x27;, TfidfVectorizer()),\n",
       "                                       (&#x27;model&#x27;, SVC())]),\n",
       "             param_grid={&#x27;model__C&#x27;: array([1.e-02, 1.e-01, 1.e+00, 1.e+01, 1.e+02]),\n",
       "                         &#x27;model__kernel&#x27;: [&#x27;poly&#x27;, &#x27;rbf&#x27;],\n",
       "                         &#x27;tfidf__ngram_range&#x27;: [(1, 1), (1, 2)],\n",
       "                         &#x27;tfidf__stop_words&#x27;: [None, &#x27;english&#x27;]},\n",
       "             verbose=2)</pre></div></div></div><div class=\"sk-parallel\"><div class=\"sk-parallel-item\"><div class=\"sk-item\"><div class=\"sk-label-container\"><div class=\"sk-label sk-toggleable\"><input class=\"sk-toggleable__control sk-hidden--visually\" id=\"sk-estimator-id-5\" type=\"checkbox\" ><label for=\"sk-estimator-id-5\" class=\"sk-toggleable__label sk-toggleable__label-arrow\">estimator: Pipeline</label><div class=\"sk-toggleable__content\"><pre>Pipeline(steps=[(&#x27;tfidf&#x27;, TfidfVectorizer()), (&#x27;model&#x27;, SVC())])</pre></div></div></div><div class=\"sk-serial\"><div class=\"sk-item\"><div class=\"sk-serial\"><div class=\"sk-item\"><div class=\"sk-estimator sk-toggleable\"><input class=\"sk-toggleable__control sk-hidden--visually\" id=\"sk-estimator-id-6\" type=\"checkbox\" ><label for=\"sk-estimator-id-6\" class=\"sk-toggleable__label sk-toggleable__label-arrow\">TfidfVectorizer</label><div class=\"sk-toggleable__content\"><pre>TfidfVectorizer()</pre></div></div></div><div class=\"sk-item\"><div class=\"sk-estimator sk-toggleable\"><input class=\"sk-toggleable__control sk-hidden--visually\" id=\"sk-estimator-id-7\" type=\"checkbox\" ><label for=\"sk-estimator-id-7\" class=\"sk-toggleable__label sk-toggleable__label-arrow\">SVC</label><div class=\"sk-toggleable__content\"><pre>SVC()</pre></div></div></div></div></div></div></div></div></div></div></div></div>"
      ],
      "text/plain": [
       "GridSearchCV(estimator=Pipeline(steps=[('tfidf', TfidfVectorizer()),\n",
       "                                       ('model', SVC())]),\n",
       "             param_grid={'model__C': array([1.e-02, 1.e-01, 1.e+00, 1.e+01, 1.e+02]),\n",
       "                         'model__kernel': ['poly', 'rbf'],\n",
       "                         'tfidf__ngram_range': [(1, 1), (1, 2)],\n",
       "                         'tfidf__stop_words': [None, 'english']},\n",
       "             verbose=2)"
      ]
     },
     "execution_count": 19,
     "metadata": {},
     "output_type": "execute_result"
    }
   ],
   "source": [
    "pipeline_gs.fit(X_train, y_train)"
   ]
  },
  {
   "cell_type": "code",
   "execution_count": 20,
   "id": "86b6da10",
   "metadata": {},
   "outputs": [],
   "source": [
    "# pipeline_gs.best_params_"
   ]
  },
  {
   "cell_type": "code",
   "execution_count": 21,
   "id": "d41c07a3",
   "metadata": {},
   "outputs": [],
   "source": [
    "y_pred = pipeline_gs.predict(X_test)"
   ]
  },
  {
   "cell_type": "code",
   "execution_count": 22,
   "id": "71db1f31",
   "metadata": {},
   "outputs": [
    {
     "name": "stdout",
     "output_type": "stream",
     "text": [
      "              precision    recall  f1-score   support\n",
      "\n",
      "    negative      0.283     0.086     0.132       175\n",
      "     neutral      0.688     0.902     0.781       622\n",
      "    positive      0.784     0.634     0.701       372\n",
      "\n",
      "    accuracy                          0.695      1169\n",
      "   macro avg      0.585     0.541     0.538      1169\n",
      "weighted avg      0.658     0.695     0.658      1169\n",
      "\n"
     ]
    }
   ],
   "source": [
    "print(classification_report(y_test, y_pred, digits=3))"
   ]
  }
 ],
 "metadata": {
  "kernelspec": {
   "display_name": "Python 3 (ipykernel)",
   "language": "python",
   "name": "python3"
  },
  "language_info": {
   "codemirror_mode": {
    "name": "ipython",
    "version": 3
   },
   "file_extension": ".py",
   "mimetype": "text/x-python",
   "name": "python",
   "nbconvert_exporter": "python",
   "pygments_lexer": "ipython3",
   "version": "3.9.5"
  }
 },
 "nbformat": 4,
 "nbformat_minor": 5
}
