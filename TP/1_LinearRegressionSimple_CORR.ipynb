{
 "cells": [
  {
   "cell_type": "markdown",
   "id": "01465d6e",
   "metadata": {},
   "source": [
    "# Simple Linear Regression from Scratch"
   ]
  },
  {
   "cell_type": "markdown",
   "id": "389f4b2a",
   "metadata": {},
   "source": [
    "- On considère le dataset `possum.csv` qui rassemble des données sur des opossums.\n",
    "\n",
    "- Implémentez une **régression linaire** permettant de prédire la variable $Y$ `footlgth`en fonction de la variable $X$ `earconch`.\n",
    "\n",
    "- On rappelle que le problème de minimisation et la solution associée de la régression linéaire sont donnés par:\n",
    "\n",
    "\\begin{eqnarray*}\n",
    "\\hat \\beta_0, \\hat \\beta_1 & = & \\underset{\\beta_0, \\beta_1}{\\arg \\min}~\\mathrm{RSS} ( \\beta_0, \\beta_1 ) \n",
    "= \\underset{\\beta_0, \\beta_1}{\\arg \\min} \\sum_{i=1}^N \\big( (\\beta_0 + \\beta_1 x_i) - y_i \\big)^2 \\\\\n",
    "\\\\\n",
    "\\hat \\beta_0  = \\bar y - \\hat \\beta_1 \\bar x & ~~~~~\\text{et}~~~~~ & \\hat \\beta_1  = \\frac{\\sum_{i=1}^N x_i (y_i - \\bar y)}{\\sum_{i=1}^N x_i (x_i - \\bar x)} = \\frac{\\sum_{i=1}^N ( x_i - \\bar x)(y_i - \\bar y)}{\\sum_{i=1}^N (x_i - \\bar x)^2} = \\frac{S_{xy}}{S_{xx}}  \\\\\n",
    "\\\\\n",
    "& \\text{où} & \\bar x = \\frac{1}{N}\\sum_{i=1}^N x_i ~~~\\text{et}~~~ \\bar y = \\frac{1}{N}\\sum_{i=1}^N y_i\n",
    "\\end{eqnarray*}"
   ]
  },
  {
   "cell_type": "markdown",
   "id": "3d94460f",
   "metadata": {},
   "source": [
    "## Librairies"
   ]
  },
  {
   "cell_type": "code",
   "execution_count": 142,
   "id": "84dfc466",
   "metadata": {},
   "outputs": [],
   "source": [
    "import pandas as pd\n",
    "import numpy as np\n",
    "\n",
    "import matplotlib.pyplot as plt"
   ]
  },
  {
   "cell_type": "markdown",
   "id": "0b26f9c7",
   "metadata": {},
   "source": [
    "## Data"
   ]
  },
  {
   "cell_type": "code",
   "execution_count": 143,
   "id": "3f56942e",
   "metadata": {},
   "outputs": [],
   "source": [
    "dataset = pd.read_csv(\"data/possum.csv\")"
   ]
  },
  {
   "cell_type": "code",
   "execution_count": 144,
   "id": "c9706249",
   "metadata": {},
   "outputs": [
    {
     "data": {
      "text/html": [
       "<div>\n",
       "<style scoped>\n",
       "    .dataframe tbody tr th:only-of-type {\n",
       "        vertical-align: middle;\n",
       "    }\n",
       "\n",
       "    .dataframe tbody tr th {\n",
       "        vertical-align: top;\n",
       "    }\n",
       "\n",
       "    .dataframe thead th {\n",
       "        text-align: right;\n",
       "    }\n",
       "</style>\n",
       "<table border=\"1\" class=\"dataframe\">\n",
       "  <thead>\n",
       "    <tr style=\"text-align: right;\">\n",
       "      <th></th>\n",
       "      <th>case</th>\n",
       "      <th>site</th>\n",
       "      <th>Pop</th>\n",
       "      <th>sex</th>\n",
       "      <th>age</th>\n",
       "      <th>hdlngth</th>\n",
       "      <th>skullw</th>\n",
       "      <th>totlngth</th>\n",
       "      <th>taill</th>\n",
       "      <th>footlgth</th>\n",
       "      <th>earconch</th>\n",
       "      <th>eye</th>\n",
       "      <th>chest</th>\n",
       "      <th>belly</th>\n",
       "    </tr>\n",
       "  </thead>\n",
       "  <tbody>\n",
       "    <tr>\n",
       "      <th>0</th>\n",
       "      <td>1</td>\n",
       "      <td>1</td>\n",
       "      <td>Vic</td>\n",
       "      <td>m</td>\n",
       "      <td>8.0</td>\n",
       "      <td>94.1</td>\n",
       "      <td>60.4</td>\n",
       "      <td>89.0</td>\n",
       "      <td>36.0</td>\n",
       "      <td>74.5</td>\n",
       "      <td>54.5</td>\n",
       "      <td>15.2</td>\n",
       "      <td>28.0</td>\n",
       "      <td>36.0</td>\n",
       "    </tr>\n",
       "    <tr>\n",
       "      <th>1</th>\n",
       "      <td>2</td>\n",
       "      <td>1</td>\n",
       "      <td>Vic</td>\n",
       "      <td>f</td>\n",
       "      <td>6.0</td>\n",
       "      <td>92.5</td>\n",
       "      <td>57.6</td>\n",
       "      <td>91.5</td>\n",
       "      <td>36.5</td>\n",
       "      <td>72.5</td>\n",
       "      <td>51.2</td>\n",
       "      <td>16.0</td>\n",
       "      <td>28.5</td>\n",
       "      <td>33.0</td>\n",
       "    </tr>\n",
       "    <tr>\n",
       "      <th>2</th>\n",
       "      <td>3</td>\n",
       "      <td>1</td>\n",
       "      <td>Vic</td>\n",
       "      <td>f</td>\n",
       "      <td>6.0</td>\n",
       "      <td>94.0</td>\n",
       "      <td>60.0</td>\n",
       "      <td>95.5</td>\n",
       "      <td>39.0</td>\n",
       "      <td>75.4</td>\n",
       "      <td>51.9</td>\n",
       "      <td>15.5</td>\n",
       "      <td>30.0</td>\n",
       "      <td>34.0</td>\n",
       "    </tr>\n",
       "    <tr>\n",
       "      <th>3</th>\n",
       "      <td>4</td>\n",
       "      <td>1</td>\n",
       "      <td>Vic</td>\n",
       "      <td>f</td>\n",
       "      <td>6.0</td>\n",
       "      <td>93.2</td>\n",
       "      <td>57.1</td>\n",
       "      <td>92.0</td>\n",
       "      <td>38.0</td>\n",
       "      <td>76.1</td>\n",
       "      <td>52.2</td>\n",
       "      <td>15.2</td>\n",
       "      <td>28.0</td>\n",
       "      <td>34.0</td>\n",
       "    </tr>\n",
       "    <tr>\n",
       "      <th>4</th>\n",
       "      <td>5</td>\n",
       "      <td>1</td>\n",
       "      <td>Vic</td>\n",
       "      <td>f</td>\n",
       "      <td>2.0</td>\n",
       "      <td>91.5</td>\n",
       "      <td>56.3</td>\n",
       "      <td>85.5</td>\n",
       "      <td>36.0</td>\n",
       "      <td>71.0</td>\n",
       "      <td>53.2</td>\n",
       "      <td>15.1</td>\n",
       "      <td>28.5</td>\n",
       "      <td>33.0</td>\n",
       "    </tr>\n",
       "    <tr>\n",
       "      <th>...</th>\n",
       "      <td>...</td>\n",
       "      <td>...</td>\n",
       "      <td>...</td>\n",
       "      <td>...</td>\n",
       "      <td>...</td>\n",
       "      <td>...</td>\n",
       "      <td>...</td>\n",
       "      <td>...</td>\n",
       "      <td>...</td>\n",
       "      <td>...</td>\n",
       "      <td>...</td>\n",
       "      <td>...</td>\n",
       "      <td>...</td>\n",
       "      <td>...</td>\n",
       "    </tr>\n",
       "    <tr>\n",
       "      <th>99</th>\n",
       "      <td>100</td>\n",
       "      <td>7</td>\n",
       "      <td>other</td>\n",
       "      <td>m</td>\n",
       "      <td>1.0</td>\n",
       "      <td>89.5</td>\n",
       "      <td>56.0</td>\n",
       "      <td>81.5</td>\n",
       "      <td>36.5</td>\n",
       "      <td>66.0</td>\n",
       "      <td>46.8</td>\n",
       "      <td>14.8</td>\n",
       "      <td>23.0</td>\n",
       "      <td>27.0</td>\n",
       "    </tr>\n",
       "    <tr>\n",
       "      <th>100</th>\n",
       "      <td>101</td>\n",
       "      <td>7</td>\n",
       "      <td>other</td>\n",
       "      <td>m</td>\n",
       "      <td>1.0</td>\n",
       "      <td>88.6</td>\n",
       "      <td>54.7</td>\n",
       "      <td>82.5</td>\n",
       "      <td>39.0</td>\n",
       "      <td>64.4</td>\n",
       "      <td>48.0</td>\n",
       "      <td>14.0</td>\n",
       "      <td>25.0</td>\n",
       "      <td>33.0</td>\n",
       "    </tr>\n",
       "    <tr>\n",
       "      <th>101</th>\n",
       "      <td>102</td>\n",
       "      <td>7</td>\n",
       "      <td>other</td>\n",
       "      <td>f</td>\n",
       "      <td>6.0</td>\n",
       "      <td>92.4</td>\n",
       "      <td>55.0</td>\n",
       "      <td>89.0</td>\n",
       "      <td>38.0</td>\n",
       "      <td>63.5</td>\n",
       "      <td>45.4</td>\n",
       "      <td>13.0</td>\n",
       "      <td>25.0</td>\n",
       "      <td>30.0</td>\n",
       "    </tr>\n",
       "    <tr>\n",
       "      <th>102</th>\n",
       "      <td>103</td>\n",
       "      <td>7</td>\n",
       "      <td>other</td>\n",
       "      <td>m</td>\n",
       "      <td>4.0</td>\n",
       "      <td>91.5</td>\n",
       "      <td>55.2</td>\n",
       "      <td>82.5</td>\n",
       "      <td>36.5</td>\n",
       "      <td>62.9</td>\n",
       "      <td>45.9</td>\n",
       "      <td>15.4</td>\n",
       "      <td>25.0</td>\n",
       "      <td>29.0</td>\n",
       "    </tr>\n",
       "    <tr>\n",
       "      <th>103</th>\n",
       "      <td>104</td>\n",
       "      <td>7</td>\n",
       "      <td>other</td>\n",
       "      <td>f</td>\n",
       "      <td>3.0</td>\n",
       "      <td>93.6</td>\n",
       "      <td>59.9</td>\n",
       "      <td>89.0</td>\n",
       "      <td>40.0</td>\n",
       "      <td>67.6</td>\n",
       "      <td>46.0</td>\n",
       "      <td>14.8</td>\n",
       "      <td>28.5</td>\n",
       "      <td>33.5</td>\n",
       "    </tr>\n",
       "  </tbody>\n",
       "</table>\n",
       "<p>104 rows × 14 columns</p>\n",
       "</div>"
      ],
      "text/plain": [
       "     case  site    Pop sex  age  hdlngth  skullw  totlngth  taill  footlgth  \\\n",
       "0       1     1    Vic   m  8.0     94.1    60.4      89.0   36.0      74.5   \n",
       "1       2     1    Vic   f  6.0     92.5    57.6      91.5   36.5      72.5   \n",
       "2       3     1    Vic   f  6.0     94.0    60.0      95.5   39.0      75.4   \n",
       "3       4     1    Vic   f  6.0     93.2    57.1      92.0   38.0      76.1   \n",
       "4       5     1    Vic   f  2.0     91.5    56.3      85.5   36.0      71.0   \n",
       "..    ...   ...    ...  ..  ...      ...     ...       ...    ...       ...   \n",
       "99    100     7  other   m  1.0     89.5    56.0      81.5   36.5      66.0   \n",
       "100   101     7  other   m  1.0     88.6    54.7      82.5   39.0      64.4   \n",
       "101   102     7  other   f  6.0     92.4    55.0      89.0   38.0      63.5   \n",
       "102   103     7  other   m  4.0     91.5    55.2      82.5   36.5      62.9   \n",
       "103   104     7  other   f  3.0     93.6    59.9      89.0   40.0      67.6   \n",
       "\n",
       "     earconch   eye  chest  belly  \n",
       "0        54.5  15.2   28.0   36.0  \n",
       "1        51.2  16.0   28.5   33.0  \n",
       "2        51.9  15.5   30.0   34.0  \n",
       "3        52.2  15.2   28.0   34.0  \n",
       "4        53.2  15.1   28.5   33.0  \n",
       "..        ...   ...    ...    ...  \n",
       "99       46.8  14.8   23.0   27.0  \n",
       "100      48.0  14.0   25.0   33.0  \n",
       "101      45.4  13.0   25.0   30.0  \n",
       "102      45.9  15.4   25.0   29.0  \n",
       "103      46.0  14.8   28.5   33.5  \n",
       "\n",
       "[104 rows x 14 columns]"
      ]
     },
     "execution_count": 144,
     "metadata": {},
     "output_type": "execute_result"
    }
   ],
   "source": [
    "dataset"
   ]
  },
  {
   "cell_type": "markdown",
   "id": "597ec183",
   "metadata": {},
   "source": [
    "## Dataset"
   ]
  },
  {
   "cell_type": "code",
   "execution_count": 145,
   "id": "9824c197",
   "metadata": {},
   "outputs": [
    {
     "data": {
      "text/html": [
       "<div>\n",
       "<style scoped>\n",
       "    .dataframe tbody tr th:only-of-type {\n",
       "        vertical-align: middle;\n",
       "    }\n",
       "\n",
       "    .dataframe tbody tr th {\n",
       "        vertical-align: top;\n",
       "    }\n",
       "\n",
       "    .dataframe thead th {\n",
       "        text-align: right;\n",
       "    }\n",
       "</style>\n",
       "<table border=\"1\" class=\"dataframe\">\n",
       "  <thead>\n",
       "    <tr style=\"text-align: right;\">\n",
       "      <th></th>\n",
       "      <th>case</th>\n",
       "      <th>site</th>\n",
       "      <th>age</th>\n",
       "      <th>hdlngth</th>\n",
       "      <th>skullw</th>\n",
       "      <th>totlngth</th>\n",
       "      <th>taill</th>\n",
       "      <th>footlgth</th>\n",
       "      <th>earconch</th>\n",
       "      <th>eye</th>\n",
       "      <th>chest</th>\n",
       "      <th>belly</th>\n",
       "    </tr>\n",
       "  </thead>\n",
       "  <tbody>\n",
       "    <tr>\n",
       "      <th>case</th>\n",
       "      <td>1.000000</td>\n",
       "      <td>0.970353</td>\n",
       "      <td>-0.194525</td>\n",
       "      <td>-0.209177</td>\n",
       "      <td>-0.125065</td>\n",
       "      <td>-0.334329</td>\n",
       "      <td>0.315351</td>\n",
       "      <td>-0.782368</td>\n",
       "      <td>-0.773727</td>\n",
       "      <td>-0.084078</td>\n",
       "      <td>-0.402303</td>\n",
       "      <td>-0.211671</td>\n",
       "    </tr>\n",
       "    <tr>\n",
       "      <th>site</th>\n",
       "      <td>0.970353</td>\n",
       "      <td>1.000000</td>\n",
       "      <td>-0.131423</td>\n",
       "      <td>-0.163646</td>\n",
       "      <td>-0.083548</td>\n",
       "      <td>-0.260843</td>\n",
       "      <td>0.380444</td>\n",
       "      <td>-0.783009</td>\n",
       "      <td>-0.790716</td>\n",
       "      <td>-0.036987</td>\n",
       "      <td>-0.345494</td>\n",
       "      <td>-0.175266</td>\n",
       "    </tr>\n",
       "    <tr>\n",
       "      <th>age</th>\n",
       "      <td>-0.194525</td>\n",
       "      <td>-0.131423</td>\n",
       "      <td>1.000000</td>\n",
       "      <td>0.319022</td>\n",
       "      <td>0.285107</td>\n",
       "      <td>0.260280</td>\n",
       "      <td>0.118241</td>\n",
       "      <td>0.126190</td>\n",
       "      <td>0.053405</td>\n",
       "      <td>0.235553</td>\n",
       "      <td>0.334209</td>\n",
       "      <td>0.354298</td>\n",
       "    </tr>\n",
       "    <tr>\n",
       "      <th>hdlngth</th>\n",
       "      <td>-0.209177</td>\n",
       "      <td>-0.163646</td>\n",
       "      <td>0.319022</td>\n",
       "      <td>1.000000</td>\n",
       "      <td>0.710827</td>\n",
       "      <td>0.691094</td>\n",
       "      <td>0.287429</td>\n",
       "      <td>0.391605</td>\n",
       "      <td>0.121463</td>\n",
       "      <td>0.347175</td>\n",
       "      <td>0.631498</td>\n",
       "      <td>0.562663</td>\n",
       "    </tr>\n",
       "    <tr>\n",
       "      <th>skullw</th>\n",
       "      <td>-0.125065</td>\n",
       "      <td>-0.083548</td>\n",
       "      <td>0.285107</td>\n",
       "      <td>0.710827</td>\n",
       "      <td>1.000000</td>\n",
       "      <td>0.526413</td>\n",
       "      <td>0.255921</td>\n",
       "      <td>0.275059</td>\n",
       "      <td>-0.000537</td>\n",
       "      <td>0.321991</td>\n",
       "      <td>0.629737</td>\n",
       "      <td>0.451838</td>\n",
       "    </tr>\n",
       "    <tr>\n",
       "      <th>totlngth</th>\n",
       "      <td>-0.334329</td>\n",
       "      <td>-0.260843</td>\n",
       "      <td>0.260280</td>\n",
       "      <td>0.691094</td>\n",
       "      <td>0.526413</td>\n",
       "      <td>1.000000</td>\n",
       "      <td>0.565646</td>\n",
       "      <td>0.444832</td>\n",
       "      <td>0.154484</td>\n",
       "      <td>0.247786</td>\n",
       "      <td>0.577890</td>\n",
       "      <td>0.519465</td>\n",
       "    </tr>\n",
       "    <tr>\n",
       "      <th>taill</th>\n",
       "      <td>0.315351</td>\n",
       "      <td>0.380444</td>\n",
       "      <td>0.118241</td>\n",
       "      <td>0.287429</td>\n",
       "      <td>0.255921</td>\n",
       "      <td>0.565646</td>\n",
       "      <td>1.000000</td>\n",
       "      <td>-0.126277</td>\n",
       "      <td>-0.385136</td>\n",
       "      <td>0.198134</td>\n",
       "      <td>0.174997</td>\n",
       "      <td>0.294493</td>\n",
       "    </tr>\n",
       "    <tr>\n",
       "      <th>footlgth</th>\n",
       "      <td>-0.782368</td>\n",
       "      <td>-0.783009</td>\n",
       "      <td>0.126190</td>\n",
       "      <td>0.391605</td>\n",
       "      <td>0.275059</td>\n",
       "      <td>0.444832</td>\n",
       "      <td>-0.126277</td>\n",
       "      <td>1.000000</td>\n",
       "      <td>0.783050</td>\n",
       "      <td>0.005213</td>\n",
       "      <td>0.450590</td>\n",
       "      <td>0.302584</td>\n",
       "    </tr>\n",
       "    <tr>\n",
       "      <th>earconch</th>\n",
       "      <td>-0.773727</td>\n",
       "      <td>-0.790716</td>\n",
       "      <td>0.053405</td>\n",
       "      <td>0.121463</td>\n",
       "      <td>-0.000537</td>\n",
       "      <td>0.154484</td>\n",
       "      <td>-0.385136</td>\n",
       "      <td>0.783050</td>\n",
       "      <td>1.000000</td>\n",
       "      <td>-0.165092</td>\n",
       "      <td>0.199230</td>\n",
       "      <td>0.066527</td>\n",
       "    </tr>\n",
       "    <tr>\n",
       "      <th>eye</th>\n",
       "      <td>-0.084078</td>\n",
       "      <td>-0.036987</td>\n",
       "      <td>0.235553</td>\n",
       "      <td>0.347175</td>\n",
       "      <td>0.321991</td>\n",
       "      <td>0.247786</td>\n",
       "      <td>0.198134</td>\n",
       "      <td>0.005213</td>\n",
       "      <td>-0.165092</td>\n",
       "      <td>1.000000</td>\n",
       "      <td>0.149338</td>\n",
       "      <td>0.235716</td>\n",
       "    </tr>\n",
       "    <tr>\n",
       "      <th>chest</th>\n",
       "      <td>-0.402303</td>\n",
       "      <td>-0.345494</td>\n",
       "      <td>0.334209</td>\n",
       "      <td>0.631498</td>\n",
       "      <td>0.629737</td>\n",
       "      <td>0.577890</td>\n",
       "      <td>0.174997</td>\n",
       "      <td>0.450590</td>\n",
       "      <td>0.199230</td>\n",
       "      <td>0.149338</td>\n",
       "      <td>1.000000</td>\n",
       "      <td>0.606170</td>\n",
       "    </tr>\n",
       "    <tr>\n",
       "      <th>belly</th>\n",
       "      <td>-0.211671</td>\n",
       "      <td>-0.175266</td>\n",
       "      <td>0.354298</td>\n",
       "      <td>0.562663</td>\n",
       "      <td>0.451838</td>\n",
       "      <td>0.519465</td>\n",
       "      <td>0.294493</td>\n",
       "      <td>0.302584</td>\n",
       "      <td>0.066527</td>\n",
       "      <td>0.235716</td>\n",
       "      <td>0.606170</td>\n",
       "      <td>1.000000</td>\n",
       "    </tr>\n",
       "  </tbody>\n",
       "</table>\n",
       "</div>"
      ],
      "text/plain": [
       "              case      site       age   hdlngth    skullw  totlngth  \\\n",
       "case      1.000000  0.970353 -0.194525 -0.209177 -0.125065 -0.334329   \n",
       "site      0.970353  1.000000 -0.131423 -0.163646 -0.083548 -0.260843   \n",
       "age      -0.194525 -0.131423  1.000000  0.319022  0.285107  0.260280   \n",
       "hdlngth  -0.209177 -0.163646  0.319022  1.000000  0.710827  0.691094   \n",
       "skullw   -0.125065 -0.083548  0.285107  0.710827  1.000000  0.526413   \n",
       "totlngth -0.334329 -0.260843  0.260280  0.691094  0.526413  1.000000   \n",
       "taill     0.315351  0.380444  0.118241  0.287429  0.255921  0.565646   \n",
       "footlgth -0.782368 -0.783009  0.126190  0.391605  0.275059  0.444832   \n",
       "earconch -0.773727 -0.790716  0.053405  0.121463 -0.000537  0.154484   \n",
       "eye      -0.084078 -0.036987  0.235553  0.347175  0.321991  0.247786   \n",
       "chest    -0.402303 -0.345494  0.334209  0.631498  0.629737  0.577890   \n",
       "belly    -0.211671 -0.175266  0.354298  0.562663  0.451838  0.519465   \n",
       "\n",
       "             taill  footlgth  earconch       eye     chest     belly  \n",
       "case      0.315351 -0.782368 -0.773727 -0.084078 -0.402303 -0.211671  \n",
       "site      0.380444 -0.783009 -0.790716 -0.036987 -0.345494 -0.175266  \n",
       "age       0.118241  0.126190  0.053405  0.235553  0.334209  0.354298  \n",
       "hdlngth   0.287429  0.391605  0.121463  0.347175  0.631498  0.562663  \n",
       "skullw    0.255921  0.275059 -0.000537  0.321991  0.629737  0.451838  \n",
       "totlngth  0.565646  0.444832  0.154484  0.247786  0.577890  0.519465  \n",
       "taill     1.000000 -0.126277 -0.385136  0.198134  0.174997  0.294493  \n",
       "footlgth -0.126277  1.000000  0.783050  0.005213  0.450590  0.302584  \n",
       "earconch -0.385136  0.783050  1.000000 -0.165092  0.199230  0.066527  \n",
       "eye       0.198134  0.005213 -0.165092  1.000000  0.149338  0.235716  \n",
       "chest     0.174997  0.450590  0.199230  0.149338  1.000000  0.606170  \n",
       "belly     0.294493  0.302584  0.066527  0.235716  0.606170  1.000000  "
      ]
     },
     "execution_count": 145,
     "metadata": {},
     "output_type": "execute_result"
    }
   ],
   "source": [
    "dataset.corr(numeric_only=True)"
   ]
  },
  {
   "cell_type": "code",
   "execution_count": 146,
   "id": "d01dd392",
   "metadata": {},
   "outputs": [],
   "source": [
    "X = dataset.earconch.values"
   ]
  },
  {
   "cell_type": "code",
   "execution_count": 147,
   "id": "b805bd0d",
   "metadata": {},
   "outputs": [],
   "source": [
    "Y = dataset.footlgth.values"
   ]
  },
  {
   "cell_type": "code",
   "execution_count": 148,
   "id": "5822ea7e",
   "metadata": {},
   "outputs": [],
   "source": [
    "Y = np.nan_to_num(Y, nan=np.nanmean(Y))"
   ]
  },
  {
   "cell_type": "code",
   "execution_count": 149,
   "id": "475b9e3e",
   "metadata": {},
   "outputs": [
    {
     "data": {
      "image/png": "[encoded data removed]",
      "text/plain": [
       "<Figure size 720x360 with 1 Axes>"
      ]
     },
     "metadata": {
      "needs_background": "light"
     },
     "output_type": "display_data"
    }
   ],
   "source": [
    "plt.figure(figsize=(10, 5))\n",
    "\n",
    "plt.scatter(X, Y, label=\"data\")\n",
    "\n",
    "plt.xlabel(\"earconch\")\n",
    "plt.ylabel(\"footlgth\")\n",
    "\n",
    "plt.legend()\n",
    "\n",
    "plt.show()"
   ]
  },
  {
   "cell_type": "markdown",
   "id": "2c1932df",
   "metadata": {},
   "source": [
    "## Linear regression (from scratch)"
   ]
  },
  {
   "cell_type": "code",
   "execution_count": 150,
   "id": "7b0ded2b",
   "metadata": {},
   "outputs": [],
   "source": [
    "x_bar = np.mean(X)\n",
    "y_bar = np.mean(Y)"
   ]
  },
  {
   "cell_type": "code",
   "execution_count": 151,
   "id": "aa70ec55",
   "metadata": {},
   "outputs": [
    {
     "data": {
      "text/plain": [
       "(48.13076923076923, 68.45922330097088)"
      ]
     },
     "execution_count": 151,
     "metadata": {},
     "output_type": "execute_result"
    }
   ],
   "source": [
    "x_bar, y_bar"
   ]
  },
  {
   "cell_type": "code",
   "execution_count": 152,
   "id": "f4613de0",
   "metadata": {},
   "outputs": [],
   "source": [
    "num = np.sum(X * (Y - y_bar))"
   ]
  },
  {
   "cell_type": "code",
   "execution_count": 153,
   "id": "0b98621f",
   "metadata": {},
   "outputs": [],
   "source": [
    "den = np.sum(X * (X - x_bar))"
   ]
  },
  {
   "cell_type": "code",
   "execution_count": 154,
   "id": "27c98176",
   "metadata": {},
   "outputs": [],
   "source": [
    "beta_1 = num / den"
   ]
  },
  {
   "cell_type": "code",
   "execution_count": 155,
   "id": "8c0a16e6",
   "metadata": {},
   "outputs": [
    {
     "data": {
      "text/plain": [
       "0.8184891480057274"
      ]
     },
     "execution_count": 155,
     "metadata": {},
     "output_type": "execute_result"
    }
   ],
   "source": [
    "beta_1"
   ]
  },
  {
   "cell_type": "code",
   "execution_count": 156,
   "id": "07bfd347",
   "metadata": {},
   "outputs": [],
   "source": [
    "beta_0 = y_bar - beta_1*x_bar "
   ]
  },
  {
   "cell_type": "code",
   "execution_count": 157,
   "id": "8bae14be",
   "metadata": {},
   "outputs": [
    {
     "data": {
      "text/plain": [
       "29.064711000418292"
      ]
     },
     "execution_count": 157,
     "metadata": {},
     "output_type": "execute_result"
    }
   ],
   "source": [
    "beta_0"
   ]
  },
  {
   "cell_type": "code",
   "execution_count": 158,
   "id": "299cd307",
   "metadata": {},
   "outputs": [],
   "source": [
    "def predict(x, beta_0=beta_0, beta_1=beta_1):\n",
    "    return beta_0 + beta_1 * x"
   ]
  },
  {
   "cell_type": "code",
   "execution_count": 159,
   "id": "a99c2f25",
   "metadata": {},
   "outputs": [
    {
     "data": {
      "image/png": "[encoded data removed]",
      "text/plain": [
       "<Figure size 720x360 with 1 Axes>"
      ]
     },
     "metadata": {
      "needs_background": "light"
     },
     "output_type": "display_data"
    }
   ],
   "source": [
    "plt.figure(figsize=(10, 5))\n",
    "\n",
    "plt.scatter(X, Y, label=\"data\")\n",
    "plt.scatter(X, predict(X), label=\"predictions\")\n",
    "\n",
    "plt.xlabel(\"earconch\")\n",
    "plt.ylabel(\"footlgth\")\n",
    "\n",
    "plt.legend()\n",
    "\n",
    "plt.show()"
   ]
  },
  {
   "cell_type": "markdown",
   "id": "3fa5adf0",
   "metadata": {},
   "source": [
    "## Linear regression (scikit-learn)"
   ]
  },
  {
   "cell_type": "code",
   "execution_count": 160,
   "id": "fddc50dc",
   "metadata": {},
   "outputs": [],
   "source": [
    "from sklearn.linear_model import LinearRegression"
   ]
  },
  {
   "cell_type": "code",
   "execution_count": 161,
   "id": "cdc0791a",
   "metadata": {},
   "outputs": [
    {
     "data": {
      "text/html": [
       "<style>#sk-container-id-2 {color: black;background-color: white;}#sk-container-id-2 pre{padding: 0;}#sk-container-id-2 div.sk-toggleable {background-color: white;}#sk-container-id-2 label.sk-toggleable__label {cursor: pointer;display: block;width: 100%;margin-bottom: 0;padding: 0.3em;box-sizing: border-box;text-align: center;}#sk-container-id-2 label.sk-toggleable__label-arrow:before {content: \"▸\";float: left;margin-right: 0.25em;color: #696969;}#sk-container-id-2 label.sk-toggleable__label-arrow:hover:before {color: black;}#sk-container-id-2 div.sk-estimator:hover label.sk-toggleable__label-arrow:before {color: black;}#sk-container-id-2 div.sk-toggleable__content {max-height: 0;max-width: 0;overflow: hidden;text-align: left;background-color: #f0f8ff;}#sk-container-id-2 div.sk-toggleable__content pre {margin: 0.2em;color: black;border-radius: 0.25em;background-color: #f0f8ff;}#sk-container-id-2 input.sk-toggleable__control:checked~div.sk-toggleable__content {max-height: 200px;max-width: 100%;overflow: auto;}#sk-container-id-2 input.sk-toggleable__control:checked~label.sk-toggleable__label-arrow:before {content: \"▾\";}#sk-container-id-2 div.sk-estimator input.sk-toggleable__control:checked~label.sk-toggleable__label {background-color: #d4ebff;}#sk-container-id-2 div.sk-label input.sk-toggleable__control:checked~label.sk-toggleable__label {background-color: #d4ebff;}#sk-container-id-2 input.sk-hidden--visually {border: 0;clip: rect(1px 1px 1px 1px);clip: rect(1px, 1px, 1px, 1px);height: 1px;margin: -1px;overflow: hidden;padding: 0;position: absolute;width: 1px;}#sk-container-id-2 div.sk-estimator {font-family: monospace;background-color: #f0f8ff;border: 1px dotted black;border-radius: 0.25em;box-sizing: border-box;margin-bottom: 0.5em;}#sk-container-id-2 div.sk-estimator:hover {background-color: #d4ebff;}#sk-container-id-2 div.sk-parallel-item::after {content: \"\";width: 100%;border-bottom: 1px solid gray;flex-grow: 1;}#sk-container-id-2 div.sk-label:hover label.sk-toggleable__label {background-color: #d4ebff;}#sk-container-id-2 div.sk-serial::before {content: \"\";position: absolute;border-left: 1px solid gray;box-sizing: border-box;top: 0;bottom: 0;left: 50%;z-index: 0;}#sk-container-id-2 div.sk-serial {display: flex;flex-direction: column;align-items: center;background-color: white;padding-right: 0.2em;padding-left: 0.2em;position: relative;}#sk-container-id-2 div.sk-item {position: relative;z-index: 1;}#sk-container-id-2 div.sk-parallel {display: flex;align-items: stretch;justify-content: center;background-color: white;position: relative;}#sk-container-id-2 div.sk-item::before, #sk-container-id-2 div.sk-parallel-item::before {content: \"\";position: absolute;border-left: 1px solid gray;box-sizing: border-box;top: 0;bottom: 0;left: 50%;z-index: -1;}#sk-container-id-2 div.sk-parallel-item {display: flex;flex-direction: column;z-index: 1;position: relative;background-color: white;}#sk-container-id-2 div.sk-parallel-item:first-child::after {align-self: flex-end;width: 50%;}#sk-container-id-2 div.sk-parallel-item:last-child::after {align-self: flex-start;width: 50%;}#sk-container-id-2 div.sk-parallel-item:only-child::after {width: 0;}#sk-container-id-2 div.sk-dashed-wrapped {border: 1px dashed gray;margin: 0 0.4em 0.5em 0.4em;box-sizing: border-box;padding-bottom: 0.4em;background-color: white;}#sk-container-id-2 div.sk-label label {font-family: monospace;font-weight: bold;display: inline-block;line-height: 1.2em;}#sk-container-id-2 div.sk-label-container {text-align: center;}#sk-container-id-2 div.sk-container {/* jupyter's `normalize.less` sets `[hidden] { display: none; }` but bootstrap.min.css set `[hidden] { display: none !important; }` so we also need the `!important` here to be able to override the default hidden behavior on the sphinx rendered scikit-learn.org. See: https://github.com/scikit-learn/scikit-learn/issues/21755 */display: inline-block !important;position: relative;}#sk-container-id-2 div.sk-text-repr-fallback {display: none;}</style><div id=\"sk-container-id-2\" class=\"sk-top-container\"><div class=\"sk-text-repr-fallback\"><pre>LinearRegression()</pre><b>In a Jupyter environment, please rerun this cell to show the HTML representation or trust the notebook. <br />On GitHub, the HTML representation is unable to render, please try loading this page with nbviewer.org.</b></div><div class=\"sk-container\" hidden><div class=\"sk-item\"><div class=\"sk-estimator sk-toggleable\"><input class=\"sk-toggleable__control sk-hidden--visually\" id=\"sk-estimator-id-2\" type=\"checkbox\" checked><label for=\"sk-estimator-id-2\" class=\"sk-toggleable__label sk-toggleable__label-arrow\">LinearRegression</label><div class=\"sk-toggleable__content\"><pre>LinearRegression()</pre></div></div></div></div></div>"
      ],
      "text/plain": [
       "LinearRegression()"
      ]
     },
     "execution_count": 161,
     "metadata": {},
     "output_type": "execute_result"
    }
   ],
   "source": [
    "lr = LinearRegression()\n",
    "lr.fit(X.reshape(-1, 1), Y.reshape(-1, 1))"
   ]
  },
  {
   "cell_type": "code",
   "execution_count": 162,
   "id": "7d254427",
   "metadata": {},
   "outputs": [],
   "source": [
    "Y_pred_skl = lr.predict(X.reshape(-1, 1))"
   ]
  },
  {
   "cell_type": "code",
   "execution_count": 163,
   "id": "1cc685e0",
   "metadata": {},
   "outputs": [
    {
     "data": {
      "image/png": "[encoded data removed]",
      "text/plain": [
       "<Figure size 720x360 with 1 Axes>"
      ]
     },
     "metadata": {
      "needs_background": "light"
     },
     "output_type": "display_data"
    }
   ],
   "source": [
    "plt.figure(figsize=(10, 5))\n",
    "\n",
    "plt.scatter(X, Y, label=\"data\")\n",
    "plt.scatter(X, Y_pred_skl, label=\"predictions\")\n",
    "\n",
    "plt.xlabel(\"earconch\")\n",
    "plt.ylabel(\"footlgth\")\n",
    "\n",
    "plt.legend()\n",
    "\n",
    "plt.show()"
   ]
  },
  {
   "cell_type": "code",
   "execution_count": null,
   "id": "6a4affae",
   "metadata": {},
   "outputs": [],
   "source": []
  }
 ],
 "metadata": {
  "kernelspec": {
   "display_name": "Python 3 (ipykernel)",
   "language": "python",
   "name": "python3"
  },
  "language_info": {
   "codemirror_mode": {
    "name": "ipython",
    "version": 3
   },
   "file_extension": ".py",
   "mimetype": "text/x-python",
   "name": "python",
   "nbconvert_exporter": "python",
   "pygments_lexer": "ipython3",
   "version": "3.9.5"
  }
 },
 "nbformat": 4,
 "nbformat_minor": 5
}
