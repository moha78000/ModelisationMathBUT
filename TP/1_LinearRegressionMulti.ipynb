{
 "cells": [
  {
   "cell_type": "markdown",
   "metadata": {},
   "source": [
    "# Régression Linéaire"
   ]
  },
  {
   "cell_type": "markdown",
   "metadata": {},
   "source": [
    "<img src=\"./figures/lr.jpg\" width=\"700px\"/>"
   ]
  },
  {
   "cell_type": "markdown",
   "metadata": {},
   "source": [
    "<div class=\"alert alert-block alert-info\">\n",
    "    \n",
    "\n",
    "Soit un **train set** composé de $N$ observations:\n",
    "\n",
    "$$\n",
    "S_{\\rm train} = \\left\\{ \\left( \\boldsymbol{x_1}, y_1 \\right), \\dots, \\left( \\boldsymbol{x_N}, y_N \\right) \\right\\}.\n",
    "$$\n",
    "\n",
    "La matrice des **features** $\\boldsymbol{X}$ et le vecteur (ou matrice) des **targets** $\\boldsymbol{y}$ sont définis de la manière suivante:\n",
    "\n",
    "$$\n",
    "\\boldsymbol{X} =\n",
    "\\begin{pmatrix}\n",
    "1 & \\boldsymbol{x_1}^T \\\\\n",
    "\\vdots & \\vdots \\\\\n",
    "1 & \\boldsymbol{x_N}^T \n",
    "\\end{pmatrix}\n",
    "=\n",
    "\\begin{pmatrix}\n",
    "1 & x_{11} & \\cdots & x_{1p} \\\\\n",
    "\\vdots & \\vdots & \\ddots & \\vdots \\\\\n",
    "1 & x_{N1} &\\cdots & x_{Np}\n",
    "\\end{pmatrix}~\n",
    "\\text{  et  }~\n",
    "\\boldsymbol{y} =\n",
    "\\begin{pmatrix}\n",
    "y_1 \\\\\n",
    "\\vdots \\\\\n",
    "y_N \n",
    "\\end{pmatrix}\n",
    "$$\n",
    "\n",
    "\n",
    "La solution de la **régression linéaire (LR)** est le vecteur de coefficients\n",
    "\n",
    "$$\\boldsymbol{\\hat \\beta} = (\\hat \\beta_0, \\dots, \\hat \\beta_p)$$\n",
    "    \n",
    "obtenu via minimisation de la **somme résiduelle des carrés** ou **residual sum of squares (RSS)**, qui représente la distance entre les prédictions $\\hat y_i$ et les réponses $y_i$:\n",
    "\n",
    "$$\n",
    "\\mathrm{RSS(\\boldsymbol{\\beta})} \n",
    ":= \\sum_{i=1}^N \\big(\\hat y_i - y_i \\big)^2 = \\sum_{i=1}^N \\big(\\boldsymbol{x_i}^T \\boldsymbol{\\beta} - y_i \\big)^2 \n",
    "= \\| \\boldsymbol{X} \\boldsymbol{\\beta} - \\boldsymbol{y} \\|^2\n",
    "$$\n",
    "\n",
    "On a alors (cf. cours):\n",
    "\n",
    "$$\n",
    "\\boldsymbol{\\hat{\\beta}} \n",
    "= \\underset{\\boldsymbol{\\beta}}{\\arg \\min} RSS(\\boldsymbol{\\beta}) = \\underset{\\boldsymbol{\\beta}}{\\arg \\min} \\left\\| \\boldsymbol{X} \\boldsymbol{\\beta} - \\boldsymbol{y} \\right\\|^2 \n",
    "= (\\boldsymbol{X}^T \\boldsymbol{X})^{-1} \\boldsymbol{X}^T \\boldsymbol{y}\n",
    "$$\n",
    "\n",
    "Une fois le vecteur $\\boldsymbol{\\hat \\beta}$ obtenu, les **prédictions** associées à des features $\\boldsymbol{X}$ sont données par:\n",
    "    \n",
    "$$\n",
    "\\boldsymbol{\\hat{y}} = \\boldsymbol{X} \\boldsymbol{\\hat \\beta}\n",
    "$$\n",
    "    \n",
    "</div>"
   ]
  },
  {
   "cell_type": "markdown",
   "metadata": {},
   "source": [
    "## Exercice\n",
    "\n",
    "\n",
    "### Generate data\n",
    "1. Le code de cette section génère des data bruitées à partir de l'équation d'une droite.<br>\n",
    "   Ensuite, les data sont séparées en un **train set** et un **test set**.<br>\n",
    "   Comprenez ce code...\n",
    "   \n",
    "   \n",
    "### Model\n",
    "2. Dans la classe `LinearRegression()`, complétez la méthode `fit(...)` qui, étant donné un **train set** `X_train, y_train` (**features** et **targets**), calcule la solution `beta_hat` de la régression linéaire selon l'équation présentée ci-dessus. Cette solution sera stockée dans l'attribut `self.beta_hat`. <br>\n",
    "\n",
    "\n",
    "3. Compétez la méthode `predict(...)` qui retourne les **prédictions** `y_hat` associées à un ensemble de features `X`. <br>\n",
    "\n",
    "\n",
    "### Training and Results\n",
    "4. En utilisant votre classe `LinearRegression()`, instanciez et entraînez une **régression linéaire** sur le train set `X_train, y_train`.\n",
    "\n",
    "\n",
    "5. Calculez les prédictions associées au test features `X_test`.\n",
    "\n",
    "\n",
    "6. Faites les graphe des points du test set et de leur prédictions repsectives.\n",
    "\n",
    "\n",
    "### Multidimension\n",
    "\n",
    "7. En vous inspirant du point 1, génèrez des data bruitées de dimension supérieures, par exemple de dimension $7$. Séparez ces data en un train et un test set. En utilisant votre classe `LinearRegression()`, instanciez une **régression linéaire**, entrâinez-la sur votre train set, puis claculez les prédictions sur votre test set. Obtenez-vous de bons résultats?\n",
    "\n",
    "\n",
    "### Ridge Regression\n",
    "\n",
    "\n",
    "8. Dans votre classe `LinearRegression()`, ajouter une fonctionalité qui permet d'implémenter la **régression Ridge**. On rappelle que la solution de la régression Ridge est (cf. cours)\n",
    "$$\n",
    "\\mathbf{\\hat \\beta} = (\\mathbf{X^T} \\mathbf{X} + \\lambda \\mathbf{I})^{-1} \\mathbf{X^T} \\mathbf{y}\n",
    "$$\n",
    "\n",
    "Évaluez votre régression Ridge sur vos data unidimensionnelles et multidimensionnelles. Obtenez-vous de meilleurs résultats que pour la régression linéaire?"
   ]
  },
  {
   "cell_type": "markdown",
   "metadata": {},
   "source": [
    "## Libraries"
   ]
  },
  {
   "cell_type": "code",
   "execution_count": 16,
   "metadata": {
    "tags": []
   },
   "outputs": [],
   "source": [
    "import pandas as pd\n",
    "import numpy as np\n",
    "\n",
    "from sklearn.datasets import make_regression\n",
    "from sklearn.model_selection import train_test_split\n",
    "\n",
    "import seaborn as sns\n",
    "from matplotlib import pyplot as plt\n",
    "\n",
    "%matplotlib inline\n",
    "sns.set_theme()"
   ]
  },
  {
   "cell_type": "markdown",
   "metadata": {},
   "source": [
    "## Generate data"
   ]
  },
  {
   "cell_type": "code",
   "execution_count": 17,
   "metadata": {},
   "outputs": [],
   "source": [
    "# generate data\n",
    "X, y, coeff = make_regression(n_samples=500, n_features=1, \n",
    "                              noise=30, bias=30, coef=True, \n",
    "                              random_state=42)"
   ]
  },
  {
   "cell_type": "code",
   "execution_count": 18,
   "metadata": {},
   "outputs": [],
   "source": [
    "# train-test split\n",
    "X_train, X_test, y_train, y_test = train_test_split(X, y, test_size=0.2, random_state=42)"
   ]
  },
  {
   "cell_type": "code",
   "execution_count": 19,
   "metadata": {},
   "outputs": [
    {
     "data": {
      "text/plain": [
       "((400, 1), (400,), (100, 1), (100,))"
      ]
     },
     "execution_count": 19,
     "metadata": {},
     "output_type": "execute_result"
    }
   ],
   "source": [
    "X_train.shape, y_train.shape, X_test.shape, y_test.shape"
   ]
  },
  {
   "cell_type": "code",
   "execution_count": 20,
   "metadata": {},
   "outputs": [
    {
     "data": {
      "image/png": "[encoded data removed]",
      "text/plain": [
       "<Figure size 720x432 with 1 Axes>"
      ]
     },
     "metadata": {},
     "output_type": "display_data"
    }
   ],
   "source": [
    "# plot train and test data\n",
    "plt.figure(figsize=(10, 6))\n",
    "\n",
    "x_true = np.linspace(X_train.min(), X_train.max(), num=100)\n",
    "y_true = coeff * x_true + 30 # 30 is the bias\n",
    "\n",
    "plt.scatter(X_train, y_train, marker = 'o', label=\"train data\")\n",
    "plt.scatter(X_test, y_test, marker = 'o', label=\"test data\")\n",
    "plt.plot(x_true, y_true, color=\"red\", linewidth=2, label=\"regression line\")\n",
    "plt.xlabel(\"X\", fontsize=14)\n",
    "plt.ylabel(\"y\", fontsize=14)\n",
    "plt.legend(fontsize=14)\n",
    "plt.title(\"Linear Regression\", fontsize=16)\n",
    "\n",
    "plt.savefig(\"lr.jpg\", bbox_inches='tight')\n",
    "plt.show()"
   ]
  },
  {
   "cell_type": "markdown",
   "metadata": {},
   "source": [
    "## Model"
   ]
  },
  {
   "cell_type": "code",
   "execution_count": 143,
   "metadata": {},
   "outputs": [],
   "source": [
    "class LinearRegression():\n",
    "    \"\"\"\n",
    "    Implements the linear regression algorithm.\n",
    "    Closed-form solution (not gradient descent)\n",
    "    \"\"\"\n",
    "    \n",
    "    def __init__(self):\n",
    "        \"\"\"\n",
    "        Constructor.\n",
    "        \"\"\"\n",
    "        \n",
    "        self.beta_hat = None # empty solution\n",
    "        \n",
    "    \n",
    "    def fit(self, X_train, y_train):\n",
    "        \"\"\"\n",
    "        Fits the linear regression on the train set X_train, y_train.\n",
    "        This method modifies the attribute beta_hat, which stores the solution of the LR. \n",
    "        \n",
    "        Parameters\n",
    "        ----------\n",
    "        X_train : ndarray\n",
    "            Train features of dim N x p, where p is the number of features.\n",
    "        y_train : ndarray\n",
    "            Train targets dim N x 1 (or N x q if multi-dimensional targets)\n",
    "        \"\"\"\n",
    "        \n",
    "        pass\n",
    "        \n",
    "        \n",
    "    def predict(self, X):\n",
    "        \"\"\"\n",
    "        Computes the predictions associated to features X.\n",
    "        The predictions are computed as follows:\n",
    "        - expand the features X with a first column of 1's\n",
    "        - y_hat = X beta_hat\n",
    "        \n",
    "        Parameters\n",
    "        ----------\n",
    "        X : ndarray\n",
    "            Features of dim N' x p, where p is the number of features.\n",
    "            \n",
    "        Returns\n",
    "        -------\n",
    "        y_hat : ndarray\n",
    "            Predictions of dim N' x 1 (or N' x q if multi-dimensional targets)\n",
    "        \"\"\"\n",
    "        \n",
    "        pass"
   ]
  },
  {
   "cell_type": "markdown",
   "metadata": {},
   "source": [
    "## Training and Results"
   ]
  },
  {
   "cell_type": "code",
   "execution_count": null,
   "metadata": {},
   "outputs": [],
   "source": []
  },
  {
   "cell_type": "code",
   "execution_count": null,
   "metadata": {},
   "outputs": [],
   "source": []
  },
  {
   "cell_type": "code",
   "execution_count": null,
   "metadata": {},
   "outputs": [],
   "source": []
  },
  {
   "cell_type": "markdown",
   "metadata": {},
   "source": [
    "## Multidimension"
   ]
  },
  {
   "cell_type": "code",
   "execution_count": null,
   "metadata": {},
   "outputs": [],
   "source": []
  },
  {
   "cell_type": "code",
   "execution_count": null,
   "metadata": {},
   "outputs": [],
   "source": []
  },
  {
   "cell_type": "code",
   "execution_count": null,
   "metadata": {},
   "outputs": [],
   "source": []
  },
  {
   "cell_type": "markdown",
   "metadata": {},
   "source": [
    "## Ridge Regression"
   ]
  },
  {
   "cell_type": "code",
   "execution_count": null,
   "metadata": {},
   "outputs": [],
   "source": []
  },
  {
   "cell_type": "code",
   "execution_count": null,
   "metadata": {},
   "outputs": [],
   "source": []
  },
  {
   "cell_type": "code",
   "execution_count": null,
   "metadata": {},
   "outputs": [],
   "source": []
  }
 ],
 "metadata": {
  "kernelspec": {
   "display_name": "Python 3 (ipykernel)",
   "language": "python",
   "name": "python3"
  },
  "language_info": {
   "codemirror_mode": {
    "name": "ipython",
    "version": 3
   },
   "file_extension": ".py",
   "mimetype": "text/x-python",
   "name": "python",
   "nbconvert_exporter": "python",
   "pygments_lexer": "ipython3",
   "version": "3.9.17"
  }
 },
 "nbformat": 4,
 "nbformat_minor": 4
}
