{
 "cells": [
  {
   "cell_type": "markdown",
   "id": "326d77b0",
   "metadata": {},
   "source": [
    "# Descente de gradient (Gradient Descent)"
   ]
  },
  {
   "cell_type": "markdown",
   "id": "c4941630",
   "metadata": {},
   "source": [
    "## Libraries"
   ]
  },
  {
   "cell_type": "code",
   "execution_count": 1,
   "id": "03b340ef",
   "metadata": {},
   "outputs": [],
   "source": [
    "import numpy as np\n",
    "import matplotlib.pyplot as plt"
   ]
  },
  {
   "cell_type": "markdown",
   "id": "a50e5997",
   "metadata": {},
   "source": [
    "## Gradient Descent (GD)"
   ]
  },
  {
   "cell_type": "markdown",
   "id": "569c8082",
   "metadata": {},
   "source": [
    "<div class=\"alert alert-block alert-info\">\n",
    "    \n",
    "L'algorithme pour effectuer une **descente de gradient** est le suivant:\n",
    "\n",
    "<img src=\"files/figures/GD_algo.png\" width=\"650px\"/>\n",
    "\n",
    "</div>"
   ]
  },
  {
   "cell_type": "markdown",
   "id": "a5dccedf",
   "metadata": {},
   "source": [
    "Considérons la courbe définie par l'équation suivante:\n",
    "\n",
    "$$\n",
    "y = f(x) = x^{4} - x^{3} - 12 x^{2} + 15 x + 3\n",
    "$$\n",
    "\n",
    "Cette courbe est représentée ci-dessous."
   ]
  },
  {
   "cell_type": "code",
   "execution_count": 56,
   "id": "8f39df23",
   "metadata": {},
   "outputs": [],
   "source": [
    "def f(x):\n",
    "    return x**4 - x**3 - 12 * x**2 + 15 * x + 3"
   ]
  },
  {
   "cell_type": "code",
   "execution_count": 98,
   "id": "a155c9ad",
   "metadata": {},
   "outputs": [
    {
     "data": {
      "image/png": "[encoded data removed]",
      "text/plain": [
       "<Figure size 864x288 with 1 Axes>"
      ]
     },
     "metadata": {
      "needs_background": "light"
     },
     "output_type": "display_data"
    }
   ],
   "source": [
    "X = np.arange(-4, 4, 0.05)\n",
    "Y = [f(x) for x in X]\n",
    "\n",
    "fig = plt.figure(figsize=(12, 4))\n",
    "plt.plot(X, Y, linewidth=2)\n",
    "\n",
    "plt.title(\"Fonction f(x)\", size=14)\n",
    "\n",
    "plt.show()"
   ]
  },
  {
   "cell_type": "markdown",
   "id": "9201814a",
   "metadata": {},
   "source": [
    "## Exercice\n",
    "\n",
    "- Écrivez une fonction `derivee_f(x)` qui calcule la **derivee (i.e. le gradient)** $f'(x)$ de $f$ au point $x$.\n",
    "    \n",
    "    \n",
    "- Écrivez une fonction `GD_f(lamda, epsilon)` qui implémente **l'algorithme de descente de gradient** sur la fonction $f$:<br>\n",
    "Cette fonction retournera une liste de points $x_i$ pour $i = 1, 2, \\dots$ qui converge vers un minimum (local, global).<br>\n",
    "`lamda` le taux d'apprentissage (learning rate) et `epsilon` la tolérence pour un critère d'arrêt.<br>\n",
    "Exécutez votre fonction avec les paramètres `lamda=0.01` and `epsilon=0.01`.\n",
    "\n",
    "\n",
    "- Dans le graphe de la fonction $f$, ajoutez les points successifs $(x_i, f(x_i))$ pour $i= 1, 2, \\dots$ retournés par votre fonction.<br>\n",
    "Ces points convergent-ils vers un minimum?"
   ]
  },
  {
   "cell_type": "code",
   "execution_count": null,
   "id": "1e16c4ab",
   "metadata": {},
   "outputs": [],
   "source": []
  },
  {
   "cell_type": "code",
   "execution_count": null,
   "id": "8efa4b44",
   "metadata": {},
   "outputs": [],
   "source": []
  },
  {
   "cell_type": "code",
   "execution_count": null,
   "id": "5154bf9d",
   "metadata": {},
   "outputs": [],
   "source": []
  }
 ],
 "metadata": {
  "kernelspec": {
   "display_name": "Python 3 (ipykernel)",
   "language": "python",
   "name": "python3"
  },
  "language_info": {
   "codemirror_mode": {
    "name": "ipython",
    "version": 3
   },
   "file_extension": ".py",
   "mimetype": "text/x-python",
   "name": "python",
   "nbconvert_exporter": "python",
   "pygments_lexer": "ipython3",
   "version": "3.9.5"
  }
 },
 "nbformat": 4,
 "nbformat_minor": 5
}
