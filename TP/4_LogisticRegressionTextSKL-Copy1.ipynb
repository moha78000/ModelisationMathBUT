{
 "cells": [
  {
   "cell_type": "markdown",
   "id": "20a1e4a5",
   "metadata": {},
   "source": [
    "# Logistic Regression"
   ]
  },
  {
   "cell_type": "markdown",
   "id": "a755ccb7",
   "metadata": {},
   "source": [
    "## Financial Sentiment Analysis\n",
    "\n",
    "Le but de ce projet est de **prédire le sentiment (positif/neutre/négatif) de textes à caractère économique**.\n",
    "\n",
    "Pour plus de précision sur les data, voir le lien suivant:<br>\n",
    "https://www.kaggle.com/datasets/sbhatti/financial-sentiment-analysis"
   ]
  },
  {
   "cell_type": "markdown",
   "id": "5f32e040",
   "metadata": {},
   "source": [
    "## Exercice\n",
    "\n",
    "\n",
    "### Load Data\n",
    "1. Loadez et examinez les data.<br>\n",
    "   ```\n",
    "   df = pd.read_csv(\"./data/FinancialSentiment.csv\")\n",
    "   ```\n",
    "\n",
    "\n",
    "### Data Analysis\n",
    "2. Faites l'histogramme de votre variable réponse, pour savoir si on a affaire à un problème équilibré (balanced) ou non.\n",
    "\n",
    "\n",
    "### Model\n",
    "3. \"Splitez\" vos data en un **train set** et un **test set**.<br>\n",
    "    https://scikit-learn.org/stable/modules/generated/sklearn.model_selection.train_test_split.html\n",
    "    \n",
    "\n",
    "4. Utilisez la méthode appelée **TF-IDF** pour transformer vos data textuelles en vecteurs. Documentez-vous pour comprendre cette méthode.<br>\n",
    "    https://scikit-learn.org/stable/modules/generated/sklearn.feature_extraction.text.TfidfVectorizer.html#sklearn.feature_extraction.text.TfidfVectorizer\n",
    "    \n",
    "\n",
    "5. Fittez une **régression logistique** sur vos data.<br>\n",
    "    https://scikit-learn.org/stable/modules/generated/sklearn.linear_model.LogisticRegression.html#sklearn.linear_model.LogisticRegression<br>\n",
    "    Calculer le **rapport de classification (classification report)** relatif à vos prédictions.<br>\n",
    "    https://scikit-learn.org/stable/modules/generated/sklearn.metrics.classification_report.html#sklearn.metrics.classification_report\n",
    "\n",
    "\n",
    "6. Fittez deux autres modèles sur vos data appelés **support vector machine classifier (SVC)** et **naive Bayes classifier (NB)**:<br>\n",
    "    https://scikit-learn.org/stable/modules/generated/sklearn.svm.SVC.html#sklearn.svm.SVC<br>\n",
    "    https://scikit-learn.org/stable/modules/generated/sklearn.naive_bayes.MultinomialNB.html<br>\n",
    "    Calculer le **rapport de classification (classification report)** relatif à vos prédictions.<br>\n"
   ]
  },
  {
   "cell_type": "markdown",
   "id": "0a48c952",
   "metadata": {},
   "source": [
    "## Librairies"
   ]
  },
  {
   "cell_type": "code",
   "execution_count": 58,
   "id": "b72edb67",
   "metadata": {},
   "outputs": [],
   "source": [
    "import pandas as pd\n",
    "import numpy as np\n",
    "\n",
    "from sklearn.pipeline import Pipeline\n",
    "from sklearn.model_selection import train_test_split\n",
    "from sklearn.model_selection import GridSearchCV\n",
    "from sklearn.feature_extraction.text import TfidfVectorizer\n",
    "from sklearn.linear_model import LogisticRegression\n",
    "from sklearn.neighbors import KNeighborsClassifier\n",
    "from sklearn.svm import SVC\n",
    "from sklearn.naive_bayes import MultinomialNB\n",
    "from sklearn.metrics import classification_report\n",
    "\n",
    "import matplotlib.pyplot as plt"
   ]
  },
  {
   "cell_type": "markdown",
   "id": "bf486b42",
   "metadata": {},
   "source": [
    "## Load Data"
   ]
  },
  {
   "cell_type": "code",
   "execution_count": 59,
   "id": "06cb7a2f",
   "metadata": {},
   "outputs": [],
   "source": [
    "df = pd.read_csv(\"./data/FinancialSentiment.csv\")"
   ]
  },
  {
   "cell_type": "code",
   "execution_count": 60,
   "id": "b4f3ed63",
   "metadata": {},
   "outputs": [
    {
     "data": {
      "text/html": [
       "<div>\n",
       "<style scoped>\n",
       "    .dataframe tbody tr th:only-of-type {\n",
       "        vertical-align: middle;\n",
       "    }\n",
       "\n",
       "    .dataframe tbody tr th {\n",
       "        vertical-align: top;\n",
       "    }\n",
       "\n",
       "    .dataframe thead th {\n",
       "        text-align: right;\n",
       "    }\n",
       "</style>\n",
       "<table border=\"1\" class=\"dataframe\">\n",
       "  <thead>\n",
       "    <tr style=\"text-align: right;\">\n",
       "      <th></th>\n",
       "      <th>Sentence</th>\n",
       "      <th>Sentiment</th>\n",
       "    </tr>\n",
       "  </thead>\n",
       "  <tbody>\n",
       "    <tr>\n",
       "      <th>0</th>\n",
       "      <td>The GeoSolutions technology will leverage Bene...</td>\n",
       "      <td>positive</td>\n",
       "    </tr>\n",
       "    <tr>\n",
       "      <th>1</th>\n",
       "      <td>$ESI on lows, down $1.50 to $2.50 BK a real po...</td>\n",
       "      <td>negative</td>\n",
       "    </tr>\n",
       "    <tr>\n",
       "      <th>2</th>\n",
       "      <td>For the last quarter of 2010 , Componenta 's n...</td>\n",
       "      <td>positive</td>\n",
       "    </tr>\n",
       "    <tr>\n",
       "      <th>3</th>\n",
       "      <td>According to the Finnish-Russian Chamber of Co...</td>\n",
       "      <td>neutral</td>\n",
       "    </tr>\n",
       "    <tr>\n",
       "      <th>4</th>\n",
       "      <td>The Swedish buyout firm has sold its remaining...</td>\n",
       "      <td>neutral</td>\n",
       "    </tr>\n",
       "    <tr>\n",
       "      <th>...</th>\n",
       "      <td>...</td>\n",
       "      <td>...</td>\n",
       "    </tr>\n",
       "    <tr>\n",
       "      <th>5837</th>\n",
       "      <td>RISING costs have forced packaging producer Hu...</td>\n",
       "      <td>negative</td>\n",
       "    </tr>\n",
       "    <tr>\n",
       "      <th>5838</th>\n",
       "      <td>Nordic Walking was first used as a summer trai...</td>\n",
       "      <td>neutral</td>\n",
       "    </tr>\n",
       "    <tr>\n",
       "      <th>5839</th>\n",
       "      <td>According shipping company Viking Line , the E...</td>\n",
       "      <td>neutral</td>\n",
       "    </tr>\n",
       "    <tr>\n",
       "      <th>5840</th>\n",
       "      <td>In the building and home improvement trade , s...</td>\n",
       "      <td>neutral</td>\n",
       "    </tr>\n",
       "    <tr>\n",
       "      <th>5841</th>\n",
       "      <td>HELSINKI AFX - KCI Konecranes said it has won ...</td>\n",
       "      <td>positive</td>\n",
       "    </tr>\n",
       "  </tbody>\n",
       "</table>\n",
       "<p>5842 rows × 2 columns</p>\n",
       "</div>"
      ],
      "text/plain": [
       "                                               Sentence Sentiment\n",
       "0     The GeoSolutions technology will leverage Bene...  positive\n",
       "1     $ESI on lows, down $1.50 to $2.50 BK a real po...  negative\n",
       "2     For the last quarter of 2010 , Componenta 's n...  positive\n",
       "3     According to the Finnish-Russian Chamber of Co...   neutral\n",
       "4     The Swedish buyout firm has sold its remaining...   neutral\n",
       "...                                                 ...       ...\n",
       "5837  RISING costs have forced packaging producer Hu...  negative\n",
       "5838  Nordic Walking was first used as a summer trai...   neutral\n",
       "5839  According shipping company Viking Line , the E...   neutral\n",
       "5840  In the building and home improvement trade , s...   neutral\n",
       "5841  HELSINKI AFX - KCI Konecranes said it has won ...  positive\n",
       "\n",
       "[5842 rows x 2 columns]"
      ]
     },
     "execution_count": 60,
     "metadata": {},
     "output_type": "execute_result"
    }
   ],
   "source": [
    "df"
   ]
  },
  {
   "cell_type": "code",
   "execution_count": 61,
   "id": "1da8e640",
   "metadata": {},
   "outputs": [
    {
     "data": {
      "text/plain": [
       "('The move was triggered by weak demand for forestry equipment and the uncertain market situation .',\n",
       " 'negative')"
      ]
     },
     "execution_count": 61,
     "metadata": {},
     "output_type": "execute_result"
    }
   ],
   "source": [
    "df.iloc[235][\"Sentence\"], df.iloc[235][\"Sentiment\"]"
   ]
  },
  {
   "cell_type": "code",
   "execution_count": 62,
   "id": "3a4fc16b",
   "metadata": {},
   "outputs": [
    {
     "data": {
      "text/plain": [
       "(5842, 2)"
      ]
     },
     "execution_count": 62,
     "metadata": {},
     "output_type": "execute_result"
    }
   ],
   "source": [
    "df.shape"
   ]
  },
  {
   "cell_type": "markdown",
   "id": "7b236f5f",
   "metadata": {},
   "source": [
    "## Data Analysis"
   ]
  },
  {
   "cell_type": "code",
   "execution_count": 63,
   "id": "fc37f070",
   "metadata": {},
   "outputs": [
    {
     "data": {
      "text/plain": [
       "neutral     3130\n",
       "positive    1852\n",
       "negative     860\n",
       "Name: Sentiment, dtype: int64"
      ]
     },
     "execution_count": 63,
     "metadata": {},
     "output_type": "execute_result"
    }
   ],
   "source": [
    "df.Sentiment.value_counts()"
   ]
  },
  {
   "cell_type": "code",
   "execution_count": 64,
   "id": "3df94e7f",
   "metadata": {},
   "outputs": [
    {
     "data": {
      "text/plain": [
       "<AxesSubplot:>"
      ]
     },
     "execution_count": 64,
     "metadata": {},
     "output_type": "execute_result"
    },
    {
     "data": {
      "image/png": "[encoded data removed]",
      "text/plain": [
       "<Figure size 432x216 with 1 Axes>"
      ]
     },
     "metadata": {
      "needs_background": "light"
     },
     "output_type": "display_data"
    }
   ],
   "source": [
    "plt.figure(figsize=(6,3))\n",
    "\n",
    "df.Sentiment.hist()"
   ]
  },
  {
   "cell_type": "code",
   "execution_count": 65,
   "id": "4cb7ca03",
   "metadata": {},
   "outputs": [],
   "source": [
    "# remove/filter neural sentences\n",
    "\n",
    "df = df[df.Sentiment!=\"neutral\"]"
   ]
  },
  {
   "cell_type": "code",
   "execution_count": 66,
   "id": "7e42e301",
   "metadata": {},
   "outputs": [
    {
     "data": {
      "text/html": [
       "<div>\n",
       "<style scoped>\n",
       "    .dataframe tbody tr th:only-of-type {\n",
       "        vertical-align: middle;\n",
       "    }\n",
       "\n",
       "    .dataframe tbody tr th {\n",
       "        vertical-align: top;\n",
       "    }\n",
       "\n",
       "    .dataframe thead th {\n",
       "        text-align: right;\n",
       "    }\n",
       "</style>\n",
       "<table border=\"1\" class=\"dataframe\">\n",
       "  <thead>\n",
       "    <tr style=\"text-align: right;\">\n",
       "      <th></th>\n",
       "      <th>Sentence</th>\n",
       "      <th>Sentiment</th>\n",
       "    </tr>\n",
       "  </thead>\n",
       "  <tbody>\n",
       "    <tr>\n",
       "      <th>0</th>\n",
       "      <td>The GeoSolutions technology will leverage Bene...</td>\n",
       "      <td>positive</td>\n",
       "    </tr>\n",
       "    <tr>\n",
       "      <th>1</th>\n",
       "      <td>$ESI on lows, down $1.50 to $2.50 BK a real po...</td>\n",
       "      <td>negative</td>\n",
       "    </tr>\n",
       "    <tr>\n",
       "      <th>2</th>\n",
       "      <td>For the last quarter of 2010 , Componenta 's n...</td>\n",
       "      <td>positive</td>\n",
       "    </tr>\n",
       "    <tr>\n",
       "      <th>5</th>\n",
       "      <td>$SPY wouldn't be surprised to see a green close</td>\n",
       "      <td>positive</td>\n",
       "    </tr>\n",
       "    <tr>\n",
       "      <th>6</th>\n",
       "      <td>Shell's $70 Billion BG Deal Meets Shareholder ...</td>\n",
       "      <td>negative</td>\n",
       "    </tr>\n",
       "    <tr>\n",
       "      <th>...</th>\n",
       "      <td>...</td>\n",
       "      <td>...</td>\n",
       "    </tr>\n",
       "    <tr>\n",
       "      <th>5832</th>\n",
       "      <td>Operating profit fell to EUR 38.1 mn from EUR ...</td>\n",
       "      <td>negative</td>\n",
       "    </tr>\n",
       "    <tr>\n",
       "      <th>5835</th>\n",
       "      <td>HSBC Says Unit to Book $585 Million Charge on ...</td>\n",
       "      <td>negative</td>\n",
       "    </tr>\n",
       "    <tr>\n",
       "      <th>5836</th>\n",
       "      <td>Daily Mail parent company in talks with potent...</td>\n",
       "      <td>positive</td>\n",
       "    </tr>\n",
       "    <tr>\n",
       "      <th>5837</th>\n",
       "      <td>RISING costs have forced packaging producer Hu...</td>\n",
       "      <td>negative</td>\n",
       "    </tr>\n",
       "    <tr>\n",
       "      <th>5841</th>\n",
       "      <td>HELSINKI AFX - KCI Konecranes said it has won ...</td>\n",
       "      <td>positive</td>\n",
       "    </tr>\n",
       "  </tbody>\n",
       "</table>\n",
       "<p>2712 rows × 2 columns</p>\n",
       "</div>"
      ],
      "text/plain": [
       "                                               Sentence Sentiment\n",
       "0     The GeoSolutions technology will leverage Bene...  positive\n",
       "1     $ESI on lows, down $1.50 to $2.50 BK a real po...  negative\n",
       "2     For the last quarter of 2010 , Componenta 's n...  positive\n",
       "5       $SPY wouldn't be surprised to see a green close  positive\n",
       "6     Shell's $70 Billion BG Deal Meets Shareholder ...  negative\n",
       "...                                                 ...       ...\n",
       "5832  Operating profit fell to EUR 38.1 mn from EUR ...  negative\n",
       "5835  HSBC Says Unit to Book $585 Million Charge on ...  negative\n",
       "5836  Daily Mail parent company in talks with potent...  positive\n",
       "5837  RISING costs have forced packaging producer Hu...  negative\n",
       "5841  HELSINKI AFX - KCI Konecranes said it has won ...  positive\n",
       "\n",
       "[2712 rows x 2 columns]"
      ]
     },
     "execution_count": 66,
     "metadata": {},
     "output_type": "execute_result"
    }
   ],
   "source": [
    "df"
   ]
  },
  {
   "cell_type": "code",
   "execution_count": 67,
   "id": "57c987cc",
   "metadata": {},
   "outputs": [
    {
     "data": {
      "text/plain": [
       "<AxesSubplot:>"
      ]
     },
     "execution_count": 67,
     "metadata": {},
     "output_type": "execute_result"
    },
    {
     "data": {
      "image/png": "[encoded data removed]",
      "text/plain": [
       "<Figure size 432x216 with 1 Axes>"
      ]
     },
     "metadata": {
      "needs_background": "light"
     },
     "output_type": "display_data"
    }
   ],
   "source": [
    "plt.figure(figsize=(6,3))\n",
    "\n",
    "df.Sentiment.hist()"
   ]
  },
  {
   "cell_type": "markdown",
   "id": "ce34051e",
   "metadata": {},
   "source": [
    "## Models"
   ]
  },
  {
   "cell_type": "code",
   "execution_count": 68,
   "id": "e2cb2b54",
   "metadata": {},
   "outputs": [],
   "source": [
    "X_train, X_test, y_train, y_test = train_test_split(df.Sentence, \n",
    "                                                    df.Sentiment, \n",
    "                                                    test_size=0.20,\n",
    "                                                    random_state=42)"
   ]
  },
  {
   "cell_type": "code",
   "execution_count": 69,
   "id": "978264f3",
   "metadata": {},
   "outputs": [
    {
     "data": {
      "text/plain": [
       "((2169,), (543,), (2169,), (543,))"
      ]
     },
     "execution_count": 69,
     "metadata": {},
     "output_type": "execute_result"
    }
   ],
   "source": [
    "X_train.shape, X_test.shape, y_train.shape, y_test.shape, "
   ]
  },
  {
   "cell_type": "markdown",
   "id": "d4e4d713",
   "metadata": {},
   "source": [
    "### LR"
   ]
  },
  {
   "cell_type": "markdown",
   "id": "dd1e1511",
   "metadata": {},
   "source": [
    "### Explications"
   ]
  },
  {
   "cell_type": "raw",
   "id": "53de7d15",
   "metadata": {},
   "source": [
    "corpus = ['This is the first document.',\n",
    "          'This document is the second document.',\n",
    "          'And this is the third one.',\n",
    "          'Is this the first document?']"
   ]
  },
  {
   "cell_type": "raw",
   "id": "dff71457",
   "metadata": {},
   "source": [
    "vec = TfidfVectorizer()\n",
    "X = vec.fit_transform(corpus)"
   ]
  },
  {
   "cell_type": "raw",
   "id": "dbe7a090",
   "metadata": {},
   "source": [
    "vec.vocabulary_"
   ]
  },
  {
   "cell_type": "raw",
   "id": "4182dce0",
   "metadata": {},
   "source": [
    "# tf ~= nb de fois que le mot apparaît dans la phrase / nb de mots de la phrase\n",
    "# df ~= nb de fois que le mot apparaît dans le document / nb de mots du document\n",
    "# tf * idf = tf / df\n",
    "np.round(X.todense(), 2)"
   ]
  },
  {
   "cell_type": "markdown",
   "id": "61fa2ee7",
   "metadata": {},
   "source": [
    "### Tf-Idf + LR: no pipeline"
   ]
  },
  {
   "cell_type": "code",
   "execution_count": 70,
   "id": "aec9d756",
   "metadata": {},
   "outputs": [],
   "source": [
    "# instancie un tf-idf\n",
    "vec = TfidfVectorizer()\n",
    "\n",
    "# entraîne et transforme le tf-idf sur le train set\n",
    "X_train_tfidf = vec.fit_transform(X_train)\n",
    "\n",
    "# ici, tf-idf est entraîné:\n",
    "# vocabulaire construit, fréquences des mots dans le document sont calculées..\n",
    "# transforme le test set\n",
    "X_test_tfidf = vec.transform(X_test)"
   ]
  },
  {
   "cell_type": "code",
   "execution_count": 71,
   "id": "1301d49a",
   "metadata": {},
   "outputs": [
    {
     "data": {
      "text/plain": [
       "((2169, 6353), (543, 6353))"
      ]
     },
     "execution_count": 71,
     "metadata": {},
     "output_type": "execute_result"
    }
   ],
   "source": [
    "X_train_tfidf.shape, X_test_tfidf.shape"
   ]
  },
  {
   "cell_type": "code",
   "execution_count": 72,
   "id": "abb61e84",
   "metadata": {},
   "outputs": [],
   "source": [
    "# instancie une régression logistique\n",
    "lr = LogisticRegression()\n",
    "\n",
    "# entraîne la régression logistique\n",
    "lr.fit(X_train_tfidf, y_train)\n",
    "\n",
    "# calcule les prédictions\n",
    "y_train_preds = lr.predict(X_train_tfidf)\n",
    "y_test_preds = lr.predict(X_test_tfidf)"
   ]
  },
  {
   "cell_type": "code",
   "execution_count": 46,
   "id": "5aa68cc1",
   "metadata": {},
   "outputs": [
    {
     "name": "stdout",
     "output_type": "stream",
     "text": [
      "              precision    recall  f1-score   support\n",
      "\n",
      "    negative      0.902     0.284     0.432       162\n",
      "    positive      0.764     0.987     0.861       381\n",
      "\n",
      "    accuracy                          0.777       543\n",
      "   macro avg      0.833     0.635     0.647       543\n",
      "weighted avg      0.805     0.777     0.733       543\n",
      "\n"
     ]
    }
   ],
   "source": [
    "print(classification_report(y_test, y_test_preds, digits=3))"
   ]
  },
  {
   "cell_type": "code",
   "execution_count": 47,
   "id": "6da9147b",
   "metadata": {},
   "outputs": [
    {
     "name": "stdout",
     "output_type": "stream",
     "text": [
      "              precision    recall  f1-score   support\n",
      "\n",
      "    negative      0.978     0.577     0.726       698\n",
      "    positive      0.832     0.994     0.906      1471\n",
      "\n",
      "    accuracy                          0.860      2169\n",
      "   macro avg      0.905     0.786     0.816      2169\n",
      "weighted avg      0.879     0.860     0.848      2169\n",
      "\n"
     ]
    }
   ],
   "source": [
    "print(classification_report(y_train, y_train_preds, digits=3))"
   ]
  },
  {
   "cell_type": "markdown",
   "id": "72f67a9b",
   "metadata": {},
   "source": [
    "### Tf-Idf + LR: pipeline"
   ]
  },
  {
   "cell_type": "code",
   "execution_count": 48,
   "id": "e71325b9",
   "metadata": {},
   "outputs": [],
   "source": [
    "# On regroupe les 2 étapes dans un pipeline\n",
    "\n",
    "pipe = Pipeline([\n",
    "    ('TfIdf', TfidfVectorizer()),\n",
    "    ('LogisticRegression', LogisticRegression())\n",
    "])"
   ]
  },
  {
   "cell_type": "code",
   "execution_count": 50,
   "id": "abfcebed",
   "metadata": {
    "scrolled": true
   },
   "outputs": [
    {
     "data": {
      "text/html": [
       "<style>#sk-container-id-2 {color: black;background-color: white;}#sk-container-id-2 pre{padding: 0;}#sk-container-id-2 div.sk-toggleable {background-color: white;}#sk-container-id-2 label.sk-toggleable__label {cursor: pointer;display: block;width: 100%;margin-bottom: 0;padding: 0.3em;box-sizing: border-box;text-align: center;}#sk-container-id-2 label.sk-toggleable__label-arrow:before {content: \"▸\";float: left;margin-right: 0.25em;color: #696969;}#sk-container-id-2 label.sk-toggleable__label-arrow:hover:before {color: black;}#sk-container-id-2 div.sk-estimator:hover label.sk-toggleable__label-arrow:before {color: black;}#sk-container-id-2 div.sk-toggleable__content {max-height: 0;max-width: 0;overflow: hidden;text-align: left;background-color: #f0f8ff;}#sk-container-id-2 div.sk-toggleable__content pre {margin: 0.2em;color: black;border-radius: 0.25em;background-color: #f0f8ff;}#sk-container-id-2 input.sk-toggleable__control:checked~div.sk-toggleable__content {max-height: 200px;max-width: 100%;overflow: auto;}#sk-container-id-2 input.sk-toggleable__control:checked~label.sk-toggleable__label-arrow:before {content: \"▾\";}#sk-container-id-2 div.sk-estimator input.sk-toggleable__control:checked~label.sk-toggleable__label {background-color: #d4ebff;}#sk-container-id-2 div.sk-label input.sk-toggleable__control:checked~label.sk-toggleable__label {background-color: #d4ebff;}#sk-container-id-2 input.sk-hidden--visually {border: 0;clip: rect(1px 1px 1px 1px);clip: rect(1px, 1px, 1px, 1px);height: 1px;margin: -1px;overflow: hidden;padding: 0;position: absolute;width: 1px;}#sk-container-id-2 div.sk-estimator {font-family: monospace;background-color: #f0f8ff;border: 1px dotted black;border-radius: 0.25em;box-sizing: border-box;margin-bottom: 0.5em;}#sk-container-id-2 div.sk-estimator:hover {background-color: #d4ebff;}#sk-container-id-2 div.sk-parallel-item::after {content: \"\";width: 100%;border-bottom: 1px solid gray;flex-grow: 1;}#sk-container-id-2 div.sk-label:hover label.sk-toggleable__label {background-color: #d4ebff;}#sk-container-id-2 div.sk-serial::before {content: \"\";position: absolute;border-left: 1px solid gray;box-sizing: border-box;top: 0;bottom: 0;left: 50%;z-index: 0;}#sk-container-id-2 div.sk-serial {display: flex;flex-direction: column;align-items: center;background-color: white;padding-right: 0.2em;padding-left: 0.2em;position: relative;}#sk-container-id-2 div.sk-item {position: relative;z-index: 1;}#sk-container-id-2 div.sk-parallel {display: flex;align-items: stretch;justify-content: center;background-color: white;position: relative;}#sk-container-id-2 div.sk-item::before, #sk-container-id-2 div.sk-parallel-item::before {content: \"\";position: absolute;border-left: 1px solid gray;box-sizing: border-box;top: 0;bottom: 0;left: 50%;z-index: -1;}#sk-container-id-2 div.sk-parallel-item {display: flex;flex-direction: column;z-index: 1;position: relative;background-color: white;}#sk-container-id-2 div.sk-parallel-item:first-child::after {align-self: flex-end;width: 50%;}#sk-container-id-2 div.sk-parallel-item:last-child::after {align-self: flex-start;width: 50%;}#sk-container-id-2 div.sk-parallel-item:only-child::after {width: 0;}#sk-container-id-2 div.sk-dashed-wrapped {border: 1px dashed gray;margin: 0 0.4em 0.5em 0.4em;box-sizing: border-box;padding-bottom: 0.4em;background-color: white;}#sk-container-id-2 div.sk-label label {font-family: monospace;font-weight: bold;display: inline-block;line-height: 1.2em;}#sk-container-id-2 div.sk-label-container {text-align: center;}#sk-container-id-2 div.sk-container {/* jupyter's `normalize.less` sets `[hidden] { display: none; }` but bootstrap.min.css set `[hidden] { display: none !important; }` so we also need the `!important` here to be able to override the default hidden behavior on the sphinx rendered scikit-learn.org. See: https://github.com/scikit-learn/scikit-learn/issues/21755 */display: inline-block !important;position: relative;}#sk-container-id-2 div.sk-text-repr-fallback {display: none;}</style><div id=\"sk-container-id-2\" class=\"sk-top-container\"><div class=\"sk-text-repr-fallback\"><pre>Pipeline(steps=[(&#x27;TfIdf&#x27;, TfidfVectorizer()),\n",
       "                (&#x27;LogisticRegression&#x27;, LogisticRegression())])</pre><b>In a Jupyter environment, please rerun this cell to show the HTML representation or trust the notebook. <br />On GitHub, the HTML representation is unable to render, please try loading this page with nbviewer.org.</b></div><div class=\"sk-container\" hidden><div class=\"sk-item sk-dashed-wrapped\"><div class=\"sk-label-container\"><div class=\"sk-label sk-toggleable\"><input class=\"sk-toggleable__control sk-hidden--visually\" id=\"sk-estimator-id-4\" type=\"checkbox\" ><label for=\"sk-estimator-id-4\" class=\"sk-toggleable__label sk-toggleable__label-arrow\">Pipeline</label><div class=\"sk-toggleable__content\"><pre>Pipeline(steps=[(&#x27;TfIdf&#x27;, TfidfVectorizer()),\n",
       "                (&#x27;LogisticRegression&#x27;, LogisticRegression())])</pre></div></div></div><div class=\"sk-serial\"><div class=\"sk-item\"><div class=\"sk-estimator sk-toggleable\"><input class=\"sk-toggleable__control sk-hidden--visually\" id=\"sk-estimator-id-5\" type=\"checkbox\" ><label for=\"sk-estimator-id-5\" class=\"sk-toggleable__label sk-toggleable__label-arrow\">TfidfVectorizer</label><div class=\"sk-toggleable__content\"><pre>TfidfVectorizer()</pre></div></div></div><div class=\"sk-item\"><div class=\"sk-estimator sk-toggleable\"><input class=\"sk-toggleable__control sk-hidden--visually\" id=\"sk-estimator-id-6\" type=\"checkbox\" ><label for=\"sk-estimator-id-6\" class=\"sk-toggleable__label sk-toggleable__label-arrow\">LogisticRegression</label><div class=\"sk-toggleable__content\"><pre>LogisticRegression()</pre></div></div></div></div></div></div></div>"
      ],
      "text/plain": [
       "Pipeline(steps=[('TfIdf', TfidfVectorizer()),\n",
       "                ('LogisticRegression', LogisticRegression())])"
      ]
     },
     "execution_count": 50,
     "metadata": {},
     "output_type": "execute_result"
    }
   ],
   "source": [
    "pipe.fit(X_train, y_train)"
   ]
  },
  {
   "cell_type": "code",
   "execution_count": 51,
   "id": "ff0787e1",
   "metadata": {},
   "outputs": [],
   "source": [
    "y_test_preds = pipe.predict(X_test)"
   ]
  },
  {
   "cell_type": "code",
   "execution_count": 53,
   "id": "0ca26aad",
   "metadata": {},
   "outputs": [
    {
     "name": "stdout",
     "output_type": "stream",
     "text": [
      "              precision    recall  f1-score   support\n",
      "\n",
      "    negative      0.902     0.284     0.432       162\n",
      "    positive      0.764     0.987     0.861       381\n",
      "\n",
      "    accuracy                          0.777       543\n",
      "   macro avg      0.833     0.635     0.647       543\n",
      "weighted avg      0.805     0.777     0.733       543\n",
      "\n"
     ]
    }
   ],
   "source": [
    "print(classification_report(y_test, y_test_preds, digits=3))"
   ]
  },
  {
   "cell_type": "markdown",
   "id": "c2ea4510",
   "metadata": {},
   "source": [
    "### Other models: LR, KNN, SVC and NB"
   ]
  },
  {
   "cell_type": "code",
   "execution_count": 81,
   "id": "d694fb6d",
   "metadata": {},
   "outputs": [],
   "source": [
    "models_d = {\"LR\" : LogisticRegression(), \n",
    "            \"KNN\" :  KNeighborsClassifier(), \n",
    "            \"SVC\" : SVC(),\n",
    "            \"NB\" : MultinomialNB()}"
   ]
  },
  {
   "cell_type": "code",
   "execution_count": 88,
   "id": "bc976c29",
   "metadata": {},
   "outputs": [
    {
     "name": "stdout",
     "output_type": "stream",
     "text": [
      "\n",
      "Results for model LR\n",
      "*********************\n",
      "              precision    recall  f1-score   support\n",
      "\n",
      "    negative      0.902     0.284     0.432       162\n",
      "    positive      0.764     0.987     0.861       381\n",
      "\n",
      "    accuracy                          0.777       543\n",
      "   macro avg      0.833     0.635     0.647       543\n",
      "weighted avg      0.805     0.777     0.733       543\n",
      "\n",
      "\n",
      "Results for model KNN\n",
      "*********************\n",
      "              precision    recall  f1-score   support\n",
      "\n",
      "    negative      0.664     0.488     0.562       162\n",
      "    positive      0.804     0.895     0.847       381\n",
      "\n",
      "    accuracy                          0.773       543\n",
      "   macro avg      0.734     0.691     0.705       543\n",
      "weighted avg      0.762     0.773     0.762       543\n",
      "\n",
      "\n",
      "Results for model SVC\n",
      "*********************\n",
      "              precision    recall  f1-score   support\n",
      "\n",
      "    negative      0.907     0.302     0.454       162\n",
      "    positive      0.769     0.987     0.864       381\n",
      "\n",
      "    accuracy                          0.783       543\n",
      "   macro avg      0.838     0.645     0.659       543\n",
      "weighted avg      0.810     0.783     0.742       543\n",
      "\n",
      "\n",
      "Results for model NB\n",
      "*********************\n",
      "              precision    recall  f1-score   support\n",
      "\n",
      "    negative      0.955     0.130     0.228       162\n",
      "    positive      0.729     0.997     0.843       381\n",
      "\n",
      "    accuracy                          0.738       543\n",
      "   macro avg      0.842     0.564     0.535       543\n",
      "weighted avg      0.797     0.738     0.659       543\n",
      "\n"
     ]
    }
   ],
   "source": [
    "for name, model in models_d.items():\n",
    "    \n",
    "    pipe = Pipeline([\n",
    "        (\"TfIdf\", TfidfVectorizer()),\n",
    "        (name, model)\n",
    "    ])\n",
    "    \n",
    "    pipe.fit(X_train, y_train)\n",
    "    y_hat = pipe.predict(X_test)\n",
    "    \n",
    "    print(f\"\\nResults for model {name}\")\n",
    "    print(\"*********************\")\n",
    "    print(classification_report(y_test, y_hat, digits=3))"
   ]
  },
  {
   "cell_type": "markdown",
   "id": "fea1bb6d",
   "metadata": {},
   "source": [
    "## Hyperparameter Tuning"
   ]
  },
  {
   "cell_type": "markdown",
   "id": "90c975f7",
   "metadata": {},
   "source": [
    "### No pipeline"
   ]
  },
  {
   "cell_type": "code",
   "execution_count": 89,
   "id": "e34c9adf",
   "metadata": {},
   "outputs": [
    {
     "name": "stdout",
     "output_type": "stream",
     "text": [
      "              precision    recall  f1-score   support\n",
      "\n",
      "    negative      0.907     0.302     0.454       162\n",
      "    positive      0.769     0.987     0.864       381\n",
      "\n",
      "    accuracy                          0.783       543\n",
      "   macro avg      0.838     0.645     0.659       543\n",
      "weighted avg      0.810     0.783     0.742       543\n",
      "\n"
     ]
    }
   ],
   "source": [
    "# Apparté: entraînement d'un KNN\n",
    "svc = SVC()\n",
    "svc.fit(X_train_tfidf, y_train)\n",
    "y_test_preds_svc = svc.predict(X_test_tfidf)\n",
    "\n",
    "print(classification_report(y_test, y_test_preds_svc, digits=3))"
   ]
  },
  {
   "cell_type": "code",
   "execution_count": 93,
   "id": "11b83e31",
   "metadata": {},
   "outputs": [
    {
     "name": "stdout",
     "output_type": "stream",
     "text": [
      "Fitting 5 folds for each of 20 candidates, totalling 100 fits\n",
      "[CV] END .............................C=0.001, kernel=linear; total time=   0.4s\n",
      "[CV] END .............................C=0.001, kernel=linear; total time=   0.3s\n",
      "[CV] END .............................C=0.001, kernel=linear; total time=   0.3s\n",
      "[CV] END .............................C=0.001, kernel=linear; total time=   0.3s\n",
      "[CV] END .............................C=0.001, kernel=linear; total time=   0.3s\n",
      "[CV] END ...............................C=0.001, kernel=poly; total time=   0.4s\n",
      "[CV] END ...............................C=0.001, kernel=poly; total time=   0.4s\n",
      "[CV] END ...............................C=0.001, kernel=poly; total time=   0.4s\n",
      "[CV] END ...............................C=0.001, kernel=poly; total time=   0.4s\n",
      "[CV] END ...............................C=0.001, kernel=poly; total time=   0.4s\n",
      "[CV] END ................................C=0.001, kernel=rbf; total time=   0.4s\n",
      "[CV] END ................................C=0.001, kernel=rbf; total time=   0.4s\n",
      "[CV] END ................................C=0.001, kernel=rbf; total time=   0.4s\n",
      "[CV] END ................................C=0.001, kernel=rbf; total time=   0.4s\n",
      "[CV] END ................................C=0.001, kernel=rbf; total time=   0.4s\n",
      "[CV] END ............................C=0.001, kernel=sigmoid; total time=   0.3s\n",
      "[CV] END ............................C=0.001, kernel=sigmoid; total time=   0.3s\n",
      "[CV] END ............................C=0.001, kernel=sigmoid; total time=   0.4s\n",
      "[CV] END ............................C=0.001, kernel=sigmoid; total time=   0.3s\n",
      "[CV] END ............................C=0.001, kernel=sigmoid; total time=   0.3s\n",
      "[CV] END ...............................C=0.1, kernel=linear; total time=   0.4s\n",
      "[CV] END ...............................C=0.1, kernel=linear; total time=   0.4s\n",
      "[CV] END ...............................C=0.1, kernel=linear; total time=   0.4s\n",
      "[CV] END ...............................C=0.1, kernel=linear; total time=   0.4s\n",
      "[CV] END ...............................C=0.1, kernel=linear; total time=   0.4s\n",
      "[CV] END .................................C=0.1, kernel=poly; total time=   0.6s\n",
      "[CV] END .................................C=0.1, kernel=poly; total time=   0.5s\n",
      "[CV] END .................................C=0.1, kernel=poly; total time=   0.5s\n",
      "[CV] END .................................C=0.1, kernel=poly; total time=   0.5s\n",
      "[CV] END .................................C=0.1, kernel=poly; total time=   0.5s\n",
      "[CV] END ..................................C=0.1, kernel=rbf; total time=   0.5s\n",
      "[CV] END ..................................C=0.1, kernel=rbf; total time=   0.6s\n",
      "[CV] END ..................................C=0.1, kernel=rbf; total time=   0.5s\n",
      "[CV] END ..................................C=0.1, kernel=rbf; total time=   0.5s\n",
      "[CV] END ..................................C=0.1, kernel=rbf; total time=   0.5s\n",
      "[CV] END ..............................C=0.1, kernel=sigmoid; total time=   0.4s\n",
      "[CV] END ..............................C=0.1, kernel=sigmoid; total time=   0.4s\n",
      "[CV] END ..............................C=0.1, kernel=sigmoid; total time=   0.4s\n",
      "[CV] END ..............................C=0.1, kernel=sigmoid; total time=   0.4s\n",
      "[CV] END ..............................C=0.1, kernel=sigmoid; total time=   0.4s\n",
      "[CV] END .................................C=1, kernel=linear; total time=   0.4s\n",
      "[CV] END .................................C=1, kernel=linear; total time=   0.4s\n",
      "[CV] END .................................C=1, kernel=linear; total time=   0.4s\n",
      "[CV] END .................................C=1, kernel=linear; total time=   0.4s\n",
      "[CV] END .................................C=1, kernel=linear; total time=   0.4s\n",
      "[CV] END ...................................C=1, kernel=poly; total time=   0.6s\n",
      "[CV] END ...................................C=1, kernel=poly; total time=   0.5s\n",
      "[CV] END ...................................C=1, kernel=poly; total time=   0.6s\n",
      "[CV] END ...................................C=1, kernel=poly; total time=   0.5s\n",
      "[CV] END ...................................C=1, kernel=poly; total time=   0.5s\n",
      "[CV] END ....................................C=1, kernel=rbf; total time=   0.5s\n",
      "[CV] END ....................................C=1, kernel=rbf; total time=   0.5s\n",
      "[CV] END ....................................C=1, kernel=rbf; total time=   0.5s\n",
      "[CV] END ....................................C=1, kernel=rbf; total time=   0.5s\n",
      "[CV] END ....................................C=1, kernel=rbf; total time=   0.5s\n",
      "[CV] END ................................C=1, kernel=sigmoid; total time=   0.4s\n",
      "[CV] END ................................C=1, kernel=sigmoid; total time=   0.4s\n",
      "[CV] END ................................C=1, kernel=sigmoid; total time=   0.4s\n",
      "[CV] END ................................C=1, kernel=sigmoid; total time=   0.4s\n",
      "[CV] END ................................C=1, kernel=sigmoid; total time=   0.4s\n",
      "[CV] END ................................C=10, kernel=linear; total time=   0.4s\n",
      "[CV] END ................................C=10, kernel=linear; total time=   0.4s\n",
      "[CV] END ................................C=10, kernel=linear; total time=   0.4s\n",
      "[CV] END ................................C=10, kernel=linear; total time=   0.4s\n",
      "[CV] END ................................C=10, kernel=linear; total time=   0.4s\n",
      "[CV] END ..................................C=10, kernel=poly; total time=   0.6s\n",
      "[CV] END ..................................C=10, kernel=poly; total time=   0.6s\n",
      "[CV] END ..................................C=10, kernel=poly; total time=   0.6s\n",
      "[CV] END ..................................C=10, kernel=poly; total time=   0.6s\n",
      "[CV] END ..................................C=10, kernel=poly; total time=   0.6s\n",
      "[CV] END ...................................C=10, kernel=rbf; total time=   0.6s\n",
      "[CV] END ...................................C=10, kernel=rbf; total time=   0.6s\n",
      "[CV] END ...................................C=10, kernel=rbf; total time=   0.6s\n",
      "[CV] END ...................................C=10, kernel=rbf; total time=   0.6s\n",
      "[CV] END ...................................C=10, kernel=rbf; total time=   0.6s\n",
      "[CV] END ...............................C=10, kernel=sigmoid; total time=   0.4s\n",
      "[CV] END ...............................C=10, kernel=sigmoid; total time=   0.4s\n",
      "[CV] END ...............................C=10, kernel=sigmoid; total time=   0.4s\n",
      "[CV] END ...............................C=10, kernel=sigmoid; total time=   0.4s\n",
      "[CV] END ...............................C=10, kernel=sigmoid; total time=   0.3s\n",
      "[CV] END ...............................C=100, kernel=linear; total time=   0.5s\n",
      "[CV] END ...............................C=100, kernel=linear; total time=   0.4s\n",
      "[CV] END ...............................C=100, kernel=linear; total time=   0.4s\n",
      "[CV] END ...............................C=100, kernel=linear; total time=   0.4s\n",
      "[CV] END ...............................C=100, kernel=linear; total time=   0.4s\n",
      "[CV] END .................................C=100, kernel=poly; total time=   0.6s\n",
      "[CV] END .................................C=100, kernel=poly; total time=   0.6s\n",
      "[CV] END .................................C=100, kernel=poly; total time=   0.6s\n",
      "[CV] END .................................C=100, kernel=poly; total time=   0.6s\n",
      "[CV] END .................................C=100, kernel=poly; total time=   0.6s\n",
      "[CV] END ..................................C=100, kernel=rbf; total time=   0.6s\n",
      "[CV] END ..................................C=100, kernel=rbf; total time=   0.6s\n",
      "[CV] END ..................................C=100, kernel=rbf; total time=   0.6s\n",
      "[CV] END ..................................C=100, kernel=rbf; total time=   0.6s\n",
      "[CV] END ..................................C=100, kernel=rbf; total time=   0.6s\n",
      "[CV] END ..............................C=100, kernel=sigmoid; total time=   0.3s\n",
      "[CV] END ..............................C=100, kernel=sigmoid; total time=   0.3s\n",
      "[CV] END ..............................C=100, kernel=sigmoid; total time=   0.3s\n",
      "[CV] END ..............................C=100, kernel=sigmoid; total time=   0.5s\n",
      "[CV] END ..............................C=100, kernel=sigmoid; total time=   0.3s\n"
     ]
    },
    {
     "data": {
      "text/html": [
       "<style>#sk-container-id-3 {color: black;background-color: white;}#sk-container-id-3 pre{padding: 0;}#sk-container-id-3 div.sk-toggleable {background-color: white;}#sk-container-id-3 label.sk-toggleable__label {cursor: pointer;display: block;width: 100%;margin-bottom: 0;padding: 0.3em;box-sizing: border-box;text-align: center;}#sk-container-id-3 label.sk-toggleable__label-arrow:before {content: \"▸\";float: left;margin-right: 0.25em;color: #696969;}#sk-container-id-3 label.sk-toggleable__label-arrow:hover:before {color: black;}#sk-container-id-3 div.sk-estimator:hover label.sk-toggleable__label-arrow:before {color: black;}#sk-container-id-3 div.sk-toggleable__content {max-height: 0;max-width: 0;overflow: hidden;text-align: left;background-color: #f0f8ff;}#sk-container-id-3 div.sk-toggleable__content pre {margin: 0.2em;color: black;border-radius: 0.25em;background-color: #f0f8ff;}#sk-container-id-3 input.sk-toggleable__control:checked~div.sk-toggleable__content {max-height: 200px;max-width: 100%;overflow: auto;}#sk-container-id-3 input.sk-toggleable__control:checked~label.sk-toggleable__label-arrow:before {content: \"▾\";}#sk-container-id-3 div.sk-estimator input.sk-toggleable__control:checked~label.sk-toggleable__label {background-color: #d4ebff;}#sk-container-id-3 div.sk-label input.sk-toggleable__control:checked~label.sk-toggleable__label {background-color: #d4ebff;}#sk-container-id-3 input.sk-hidden--visually {border: 0;clip: rect(1px 1px 1px 1px);clip: rect(1px, 1px, 1px, 1px);height: 1px;margin: -1px;overflow: hidden;padding: 0;position: absolute;width: 1px;}#sk-container-id-3 div.sk-estimator {font-family: monospace;background-color: #f0f8ff;border: 1px dotted black;border-radius: 0.25em;box-sizing: border-box;margin-bottom: 0.5em;}#sk-container-id-3 div.sk-estimator:hover {background-color: #d4ebff;}#sk-container-id-3 div.sk-parallel-item::after {content: \"\";width: 100%;border-bottom: 1px solid gray;flex-grow: 1;}#sk-container-id-3 div.sk-label:hover label.sk-toggleable__label {background-color: #d4ebff;}#sk-container-id-3 div.sk-serial::before {content: \"\";position: absolute;border-left: 1px solid gray;box-sizing: border-box;top: 0;bottom: 0;left: 50%;z-index: 0;}#sk-container-id-3 div.sk-serial {display: flex;flex-direction: column;align-items: center;background-color: white;padding-right: 0.2em;padding-left: 0.2em;position: relative;}#sk-container-id-3 div.sk-item {position: relative;z-index: 1;}#sk-container-id-3 div.sk-parallel {display: flex;align-items: stretch;justify-content: center;background-color: white;position: relative;}#sk-container-id-3 div.sk-item::before, #sk-container-id-3 div.sk-parallel-item::before {content: \"\";position: absolute;border-left: 1px solid gray;box-sizing: border-box;top: 0;bottom: 0;left: 50%;z-index: -1;}#sk-container-id-3 div.sk-parallel-item {display: flex;flex-direction: column;z-index: 1;position: relative;background-color: white;}#sk-container-id-3 div.sk-parallel-item:first-child::after {align-self: flex-end;width: 50%;}#sk-container-id-3 div.sk-parallel-item:last-child::after {align-self: flex-start;width: 50%;}#sk-container-id-3 div.sk-parallel-item:only-child::after {width: 0;}#sk-container-id-3 div.sk-dashed-wrapped {border: 1px dashed gray;margin: 0 0.4em 0.5em 0.4em;box-sizing: border-box;padding-bottom: 0.4em;background-color: white;}#sk-container-id-3 div.sk-label label {font-family: monospace;font-weight: bold;display: inline-block;line-height: 1.2em;}#sk-container-id-3 div.sk-label-container {text-align: center;}#sk-container-id-3 div.sk-container {/* jupyter's `normalize.less` sets `[hidden] { display: none; }` but bootstrap.min.css set `[hidden] { display: none !important; }` so we also need the `!important` here to be able to override the default hidden behavior on the sphinx rendered scikit-learn.org. See: https://github.com/scikit-learn/scikit-learn/issues/21755 */display: inline-block !important;position: relative;}#sk-container-id-3 div.sk-text-repr-fallback {display: none;}</style><div id=\"sk-container-id-3\" class=\"sk-top-container\"><div class=\"sk-text-repr-fallback\"><pre>GridSearchCV(estimator=SVC(),\n",
       "             param_grid={&#x27;C&#x27;: [0.001, 0.1, 1, 10, 100],\n",
       "                         &#x27;kernel&#x27;: [&#x27;linear&#x27;, &#x27;poly&#x27;, &#x27;rbf&#x27;, &#x27;sigmoid&#x27;]},\n",
       "             verbose=2)</pre><b>In a Jupyter environment, please rerun this cell to show the HTML representation or trust the notebook. <br />On GitHub, the HTML representation is unable to render, please try loading this page with nbviewer.org.</b></div><div class=\"sk-container\" hidden><div class=\"sk-item sk-dashed-wrapped\"><div class=\"sk-label-container\"><div class=\"sk-label sk-toggleable\"><input class=\"sk-toggleable__control sk-hidden--visually\" id=\"sk-estimator-id-7\" type=\"checkbox\" ><label for=\"sk-estimator-id-7\" class=\"sk-toggleable__label sk-toggleable__label-arrow\">GridSearchCV</label><div class=\"sk-toggleable__content\"><pre>GridSearchCV(estimator=SVC(),\n",
       "             param_grid={&#x27;C&#x27;: [0.001, 0.1, 1, 10, 100],\n",
       "                         &#x27;kernel&#x27;: [&#x27;linear&#x27;, &#x27;poly&#x27;, &#x27;rbf&#x27;, &#x27;sigmoid&#x27;]},\n",
       "             verbose=2)</pre></div></div></div><div class=\"sk-parallel\"><div class=\"sk-parallel-item\"><div class=\"sk-item\"><div class=\"sk-label-container\"><div class=\"sk-label sk-toggleable\"><input class=\"sk-toggleable__control sk-hidden--visually\" id=\"sk-estimator-id-8\" type=\"checkbox\" ><label for=\"sk-estimator-id-8\" class=\"sk-toggleable__label sk-toggleable__label-arrow\">estimator: SVC</label><div class=\"sk-toggleable__content\"><pre>SVC()</pre></div></div></div><div class=\"sk-serial\"><div class=\"sk-item\"><div class=\"sk-estimator sk-toggleable\"><input class=\"sk-toggleable__control sk-hidden--visually\" id=\"sk-estimator-id-9\" type=\"checkbox\" ><label for=\"sk-estimator-id-9\" class=\"sk-toggleable__label sk-toggleable__label-arrow\">SVC</label><div class=\"sk-toggleable__content\"><pre>SVC()</pre></div></div></div></div></div></div></div></div></div></div>"
      ],
      "text/plain": [
       "GridSearchCV(estimator=SVC(),\n",
       "             param_grid={'C': [0.001, 0.1, 1, 10, 100],\n",
       "                         'kernel': ['linear', 'poly', 'rbf', 'sigmoid']},\n",
       "             verbose=2)"
      ]
     },
     "execution_count": 93,
     "metadata": {},
     "output_type": "execute_result"
    }
   ],
   "source": [
    "parameters = {\"C\" : [0.001, 0.1, 1, 10, 100], \n",
    "              \"kernel\" : ['linear', 'poly', 'rbf', 'sigmoid']}\n",
    "\n",
    "svc = SVC()\n",
    "gs = GridSearchCV(svc, parameters, verbose=2)\n",
    "gs.fit(X_train_tfidf, y_train)"
   ]
  },
  {
   "cell_type": "code",
   "execution_count": 95,
   "id": "d94ed14e",
   "metadata": {},
   "outputs": [
    {
     "data": {
      "text/plain": [
       "{'C': 1, 'kernel': 'linear'}"
      ]
     },
     "execution_count": 95,
     "metadata": {},
     "output_type": "execute_result"
    }
   ],
   "source": [
    "gs.best_params_"
   ]
  },
  {
   "cell_type": "code",
   "execution_count": 96,
   "id": "a5c8d791",
   "metadata": {},
   "outputs": [],
   "source": [
    "y_hat = gs.predict(X_test_tfidf)"
   ]
  },
  {
   "cell_type": "code",
   "execution_count": 97,
   "id": "51b7bf72",
   "metadata": {},
   "outputs": [
    {
     "name": "stdout",
     "output_type": "stream",
     "text": [
      "              precision    recall  f1-score   support\n",
      "\n",
      "    negative      0.830     0.481     0.609       162\n",
      "    positive      0.813     0.958     0.880       381\n",
      "\n",
      "    accuracy                          0.816       543\n",
      "   macro avg      0.821     0.720     0.744       543\n",
      "weighted avg      0.818     0.816     0.799       543\n",
      "\n"
     ]
    }
   ],
   "source": [
    "print(classification_report(y_test, y_hat, digits=3))"
   ]
  },
  {
   "cell_type": "markdown",
   "id": "18e4b0a9",
   "metadata": {},
   "source": [
    "### Pipeline"
   ]
  },
  {
   "cell_type": "code",
   "execution_count": 102,
   "id": "79a19735",
   "metadata": {},
   "outputs": [],
   "source": [
    "parameters = {\n",
    "              \"TfIdf__ngram_range\" : [(1,1), (1,2)],\n",
    "              \"TfIdf__stop_words\" : [None, \"english\"],\n",
    "              \"SVC__C\" : [0.001, 0.1, 1, 10, 100], \n",
    "              \"SVC__kernel\" : ['linear', 'poly', 'rbf', 'sigmoid']\n",
    "            }"
   ]
  },
  {
   "cell_type": "code",
   "execution_count": 103,
   "id": "8acf2caa",
   "metadata": {},
   "outputs": [],
   "source": [
    "pipe = Pipeline([\n",
    "        (\"TfIdf\", TfidfVectorizer()),\n",
    "        (\"SVC\", SVC())\n",
    "    ])"
   ]
  },
  {
   "cell_type": "code",
   "execution_count": 104,
   "id": "762b60ee",
   "metadata": {},
   "outputs": [
    {
     "name": "stdout",
     "output_type": "stream",
     "text": [
      "Fitting 5 folds for each of 80 candidates, totalling 400 fits\n"
     ]
    },
    {
     "data": {
      "text/html": [
       "<style>#sk-container-id-5 {color: black;background-color: white;}#sk-container-id-5 pre{padding: 0;}#sk-container-id-5 div.sk-toggleable {background-color: white;}#sk-container-id-5 label.sk-toggleable__label {cursor: pointer;display: block;width: 100%;margin-bottom: 0;padding: 0.3em;box-sizing: border-box;text-align: center;}#sk-container-id-5 label.sk-toggleable__label-arrow:before {content: \"▸\";float: left;margin-right: 0.25em;color: #696969;}#sk-container-id-5 label.sk-toggleable__label-arrow:hover:before {color: black;}#sk-container-id-5 div.sk-estimator:hover label.sk-toggleable__label-arrow:before {color: black;}#sk-container-id-5 div.sk-toggleable__content {max-height: 0;max-width: 0;overflow: hidden;text-align: left;background-color: #f0f8ff;}#sk-container-id-5 div.sk-toggleable__content pre {margin: 0.2em;color: black;border-radius: 0.25em;background-color: #f0f8ff;}#sk-container-id-5 input.sk-toggleable__control:checked~div.sk-toggleable__content {max-height: 200px;max-width: 100%;overflow: auto;}#sk-container-id-5 input.sk-toggleable__control:checked~label.sk-toggleable__label-arrow:before {content: \"▾\";}#sk-container-id-5 div.sk-estimator input.sk-toggleable__control:checked~label.sk-toggleable__label {background-color: #d4ebff;}#sk-container-id-5 div.sk-label input.sk-toggleable__control:checked~label.sk-toggleable__label {background-color: #d4ebff;}#sk-container-id-5 input.sk-hidden--visually {border: 0;clip: rect(1px 1px 1px 1px);clip: rect(1px, 1px, 1px, 1px);height: 1px;margin: -1px;overflow: hidden;padding: 0;position: absolute;width: 1px;}#sk-container-id-5 div.sk-estimator {font-family: monospace;background-color: #f0f8ff;border: 1px dotted black;border-radius: 0.25em;box-sizing: border-box;margin-bottom: 0.5em;}#sk-container-id-5 div.sk-estimator:hover {background-color: #d4ebff;}#sk-container-id-5 div.sk-parallel-item::after {content: \"\";width: 100%;border-bottom: 1px solid gray;flex-grow: 1;}#sk-container-id-5 div.sk-label:hover label.sk-toggleable__label {background-color: #d4ebff;}#sk-container-id-5 div.sk-serial::before {content: \"\";position: absolute;border-left: 1px solid gray;box-sizing: border-box;top: 0;bottom: 0;left: 50%;z-index: 0;}#sk-container-id-5 div.sk-serial {display: flex;flex-direction: column;align-items: center;background-color: white;padding-right: 0.2em;padding-left: 0.2em;position: relative;}#sk-container-id-5 div.sk-item {position: relative;z-index: 1;}#sk-container-id-5 div.sk-parallel {display: flex;align-items: stretch;justify-content: center;background-color: white;position: relative;}#sk-container-id-5 div.sk-item::before, #sk-container-id-5 div.sk-parallel-item::before {content: \"\";position: absolute;border-left: 1px solid gray;box-sizing: border-box;top: 0;bottom: 0;left: 50%;z-index: -1;}#sk-container-id-5 div.sk-parallel-item {display: flex;flex-direction: column;z-index: 1;position: relative;background-color: white;}#sk-container-id-5 div.sk-parallel-item:first-child::after {align-self: flex-end;width: 50%;}#sk-container-id-5 div.sk-parallel-item:last-child::after {align-self: flex-start;width: 50%;}#sk-container-id-5 div.sk-parallel-item:only-child::after {width: 0;}#sk-container-id-5 div.sk-dashed-wrapped {border: 1px dashed gray;margin: 0 0.4em 0.5em 0.4em;box-sizing: border-box;padding-bottom: 0.4em;background-color: white;}#sk-container-id-5 div.sk-label label {font-family: monospace;font-weight: bold;display: inline-block;line-height: 1.2em;}#sk-container-id-5 div.sk-label-container {text-align: center;}#sk-container-id-5 div.sk-container {/* jupyter's `normalize.less` sets `[hidden] { display: none; }` but bootstrap.min.css set `[hidden] { display: none !important; }` so we also need the `!important` here to be able to override the default hidden behavior on the sphinx rendered scikit-learn.org. See: https://github.com/scikit-learn/scikit-learn/issues/21755 */display: inline-block !important;position: relative;}#sk-container-id-5 div.sk-text-repr-fallback {display: none;}</style><div id=\"sk-container-id-5\" class=\"sk-top-container\"><div class=\"sk-text-repr-fallback\"><pre>GridSearchCV(estimator=Pipeline(steps=[(&#x27;TfIdf&#x27;, TfidfVectorizer()),\n",
       "                                       (&#x27;SVC&#x27;, SVC())]),\n",
       "             param_grid={&#x27;SVC__C&#x27;: [0.001, 0.1, 1, 10, 100],\n",
       "                         &#x27;SVC__kernel&#x27;: [&#x27;linear&#x27;, &#x27;poly&#x27;, &#x27;rbf&#x27;, &#x27;sigmoid&#x27;],\n",
       "                         &#x27;TfIdf__ngram_range&#x27;: [(1, 1), (1, 2)],\n",
       "                         &#x27;TfIdf__stop_words&#x27;: [None, &#x27;english&#x27;]},\n",
       "             verbose=1)</pre><b>In a Jupyter environment, please rerun this cell to show the HTML representation or trust the notebook. <br />On GitHub, the HTML representation is unable to render, please try loading this page with nbviewer.org.</b></div><div class=\"sk-container\" hidden><div class=\"sk-item sk-dashed-wrapped\"><div class=\"sk-label-container\"><div class=\"sk-label sk-toggleable\"><input class=\"sk-toggleable__control sk-hidden--visually\" id=\"sk-estimator-id-13\" type=\"checkbox\" ><label for=\"sk-estimator-id-13\" class=\"sk-toggleable__label sk-toggleable__label-arrow\">GridSearchCV</label><div class=\"sk-toggleable__content\"><pre>GridSearchCV(estimator=Pipeline(steps=[(&#x27;TfIdf&#x27;, TfidfVectorizer()),\n",
       "                                       (&#x27;SVC&#x27;, SVC())]),\n",
       "             param_grid={&#x27;SVC__C&#x27;: [0.001, 0.1, 1, 10, 100],\n",
       "                         &#x27;SVC__kernel&#x27;: [&#x27;linear&#x27;, &#x27;poly&#x27;, &#x27;rbf&#x27;, &#x27;sigmoid&#x27;],\n",
       "                         &#x27;TfIdf__ngram_range&#x27;: [(1, 1), (1, 2)],\n",
       "                         &#x27;TfIdf__stop_words&#x27;: [None, &#x27;english&#x27;]},\n",
       "             verbose=1)</pre></div></div></div><div class=\"sk-parallel\"><div class=\"sk-parallel-item\"><div class=\"sk-item\"><div class=\"sk-label-container\"><div class=\"sk-label sk-toggleable\"><input class=\"sk-toggleable__control sk-hidden--visually\" id=\"sk-estimator-id-14\" type=\"checkbox\" ><label for=\"sk-estimator-id-14\" class=\"sk-toggleable__label sk-toggleable__label-arrow\">estimator: Pipeline</label><div class=\"sk-toggleable__content\"><pre>Pipeline(steps=[(&#x27;TfIdf&#x27;, TfidfVectorizer()), (&#x27;SVC&#x27;, SVC())])</pre></div></div></div><div class=\"sk-serial\"><div class=\"sk-item\"><div class=\"sk-serial\"><div class=\"sk-item\"><div class=\"sk-estimator sk-toggleable\"><input class=\"sk-toggleable__control sk-hidden--visually\" id=\"sk-estimator-id-15\" type=\"checkbox\" ><label for=\"sk-estimator-id-15\" class=\"sk-toggleable__label sk-toggleable__label-arrow\">TfidfVectorizer</label><div class=\"sk-toggleable__content\"><pre>TfidfVectorizer()</pre></div></div></div><div class=\"sk-item\"><div class=\"sk-estimator sk-toggleable\"><input class=\"sk-toggleable__control sk-hidden--visually\" id=\"sk-estimator-id-16\" type=\"checkbox\" ><label for=\"sk-estimator-id-16\" class=\"sk-toggleable__label sk-toggleable__label-arrow\">SVC</label><div class=\"sk-toggleable__content\"><pre>SVC()</pre></div></div></div></div></div></div></div></div></div></div></div></div>"
      ],
      "text/plain": [
       "GridSearchCV(estimator=Pipeline(steps=[('TfIdf', TfidfVectorizer()),\n",
       "                                       ('SVC', SVC())]),\n",
       "             param_grid={'SVC__C': [0.001, 0.1, 1, 10, 100],\n",
       "                         'SVC__kernel': ['linear', 'poly', 'rbf', 'sigmoid'],\n",
       "                         'TfIdf__ngram_range': [(1, 1), (1, 2)],\n",
       "                         'TfIdf__stop_words': [None, 'english']},\n",
       "             verbose=1)"
      ]
     },
     "execution_count": 104,
     "metadata": {},
     "output_type": "execute_result"
    }
   ],
   "source": [
    "gs = GridSearchCV(pipe, parameters, verbose=1)\n",
    "gs.fit(X_train, y_train)"
   ]
  },
  {
   "cell_type": "code",
   "execution_count": 106,
   "id": "8c3152b0",
   "metadata": {},
   "outputs": [
    {
     "data": {
      "text/plain": [
       "{'SVC__C': 1,\n",
       " 'SVC__kernel': 'linear',\n",
       " 'TfIdf__ngram_range': (1, 1),\n",
       " 'TfIdf__stop_words': None}"
      ]
     },
     "execution_count": 106,
     "metadata": {},
     "output_type": "execute_result"
    }
   ],
   "source": [
    "gs.best_params_"
   ]
  },
  {
   "cell_type": "code",
   "execution_count": 107,
   "id": "7f67bdae",
   "metadata": {},
   "outputs": [],
   "source": [
    "y_hat = gs.predict(X_test)"
   ]
  },
  {
   "cell_type": "code",
   "execution_count": 110,
   "id": "50279cad",
   "metadata": {},
   "outputs": [
    {
     "name": "stdout",
     "output_type": "stream",
     "text": [
      "              precision    recall  f1-score   support\n",
      "\n",
      "    negative      0.830     0.481     0.609       162\n",
      "    positive      0.813     0.958     0.880       381\n",
      "\n",
      "    accuracy                          0.816       543\n",
      "   macro avg      0.821     0.720     0.744       543\n",
      "weighted avg      0.818     0.816     0.799       543\n",
      "\n"
     ]
    }
   ],
   "source": [
    "print(classification_report(y_test, y_hat, digits=3))"
   ]
  },
  {
   "cell_type": "markdown",
   "id": "e5861798",
   "metadata": {},
   "source": [
    "## Save and load model"
   ]
  },
  {
   "cell_type": "code",
   "execution_count": 111,
   "id": "d7007562",
   "metadata": {},
   "outputs": [],
   "source": [
    "import pickle"
   ]
  },
  {
   "cell_type": "code",
   "execution_count": 112,
   "id": "6e0d3e80",
   "metadata": {},
   "outputs": [],
   "source": [
    "with open(\"model.pkl\", \"wb\") as f:\n",
    "    pickle.dump(gs, f)"
   ]
  },
  {
   "cell_type": "code",
   "execution_count": 113,
   "id": "22e76dd4",
   "metadata": {},
   "outputs": [],
   "source": [
    "with open(\"model.pkl\", \"rb\") as f:\n",
    "    new_model = pickle.load(f)"
   ]
  },
  {
   "cell_type": "code",
   "execution_count": 114,
   "id": "d9f8663d",
   "metadata": {},
   "outputs": [
    {
     "name": "stdout",
     "output_type": "stream",
     "text": [
      "              precision    recall  f1-score   support\n",
      "\n",
      "    negative      0.830     0.481     0.609       162\n",
      "    positive      0.813     0.958     0.880       381\n",
      "\n",
      "    accuracy                          0.816       543\n",
      "   macro avg      0.821     0.720     0.744       543\n",
      "weighted avg      0.818     0.816     0.799       543\n",
      "\n"
     ]
    }
   ],
   "source": [
    "y_hat = new_model.predict(X_test)\n",
    "print(classification_report(y_test, y_hat, digits=3))"
   ]
  },
  {
   "cell_type": "code",
   "execution_count": null,
   "id": "5295efc4",
   "metadata": {},
   "outputs": [],
   "source": []
  }
 ],
 "metadata": {
  "kernelspec": {
   "display_name": "Python 3 (ipykernel)",
   "language": "python",
   "name": "python3"
  },
  "language_info": {
   "codemirror_mode": {
    "name": "ipython",
    "version": 3
   },
   "file_extension": ".py",
   "mimetype": "text/x-python",
   "name": "python",
   "nbconvert_exporter": "python",
   "pygments_lexer": "ipython3",
   "version": "3.9.5"
  }
 },
 "nbformat": 4,
 "nbformat_minor": 5
}
